{
 "cells": [
  {
   "cell_type": "markdown",
   "metadata": {},
   "source": [
    "<h1 style=\"text-align:center\"> Cryptography </h1>"
   ]
  },
  {
   "cell_type": "markdown",
   "metadata": {},
   "source": [
    "# Table of Contents\n",
    "* [Historical cipher](#Historical-cipher)\n",
    "\t* [Monoalphabetic cipher](#Monoalphabetic-cipher)\n",
    "\t\t* [Shift ciphers](#Shift-ciphers)\n",
    "\t\t* [Monoalphabetic substitution chipers](#Monoalphabetic-substitution-chipers)\n",
    "\t* [Polyalphabetic ciphers](#Polyalphabetic-ciphers)\n",
    "\t\t* [Polialphabetic substitution ciphers](#Polialphabetic-substitution-ciphers)\n",
    "\t\t* [Vigenere cipher](#Vigenere-cipher)\n",
    "\t* [Permutation ciphers](#Permutation-ciphers)\n",
    "\t* [Lesson learned from historical chipers](#Lesson-learned-from-historical-chipers)\n",
    "* [Perfect secrecy](#Perfect-secrecy)\n"
   ]
  },
  {
   "cell_type": "markdown",
   "metadata": {},
   "source": [
    "# Historical cipher"
   ]
  },
  {
   "cell_type": "markdown",
   "metadata": {},
   "source": [
    "## Monoalphabetic cipher"
   ]
  },
  {
   "cell_type": "markdown",
   "metadata": {},
   "source": [
    "Ciphers that works on the same alphabeth on both **ptx** and **ctx**"
   ]
  },
  {
   "cell_type": "markdown",
   "metadata": {},
   "source": [
    "### Shift ciphers"
   ]
  },
  {
   "cell_type": "markdown",
   "metadata": {},
   "source": [
    "Every letter of the ptx is shifted by a constant k\n",
    "\n",
    "**ES : ctx[0] = (ptx[0] + k) mod |A|**\n",
    "\n",
    "|A| -> Aplhabeth cardinality\n",
    "\n",
    "- **Keyspace** : \n",
    "\\begin{equation*}\n",
    "|A|\n",
    "\\end{equation*}"
   ]
  },
  {
   "cell_type": "markdown",
   "metadata": {},
   "source": [
    "### Monoalphabetic substitution chipers"
   ]
  },
  {
   "cell_type": "markdown",
   "metadata": {},
   "source": [
    "Every letter of the ptx is substituted with a fixed destination letter following a predefined substitution table\n",
    "\n",
    "**ES :**"
   ]
  },
  {
   "cell_type": "markdown",
   "metadata": {},
   "source": [
    "<img  src=\"JKL4WMI0E3WJ0MCTNQIJAQS29LUSKLD1.png\"/>"
   ]
  },
  {
   "cell_type": "markdown",
   "metadata": {},
   "source": [
    "**ABC -> tmk**\n",
    "\n",
    "- **Keyspace :** \n",
    "\\begin{equation*}\n",
    "|A|!\n",
    "\\end{equation*}\n",
    "\n",
    "(We have to bruteforce every possible substitution for every possible letter)\n",
    "\n",
    "We can break this type of ciphers using the **Frequency analysis** :\n",
    "    1. Plot the distribution of the letters in the ptx\n",
    "    2. Plot the distribution of the letters of the ctx\n",
    "    3. Calculate the corrispondence between the two graphs (a spike in the distribution of the ptx will coincide with a spike in the distribution of the ctx)"
   ]
  },
  {
   "cell_type": "markdown",
   "metadata": {},
   "source": [
    "## Polyalphabetic ciphers"
   ]
  },
  {
   "cell_type": "markdown",
   "metadata": {},
   "source": [
    "These ciphers are defined on multiple alphabeths"
   ]
  },
  {
   "cell_type": "markdown",
   "metadata": {},
   "source": [
    "### Polialphabetic substitution ciphers"
   ]
  },
  {
   "cell_type": "markdown",
   "metadata": {},
   "source": [
    "They work as the monoalphabetic one but here there are multiple map. Actually each letter is associated with a map.\n",
    "\n",
    "L -> number of maps\n",
    "\n",
    "**ES : L = 2**\n",
    "\n",
    "**MAP 1 :**"
   ]
  },
  {
   "cell_type": "markdown",
   "metadata": {},
   "source": [
    "<img  src=\"DBFDUI3NEFKJWELW9QGUBMNUNEVFQ273.png\"/>"
   ]
  },
  {
   "cell_type": "markdown",
   "metadata": {},
   "source": [
    "**MAP 2:**"
   ]
  },
  {
   "cell_type": "markdown",
   "metadata": {},
   "source": [
    "<img  src=\"D1EBJ5VL4KKWWXDED9NHUY5H3BI82XW0.png\"/>"
   ]
  },
  {
   "cell_type": "markdown",
   "metadata": {},
   "source": [
    "**HELLO -> SHLJV**\n",
    "\n",
    "- **Keyspace :**\n",
    "\\begin{equation*}\n",
    "(|A| !)^L\n",
    "\\end{equation*}\n",
    "\n",
    "The bruteforce is unfeasible even with only 26 letters and 5 maps, but the decryptions process is hard."
   ]
  },
  {
   "cell_type": "markdown",
   "metadata": {},
   "source": [
    "### Vigenere cipher"
   ]
  },
  {
   "cell_type": "markdown",
   "metadata": {},
   "source": [
    "Generalization of the shift cipher.\n",
    "\n",
    "Instead of shifting each letters by a constant value, this value is retrieved by the number of the letter in the key.\n",
    "\n",
    "L -> length of the key\n",
    "\n",
    "**ES :**\n",
    "\\begin{equation*}\n",
    "ctx_i = (ptx_i + k_imodL)\\mod 26 \\\\\n",
    "ptx_i = (ctx_i - k_imodL)\\mod 26 \n",
    "\\end{equation*}\n",
    "\n",
    "| PTX | C | I | A | O | O | K |\n",
    "|-----|---|---|---|---|---|---|\n",
    "| KEY | A | B | C | A | B | C |\n",
    "| CTX | D | M | D | P | Q | N |\n",
    "\n",
    "- C is traslated into D because the value of A is 1\n",
    "- I is traslated into M because the value of B is 2\n",
    "\n",
    "\n",
    "- **Keyspace :** \n",
    "\\begin{equation*}\n",
    "|A|^L\n",
    "\\end{equation*}\n",
    "\n",
    "It is possible to break this chiper reducing everything  to a monoalphabetic shift cipher and using the frequency analysis:\n",
    "\n",
    "1. Use **Kasisky Test** in order to retrieve the key length\n",
    "    - **Kasisky Test** : identical segments of ptx with length **I < L** will be mapped into identical segments with length **I < L**. If we found this segments and their distance must be a multiple of the key length. Finding many distances and compute the **GCD** between them we will obtain the correct key length.\n",
    "  \n",
    "2. Split the ctx following the key length found and build up the sets which will constitute our monoalphabetic shift ciphers\n",
    "\n",
    "3. Compute the frequency analysis for every set and retrieve the key"
   ]
  },
  {
   "cell_type": "markdown",
   "metadata": {},
   "source": [
    "## Permutation ciphers"
   ]
  },
  {
   "cell_type": "markdown",
   "metadata": {},
   "source": [
    "The letters of the ptx are mixed together following the key.\n",
    "\n",
    "**ES :**\n",
    "\\begin{equation*}\n",
    "\\pi(1243)(5)\n",
    "\\end{equation*}\n",
    "\n",
    "| PTX | 1 | 2 | 3 | 4 | 5 |\n",
    "|-----|---|---|---|---|---|\n",
    "| CTX | 2 | 4 | 1 | 3 | 5 |\n",
    "\n",
    "- the first letter goes in second position\n",
    "- the second letter goes in forth position\n",
    "\n",
    "\n",
    "- ** Keyspace :**\n",
    "\\begin{equation}\n",
    "L!\n",
    "\\end{equation}\n",
    "\n",
    "Frequency analysis has no effect against this type of ciphers because the frequency of the digrams of the ptx is no more correlated to the one of the digrams in the ctx, due to the fact that the letters are mixed together.\n",
    "\n",
    "We can easily break this type of cipher using a **Chosen ptx analysis** :\n",
    "1. Choose the ptx\n",
    "2. Encrypt the ptx\n",
    "3. Knowing the ptx and the ctx look at how the letter are mixed"
   ]
  },
  {
   "cell_type": "markdown",
   "metadata": {},
   "source": [
    "## Lesson learned from historical chipers"
   ]
  },
  {
   "cell_type": "markdown",
   "metadata": {},
   "source": [
    "1. The key space must be big!\n",
    "2. The frequency analysis must be avoided!\n",
    "3. Only permutation is not sufficient!"
   ]
  },
  {
   "cell_type": "markdown",
   "metadata": {},
   "source": [
    "# Perfect secrecy"
   ]
  },
  {
   "cell_type": "markdown",
   "metadata": {},
   "source": [
    "A perfect secure cipher must not have any information leak and must be secure against:\n",
    "1. Known / Chose ctx attack\n",
    "2. Known / Chosen ptx attack\n",
    "3. Ctx only attack\n",
    "\n",
    "\n",
    "- P, C, K : random variables\n",
    "- P and K independent\n",
    "\n",
    "Since K and P are independent random variables the probability to observe a certain ctx is :\n",
    "\n",
    "\\begin{equation}\n",
    "P(C = c) = \\sum_{k:c \\in {Enc(m), \\forall m \\in M}} Pr(K = k)Pr(P = Dek(c))\n",
    "\\end{equation}\n",
    "\n",
    "** A simmetric cipher is perfectly secure if :**\n",
    "\n",
    "\\begin{equation}\n",
    "P(P = m \\mid C = c) = P(P = m)\n",
    "\\end{equation}\n",
    "\n",
    "(The probability to retrieve the ptx given the ctx must be equal to the probability to retrieve the ptx knowing nothing (**The ctx must not leak any information**))\n",
    "\n",
    "\\begin{equation}\n",
    "P(C = c \\mid P = m) = P(C = c)\n",
    "\\end{equation}\n",
    "\n",
    "(The probability to retrieve the ctx given the ptx must be equal to the probability to retrieve the ctx knowing nothing (**The ptx must not leak any information**))\n",
    "\n",
    "**If the cipher is perfectly secure than :**\n",
    "\n",
    "\\begin{equation}\n",
    "|K| \\geq |C| \\geq |M|\n",
    "\\end{equation}"
   ]
  }
 ],
 "metadata": {
  "kernelspec": {
   "display_name": "Python 3",
   "language": "python",
   "name": "python3"
  },
  "language_info": {
   "codemirror_mode": {
    "name": "ipython",
    "version": 3
   },
   "file_extension": ".py",
   "mimetype": "text/x-python",
   "name": "python",
   "nbconvert_exporter": "python",
   "pygments_lexer": "ipython3",
   "version": "3.5.1"
  }
 },
 "nbformat": 4,
 "nbformat_minor": 0
}
