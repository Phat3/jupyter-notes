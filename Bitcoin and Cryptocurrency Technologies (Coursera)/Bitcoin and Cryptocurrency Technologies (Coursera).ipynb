{
 "cells": [
  {
   "cell_type": "markdown",
   "metadata": {},
   "source": [
    "<h1 style=\"text-align:center; color:red\">Bitcoin and Cryptocurrency Technologies</h1>"
   ]
  },
  {
   "cell_type": "markdown",
   "metadata": {
    "toc": "true"
   },
   "source": [
    "# Table of Contents\n",
    " <p><div class=\"lev1\"><a href=\"#Bitcoin-and-Cryptocurrency-Technologies\">Bitcoin and Cryptocurrency Technologies</a></div><div class=\"lev1\"><a href=\"#Intro-to-Crypto-and-Cryptocurrencies\">Intro to Crypto and Cryptocurrencies</a></div><div class=\"lev2\"><a href=\"#Cryptographic-Hash-Functions\">Cryptographic Hash Functions</a></div><div class=\"lev3\"><a href=\"#Properties\">Properties</a></div><div class=\"lev4\"><a href=\"#Collision-free\">Collision free</a></div><div class=\"lev4\"><a href=\"#Hiding\">Hiding</a></div><div class=\"lev4\"><a href=\"#Puzzle-friendly\">Puzzle-friendly</a></div><div class=\"lev3\"><a href=\"#SHA-256\">SHA 256</a></div><div class=\"lev2\"><a href=\"#Hash-pointers-and-Data-structures\">Hash pointers and Data structures</a></div><div class=\"lev3\"><a href=\"#Data-structures-with-hash-pointers\">Data structures with hash pointers</a></div><div class=\"lev4\"><a href=\"#Linked-list\">Linked list</a></div><div class=\"lev4\"><a href=\"#Binary-Tree\">Binary Tree</a></div><div class=\"lev4\"><a href=\"#Circular-data-structures\">Circular data structures</a></div><div class=\"lev2\"><a href=\"#Digital-signature\">Digital signature</a></div><div class=\"lev2\"><a href=\"#Public-keys-as-identities\">Public keys as identities</a></div><div class=\"lev3\"><a href=\"#Identities-properties\">Identities properties</a></div><div class=\"lev3\"><a href=\"#Privacy\">Privacy</a></div><div class=\"lev2\"><a href=\"#Simple-cryptocurrencies-examples\">Simple cryptocurrencies examples</a></div><div class=\"lev3\"><a href=\"#Example-1-:-GoofyCoin\">Example 1 : GoofyCoin</a></div><div class=\"lev3\"><a href=\"#Example-2-:-ScroogeCoin\">Example 2 : ScroogeCoin</a></div><div class=\"lev3\"><a href=\"#Correct-cryptocurrency-scheme\">Correct cryptocurrency scheme</a></div><div class=\"lev1\"><a href=\"#How-Bitcoin-achieves-decentralization\">How Bitcoin achieves decentralization</a></div><div class=\"lev2\"><a href=\"#Distributed-consensus\">Distributed consensus</a></div><div class=\"lev3\"><a href=\"#Bitcoin-P-2-P-network\">Bitcoin P-2-P network</a></div><div class=\"lev3\"><a href=\"#Why-Bitcoin-consensus-protocol-works-better-in-practice-that-in-theory\">Why Bitcoin consensus protocol works better in practice that in theory</a></div><div class=\"lev2\"><a href=\"#Consensus-without--Identity-:-The-blockchain\">Consensus without  Identity : The blockchain</a></div><div class=\"lev3\"><a href=\"#Implicit-consensus-protocol\">Implicit consensus protocol</a></div><div class=\"lev3\"><a href=\"#Attacks\">Attacks</a></div><div class=\"lev4\"><a href=\"#Try-to-spend-someone-else-coins\">Try to spend someone else coins</a></div><div class=\"lev4\"><a href=\"#Denial-of-service-for-some-address\">Denial of service for some address</a></div><div class=\"lev4\"><a href=\"#Double-spending-attack\">Double-spending attack</a></div><div class=\"lev2\"><a href=\"#Incentives-and-Proof-of-Work\">Incentives and Proof of Work</a></div><div class=\"lev3\"><a href=\"#Incentives-modes\">Incentives modes</a></div><div class=\"lev4\"><a href=\"#Block-reward\">Block reward</a></div><div class=\"lev4\"><a href=\"#Transaction-fee\">Transaction fee</a></div><div class=\"lev3\"><a href=\"#Remaining-problems\">Remaining problems</a></div><div class=\"lev3\"><a href=\"#Proof-of-work\">Proof of work</a></div><div class=\"lev3\"><a href=\"#Hash-puzzles\">Hash puzzles</a></div><div class=\"lev4\"><a href=\"#Difficult-to-compute\">Difficult to compute</a></div><div class=\"lev4\"><a href=\"#Parametrized-cost\">Parametrized cost</a></div><div class=\"lev4\"><a href=\"#Easy-to-verify-by-others\">Easy to verify by others</a></div>"
   ]
  },
  {
   "cell_type": "markdown",
   "metadata": {},
   "source": [
    "# Intro to Crypto and Cryptocurrencies\n",
    "\n",
    "## Cryptographic Hash Functions\n",
    "\n",
    "A **non-invertible** function that maps an input of an arbitrary length on an output of fixed length\n",
    "\n",
    "### Properties\n",
    "\n",
    "#### Collision free\n",
    "I can't find x and y such as:\n",
    "- **x != y && H(x) == H(Y)**\n",
    "\n",
    "**Application** : Message digest --> since the probability to find two inputs that maps on the same output is negligible, we can say that the hash of a given message identifies uniquely the message itself.\n",
    "\n",
    "#### Hiding\n",
    "- **Given H(x) I can't find x**\n",
    "\n",
    "In order to guarantee this property we need to chose x among a huge set of different possible inputs\n",
    "\n",
    "**If r is chosen from a probability distribution that has HIGH MIN-ENTROPY (the distribution is very spread out), then given H(r|x) it is unfeasible to find x**\n",
    "\n",
    "We can say that **r HIDES x**!!\n",
    "\n",
    "**Application** : Commitment --> Once I commit to a message I'm not able to repudiate the message anymore\n",
    "\n",
    "Commitment must have two important properties:\n",
    "\n",
    "    1. Hiding : given the commitment I'm not able to figure out what the message is \n",
    "    2. Binding : I can't find another message msg' that, with the same key, has the same commitment as the original message msg\n",
    "\n",
    "**API**:\n",
    "   - **COMMIT(msg)** : H(key|msg), key\n",
    "   - **VERIFY(commitment, msg, key)** : H(key|msg) == commitment\n",
    "   \n",
    "#### Puzzle-friendly\n",
    "For every possible output y I can't find k such as:\n",
    "- **H(k|x) == y**\n",
    "\n",
    "**Application** : Puzzle search --> Given a puzzle ID and a target set of output Y try to find a solution x such that H(ID|x) belongs to Y\n",
    "\n",
    "I have to find one value x which **concatenated with ID and hashed** gives a value present in the set Y\n",
    "\n",
    "The puzzle-friendly property implies that **there are no better strategies than try random values of x in order to find the solution**\n",
    "\n",
    "### SHA 256\n",
    "The hash function used in the Bitcoin standard is **SHA 256**"
   ]
  },
  {
   "cell_type": "markdown",
   "metadata": {},
   "source": [
    "<img  src=\"AUJ9QU1LEUTWSFSIIN141O0RG11PM9W2.png\"/>"
   ]
  },
  {
   "cell_type": "markdown",
   "metadata": {},
   "source": [
    "## Hash pointers and Data structures\n",
    "\n",
    "**Hash Pointer** : Pointer to the information and hash of the information\n",
    "\n",
    "It encapsulates 2 information:\n",
    "1. The data location\n",
    "2. The hash of the data value\n",
    "\n",
    "### Data structures with hash pointers\n",
    "\n",
    "#### Linked list"
   ]
  },
  {
   "cell_type": "markdown",
   "metadata": {},
   "source": [
    "<img  src=\"WDHK34R0GDDONNB61TXQNT1R8VBORJEA.png\"/>\n",
    "\n",
    "We can build a **tamper-evident log** because we can only append data in the list and not modify the previous blocks.\n",
    "\n",
    "- **EX 1** : If someone tries to manipulate the previous data the hash will change and we can detect this changes thanks to the hash pointer."
   ]
  },
  {
   "cell_type": "markdown",
   "metadata": {},
   "source": [
    "<img  src=\"R8HWT5NO0H8Q1NJIDLX1QFYW6OBYXOSB.png\"/>"
   ]
  },
  {
   "cell_type": "markdown",
   "metadata": {},
   "source": [
    "- **EX 2** : If someone tries to manipulate both the data and the hash pointer related to the manipulated block, the  changes will be spotted by the hash pointer that points to the block which the previous pointer has been modified. This is because the hash pointer is the hash of the **entire** block **(prev + data)**"
   ]
  },
  {
   "cell_type": "markdown",
   "metadata": {},
   "source": [
    "<img  src=\"D41QWIA5D0P0NL94C9C4GFT0OOEUE1NN.png\"/>"
   ]
  },
  {
   "cell_type": "markdown",
   "metadata": {
    "collapsed": true
   },
   "source": [
    "We can conclude that in order to guarantee the **tamper-evident** property it is sufficient to keep track the hash of the **HEAD**"
   ]
  },
  {
   "cell_type": "markdown",
   "metadata": {},
   "source": [
    "#### Binary Tree\n"
   ]
  },
  {
   "cell_type": "markdown",
   "metadata": {},
   "source": [
    "<img  src=\"FT04IYYP7881O7L9H62QBSRFSKJ2O7W1.png\"/>"
   ]
  },
  {
   "cell_type": "markdown",
   "metadata": {},
   "source": [
    "As in the linked list case, it is sufficient to remember the hash pointer of the root in order to guarantee the **tamper-evident** property.\n",
    "\n",
    "As usual the search is more efficient on a tree (O(log(n))) that in a linked list (O(n)).\n",
    "\n",
    "The verify operation is very efficient: given an element and a subtree which hold the element it is sufficient to verify if the hashes of the block matches from the leaf (the element we want to verify) to the root.\n",
    "\n",
    "#### Circular data structures\n",
    "\n",
    "If a data structure is circular we **cannot** use hash pointers!!\n",
    "\n",
    "This is because we aren't able to verify if a member belongs to the structure or not (a loop occurs)\n"
   ]
  },
  {
   "cell_type": "markdown",
   "metadata": {},
   "source": [
    "<img  src=\"SHPAJFJMSH6LJSATT8CK7ANWK8Y7J909.png\"/>"
   ]
  },
  {
   "cell_type": "markdown",
   "metadata": {},
   "source": [
    "## Digital signature\n",
    "\n",
    "- Only you can sign but everyone can verify\n",
    "- The signature is bound to a document\n",
    "\n",
    "**API** :\n",
    "    - SIGN(priv_key, msg)\n",
    "    - VERIFY(pub_key, msg, signature)\n",
    "    \n",
    "Having the pub_key and some messages signed with the corresponding priv_key, an attacker must be not able to **forge** a valid signature for other messages.\n",
    "\n",
    "**Constraint** : \n",
    "    - Need good source of randomness --> otherwise the keys are not secure\n",
    "    - Limit on message size --> Sign the hash of the message instead of the message itself\n",
    "    \n",
    "**When we sign a hash pointer we implicit sign the whole data structure pointed by that hash pointer**\n",
    "\n",
    "The algorithm used in the bitcoin standard is **ECDSA**\n",
    "\n",
    "## Public keys as identities\n",
    "\n",
    "Given a sound digital signature algorithm, if we can verify a message with the pub_key_1 than we can say that **\"pub_key_1 says message\"**.\n",
    "\n",
    "We can conclude that the **pub_key identifies the creator of the message**.\n",
    "\n",
    "### Identities properties\n",
    "\n",
    "- Create an identity is as easy as create a **new pair of pub_key and priv_key**.\n",
    "\n",
    "- You can create as many identities as you want.\n",
    "\n",
    "- The identity management is **fully decentralized** --> nobody is in charge of it.\n",
    "\n",
    "** IDENTITIES IN THE BITCOIN STANDARD ARE CALLED ADDRESSES**\n",
    "\n",
    "An address is the **hash of the pub_key**.\n",
    "\n",
    "### Privacy\n",
    "\n",
    "The address is not connected to your real-world identity **BUT** someone can infer who you are from the activities made on the address overtime.\n",
    "\n",
    "## Simple cryptocurrencies examples\n",
    "\n",
    "### Example 1 : GoofyCoin\n",
    "\n",
    "- Goofy can create new coins whenever he wants.\n",
    "\n",
    "- The newly created coins belong to Goofy."
   ]
  },
  {
   "cell_type": "markdown",
   "metadata": {},
   "source": [
    "<img  src=\"HETRKN05Q9UJNGT64EQHB8LMSBWOV149.png\"/>"
   ]
  },
  {
   "cell_type": "markdown",
   "metadata": {
    "collapsed": true
   },
   "source": [
    "- Who owns the coin can spend it by made a new transaction specifying who is the new owner and creating a hash pointer to the money spent."
   ]
  },
  {
   "cell_type": "markdown",
   "metadata": {},
   "source": [
    "<img  src=\"I54YM5BT47ELMLH13P57OAJ2P3LA18B0.png\"/>"
   ]
  },
  {
   "cell_type": "markdown",
   "metadata": {},
   "source": [
    "- Now the new owner (Alice) can spend the coin in the same way Goofy did before."
   ]
  },
  {
   "cell_type": "markdown",
   "metadata": {},
   "source": [
    "<img  src=\"JC71Y1CKGN5GCM1ID170P1R9C1JHP7VS.png\"/>"
   ]
  },
  {
   "cell_type": "markdown",
   "metadata": {
    "collapsed": true
   },
   "source": [
    "**We can verify the validity of a coin by following the hash pointers of its blockchain**\n",
    "\n",
    "**PROBLEM** : Alice can make a <span style=\"color:red\">DOUBLE-SPENDING ATTACK</span>"
   ]
  },
  {
   "cell_type": "markdown",
   "metadata": {},
   "source": [
    "<img  src=\"W6TBUQ8Y80K9F6DRVR8Y8426NFU8901G.png\"/>\n",
    "\n",
    "In this scenario Bob and Chuck are unaware that they own the **SAME** coin!! Alice has spent the coin twice!! "
   ]
  },
  {
   "cell_type": "markdown",
   "metadata": {
    "collapsed": true
   },
   "source": [
    "### Example 2 : ScroogeCoin\n",
    "\n",
    "The difference between the precedent example is that the creator of the coins (Scrooge) publishes a history of all transactions.\n"
   ]
  },
  {
   "cell_type": "markdown",
   "metadata": {},
   "source": [
    "<img  src=\"QEYGBKPMSTYOK8U6509K38U70783GC8W.png\"/>\n",
    "\n",
    "**This history allow us to detect double-spending attacks!**\n",
    "\n",
    "Two types of transactions:\n",
    "- **CreateCoin** : We can create multiple coins in the same transaction.\n",
    "\n",
    "               - NUM : Serial number of the coin **within** the transaction.\n",
    "               - VALUE : Value of the coin.\n",
    "               - RECIPIENT : Pub_key of the owner of the coin.\n",
    "\n",
    "               Valid if : always valid because issued by Scrooge\n",
    "                      \n",
    "- ** PayCoin** : Consumes the coin we want to spend and create new coins that will be assigned to new owners\n",
    "\n",
    "               - CONSUMEDCOINS : List of coins spent.\n",
    "               - CREATEDCOINS : List of newly created coins assigned to the new owners.\n",
    "               - SIGNATURES : Signature of all the owners of the consumed coins.\n",
    "               \n",
    "               Valid if : - Consumed coins valid.\n",
    "                          - Consumed coins not double spent.\n",
    "                          - Total val consumed == total val created\n",
    "                          - OAll the signatures are valid.\n",
    "                          \n",
    "**If the transaction is valid then the blockchain is updated with the new block**\n",
    "\n",
    "**NB** : Coins are **IMMUTABLE**!!\n",
    "\n",
    "**Problem** : We can't trust Scrooge!! <span style=\"color:red\">PROBLEM OF CENTRALIZATION</span>\n",
    "\n",
    "### Correct cryptocurrency scheme\n",
    "\n",
    "- The main design challenge is to build a cryptocurrency immune to double-spending attack --> use blockchain history.\n",
    "\n",
    "- We have to figure out how to provide the service in a decentralized way --> we need to figure out how to agree on the same decision in a distributed way. "
   ]
  },
  {
   "cell_type": "markdown",
   "metadata": {},
   "source": [
    "# How Bitcoin achieves decentralization\n",
    "\n",
    "## Distributed consensus\n",
    "Given N nodes we need to ensure:\n",
    "- The protocol terminates and each node reach the same consensus.\n",
    "- The decided value must be proposed by some node in the system.\n",
    "\n",
    "**Only correct nodes must influence the consensus** --> No malicious or faulty nodes.\n",
    "\n",
    "### Bitcoin P-2-P network\n",
    "\n",
    "If Alice wants to pay Bob, she has to broadcast the transaction to each node present in the network"
   ]
  },
  {
   "cell_type": "markdown",
   "metadata": {},
   "source": [
    "<img  src=\"VFN86N0SMN4PX30K3NMGG6CIUG2W0Y5T.png\"/>"
   ]
  },
  {
   "cell_type": "markdown",
   "metadata": {},
   "source": [
    "The nodes must reach a consensus on : \n",
    "- Which is the broadcasted transaction.\n",
    "- The order in which the transaction happens.\n",
    "\n",
    "In order to guarantee consensus in a P-2-P network we have to ensure :\n",
    "- All nodes must have a sequence of **blocks of transactions** they have reached consensus on.\n",
    "- Each node has a set of transactions which consensus **has not been reached yet**.\n",
    "\n",
    "\n",
    "**BEFORE CONSENSUS** :"
   ]
  },
  {
   "cell_type": "markdown",
   "metadata": {},
   "source": [
    "<img  src=\"K57SKC68PSKYDXWTQVBE9869FV18HMKF.png\"/>\n",
    "\n",
    "**AFTER CONSENSUS** :"
   ]
  },
  {
   "cell_type": "markdown",
   "metadata": {},
   "source": [
    "<img  src=\"EFAYKXUKFQAKF7YP022EBYCMY184DI4I.png\"/>"
   ]
  },
  {
   "cell_type": "markdown",
   "metadata": {},
   "source": [
    "**Problems** :\n",
    "- Faulty nodes\n",
    "- Malicious nodes\n",
    "- Network latency --> Problem of the global time\n",
    "\n",
    "Due to these problems we have to compromise in the protocol design. The most famous one is **Paxos** that never produce inconsistent results but sometimes does not terminate.\n",
    "\n",
    "### Why Bitcoin consensus protocol works better in practice that in theory\n",
    "This happens mainly because of two reasons:\n",
    "- **Incentives** : If you act honestly you can get a reward (possible only because Bitcoin is currency!)\n",
    "- **Randomness** : There is no time limit in order to reach the consensus. Consensus happens over a long period of time so as the time goes on the probability to make a wrong assumption on the state of one transaction decrease exponentially.\n",
    "\n",
    "\n",
    "## Consensus without  Identity : The blockchain\n",
    "In a distributed consensus protocol the identity of a node can be very useful because:\n",
    "- If I can identify a node and I know that this identity is not malicious then I can guarantee security.\n",
    "- Some protocols need node ID in order to work correctly.\n",
    "\n",
    "But Bitcoin node **does not have identity** mainly because:\n",
    "- Bitcoin goal is anonymity\n",
    "- Identity is hard in a P-2-P network\n",
    "\n",
    "**Assumption** : I can choose **RANDOMLY** a node in the P-2-P network.\n",
    "\n",
    "### Implicit consensus protocol\n",
    "1. A node is picked randomly\n",
    "2. This node proposes the next block in the chain\n",
    "3. Other nodes whether decide to **accept** or **reject** the proposal:\n",
    "    - Accept : They start to extend the blockchain with the proposed node\n",
    "    - Reject : They start to extend the blockchain from the last block in it, ignoring the proposed one.\n",
    "\n",
    "**NB : The blockchain is always extended following the longest branch!**\n",
    "\n",
    "### Attacks\n",
    "#### Try to spend someone else coins\n",
    "This attack is impossible because you have to sign or forge a valid signature for the transaction impersonating the owner of the address you want to steal money.\n",
    "So as long as the signature algorithm is secure and the private key is kept secret this attack is **unfeasible**.\n",
    "\n",
    "#### Denial of service for some address\n",
    "An attacker can decide to never include in his proposed blocks the transaction made by certain address. This attack is **unfeasible** because the transaction denied will be included in a subsequent block proposed by a legitimate node.\n",
    "\n",
    "#### Double-spending attack\n",
    "\n"
   ]
  },
  {
   "cell_type": "markdown",
   "metadata": {},
   "source": [
    "An attacker (Alice) can pay with a coin a merchant (Bob) and then pay with the **same** coin another address controlled by the attacker itself (Alice2), resulting in 0 coins spent but with the service purchased by the merchant.\n",
    "<img  src=\"KTL8A12PXDP8T18MH8NMLFWJS04D53YC.png\"/>\n",
    "\n",
    "In a technical way, we have no possibilities to distinguish a malicious transaction (pay to Alice2) from a legitimate one (pay to Bob). Even following the principle **\"always extend the longest branch\"**, due to network latency, we can end up to extend the branch with the malicious transaction.\n",
    "\n",
    "How can a merchant avoid frauds? before issuing the service purchased with Bitcoin by the customer, he has to wait for **6-CONFIRMATIONS**"
   ]
  },
  {
   "cell_type": "markdown",
   "metadata": {},
   "source": [
    "<img  src=\"DSI42KMU9XBRDMMK05BWI0ATYJ9XPKA9.png\"/>"
   ]
  },
  {
   "cell_type": "markdown",
   "metadata": {},
   "source": [
    "## Incentives and Proof of Work\n",
    "In order to increase **honesty** among nodes we have ton give **incentives** to the nodes who act in an honest way.\n",
    "* We **CANNOT** penalize the nodes who act dishonestly because the system is not able to differentiate between a legitimate transaction and a malicious one.\n",
    "\n",
    "\n",
    "* We **CAN** reward, with coins, the nodes who **can insert** block of transaction in the blockchain\n",
    "\n",
    "### Incentives modes\n",
    "\n",
    "#### Block reward\n",
    "The node who propose the block insert in it a transaction that creates **25 coins**. If the proposed block is inserted in the **longest branch** of the blockchain, then the node who propose the block get the 25 coins of reward.\n",
    "\n",
    "The value **25** halves every **4 years** because the total number of bitcoin is limited (about 21 million).\n",
    "\n",
    "#### Transaction fee\n",
    "Every creator of one transaction can choose to make the output less then the input. This difference is considered **a tip or a fee**. This tip goes to the node who propose the block where the transaction resides.\n",
    "\n",
    "If the block contains more transactions with fees, the node gets, as a reward, the sum of these tips.\n",
    "\n",
    "**This method is purely voluntary (it is not mandatory to include a fee in the transaction)**\n",
    "\n",
    "### Remaining problems\n",
    "1. How to pick a random node?\n",
    "2. How to avoid a free-for-all due to rewards? (avoid that a node can gain a reward only proposing a block without doing anything else)\n",
    "3. How to prevent sybil attack? (multiple malicious nodes, controlled by the same attacker, which cooperates to achieve some advantage)\n",
    "\n",
    "The solution of all this problem is the <span style=\"color:red\">PROOF OF WORK</span>\n",
    "\n",
    "### Proof of work\n",
    "Instead of choose a node in a purely random way, we select nodes in proportion to a resource that **no one could monopolize**:\n",
    "\n",
    "If someone can control the whole resource, its probability to be picked will be **1** resulting in the protocol breaking.\n",
    "\n",
    "There are type of resources:\n",
    "* **Computing power (proof of work)** <span style=\"color:red\"><-- used by Bitcoin protocol</span>\n",
    "\n",
    "\n",
    "* **Number of owned coins (proof of stake)**\n",
    "\n",
    "As proof of work Bitcoin uses <span style=\"color:red\">HASH PUZZLES</span>\n",
    "\n",
    "### Hash puzzles\n",
    "A node in order to create a block has to find a nonce such that:\n",
    "<p style=\"text-align:center;\">**H( nonce || prev_hash || T1 || ... || Tn ) is very small**</p>\n",
    "\n",
    "with:\n",
    "* **nonce** : a nonce you have to find\n",
    "* **prev_hash** : the hash pointer to the previous block\n",
    "* **T1 ... Tn** : transactions in the block\n",
    "\n",
    "The target space is a range that identifies the valid hash values for the resolution of the puzzle.\n"
   ]
  },
  {
   "cell_type": "markdown",
   "metadata": {},
   "source": [
    "<img  src=\"LS7HAJU5GA6XNVVQ5L7RYK7QUKK6RGOP.png\"/>\n",
    "\n",
    "Remember from the **puzzle-friendly** property of the hash algorithm --> **There is no better way to solve the problem then try random nonce**\n",
    "\n",
    "The resolution of the proof of work is a **Poisson process** (probability of independent random events on continuous time)."
   ]
  },
  {
   "cell_type": "markdown",
   "metadata": {},
   "source": [
    "<img  src=\"HU351VY5QVUODJ84NNXW7L1DJSB7SBC3.png\"/>"
   ]
  },
  {
   "cell_type": "markdown",
   "metadata": {},
   "source": [
    "The hash puzzle must respect 3 properties:\n",
    "1. It must be **difficult to compute**\n",
    "2. The cost must be **parametrized**\n",
    "3. The result must be **easy to verify by others**\n",
    "\n",
    "#### Difficult to compute\n",
    "The problem is solved **on average** every:\n",
    "\n",
    "<p style=\"text-align:center;\">**2^7 hashes / block**</p>\n",
    "\n",
    "So not every common computer can be a **miner**.\n",
    "\n",
    "#### Parametrized cost\n",
    "The target space of the hash puzzle is recalculated, based on the entire computational power of the network, every **2 weeks** in order to guarantee that the average time between two blocks is **10 minutes**.\n",
    "\n",
    "So the probability to solve the problem is:\n",
    "\n",
    "<p style=\"text-align:center;\">**P( minerX wins next block ) = minerX comp. power / global comp. power**</p>\n",
    "\n",
    "The time of 10 minutes between two blocks is important because it guarantee that a block will be composed by **thousands** of transactions for **efficiency purpose**\n",
    "\n",
    "#### Easy to verify by others\n",
    "The nonce is published inside the new block so others miners can simply calculate the hash of the block and see if it is less than the target space.\n",
    "\n",
    "<p style=\"text-align:center;\">**H( nonce || prev_hash || T1 || ... || Tn ) < target_space**</p>\n",
    "\n",
    "This is important because it **avoids the need of a central authority**\n",
    "\n",
    "### Key security assumption\n",
    "Attacks unfeasible if majority of miners **weighed by computational power** follow the protocol. This ensure that there is at least a 50% probability that the next node proposing a block will be legitimate."
   ]
  }
 ],
 "metadata": {
  "kernelspec": {
   "display_name": "Python 3",
   "language": "python",
   "name": "python3"
  },
  "language_info": {
   "codemirror_mode": {
    "name": "ipython",
    "version": 3
   },
   "file_extension": ".py",
   "mimetype": "text/x-python",
   "name": "python",
   "nbconvert_exporter": "python",
   "pygments_lexer": "ipython3",
   "version": "3.5.1"
  },
  "toc": {
   "toc_cell": true,
   "toc_number_sections": false,
   "toc_section_display": "block",
   "toc_threshold": 6,
   "toc_window_display": true
  },
  "toc_position": {
   "height": "1113px",
   "left": "2267.05px",
   "right": "20px",
   "top": "120px",
   "width": "277px"
  }
 },
 "nbformat": 4,
 "nbformat_minor": 0
}
