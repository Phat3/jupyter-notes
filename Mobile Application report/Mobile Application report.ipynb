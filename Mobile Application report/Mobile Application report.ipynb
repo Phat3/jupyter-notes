{
 "cells": [
  {
   "cell_type": "markdown",
   "metadata": {},
   "source": [
    "# Tinfinity\n",
    "\n",
    "## Intruduction\n",
    "\n",
    "This report will describe the Tinfinity application, a proximity chat system for IOS platforms.\n",
    "The first part will indroduce the application with an high level description and then the report will focuses on the technical aspects.\n",
    "\n",
    "## High level application description\n",
    "\n",
    "Tinfnity is a mobile application that implements a proximity chat system whose aim to connect people which reside in the same area.\n",
    "In order to access this applicaton, the user must connect his Facebook account and share some of his informations like photos and interests.\n",
    "Once the user has been successfully logged in the application, he can discover all the people that are using Tinfinity near to him using the map as shown in Figure 1.\n",
    "If the user find someone interesting on the map, he can tap on the marker and send a friendship request as shown in Figure 2. When and if recipient accepts the request, they can start chatting and maybe know each other directly in person.\n",
    "Also, when the friendship is granted, the two users can continue to chat even if they are no longer near such a normal chat system as Whatsapp for example.\n",
    "The user can also personalize which informations have to be shared with other through the settings page as shown in Figure 3.\n",
    "(In order to improve the location system is possible to activate the augmented reality mode that shown the marker of the other users using the phone camera as shown in figure 4.).\n",
    "The application works in background and there is no need to open it in order to be localized by the others on the map (but the user can switch to the offline mode iat every moment)\n",
    "\n",
    "--TODO : insert figures\n",
    "\n",
    "## Requirements\n",
    "\n",
    "In this section will be reported the functional and non functional requirements which have been identified in the analysis phase.\n",
    "\n",
    "### Functional requirements\n",
    "\n",
    "- Display to the user a map containing the position of other user within 800m from its position;\n",
    "- Provide a chat system and allow the user to interact with it;\n",
    "- Display the other users informations when request;\n",
    "- Enable the user to personalize the informations that have to be shared;\n",
    "- Enable the user to send a friendship requests and accept / decline the received one;\n",
    "- Create a web application in order to manage the chat system and the location system;\n",
    "- Create a push notification system in order to inform the user when a message is received;\n",
    "- Develop an IOS mobile version of the application;\n",
    "- (Provide an augmented reality view showing the location of the other users using the phone camera)\n",
    "\n",
    "### Non functional requirements\n",
    "\n",
    "The non functional requirements are related to the devices which are target for the application:\n",
    "\n",
    "- The application should run on devices with an IOS version > 8.0 (?);\n",
    "\n",
    "## Architecture\n",
    "\n",
    "The architectures of the application is composed by two main parts:\n",
    "\n",
    "- An IOS application\n",
    "\n",
    "- A web application\n",
    "\n",
    "The web application is necessary because it have to keep track of the user location and manage the chat system. A general overview of the comunication between the mobile application and the web application is shown in Figure 5.\n",
    "\n",
    "--TODO : insert figures\n",
    "\n"
   ]
  }
 ],
 "metadata": {
  "kernelspec": {
   "display_name": "Python 3",
   "language": "python",
   "name": "python3"
  },
  "language_info": {
   "codemirror_mode": {
    "name": "ipython",
    "version": 3
   },
   "file_extension": ".py",
   "mimetype": "text/x-python",
   "name": "python",
   "nbconvert_exporter": "python",
   "pygments_lexer": "ipython3",
   "version": "3.5.1"
  },
  "latex_envs": {
   "bibliofile": "biblio.bib",
   "cite_by": "apalike",
   "current_citInitial": 1,
   "eqLabelWithNumbers": true,
   "eqNumInitial": 0
  }
 },
 "nbformat": 4,
 "nbformat_minor": 0
}
