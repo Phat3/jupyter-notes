{
 "cells": [
  {
   "cell_type": "markdown",
   "metadata": {},
   "source": [
    "<h1 style=\"text-align : center\"> Tinfinity </h1>"
   ]
  },
  {
   "cell_type": "markdown",
   "metadata": {},
   "source": [
    "# Table of Contents\n",
    "* [Intruduction](#Intruduction)\n",
    "* [High level application description](#High-level-application-description)\n",
    "* [Requirements](#Requirements)\n",
    "    * [Functional requirements](#Functional-requirements)\n",
    "    * [Non functional requirements](#Non-functional-requirements)\n",
    "* [Architecture](#Architecture)\n",
    "* [Mobile application](#Mobile-application)\n",
    "    * [LoginViewController](#LoginViewController)\n",
    "    * [ViewController](#ViewController)\n"
   ]
  },
  {
   "cell_type": "markdown",
   "metadata": {},
   "source": [
    "# Intruduction"
   ]
  },
  {
   "cell_type": "markdown",
   "metadata": {},
   "source": [
    "This report will describe the Tinfinity application, a proximity chat system for IOS platforms.\n",
    "The first part will indroduce the application with an high level description and then the report will focuses on the technical aspects."
   ]
  },
  {
   "cell_type": "markdown",
   "metadata": {},
   "source": [
    "# High level application description"
   ]
  },
  {
   "cell_type": "markdown",
   "metadata": {},
   "source": [
    "Tinfnity is a mobile application that implements a proximity chat system whose aim to connect people which reside in the same area.\n",
    "In order to access this applicaton, the user must connect his Facebook account and share some of his informations like photos and interests.\n",
    "Once the user has been successfully logged in the application, he can discover all the people that are using Tinfinity near to him using the map as shown in Figure 1.\n",
    "If the user find someone interesting on the map, he can tap on the marker and send a friendship request as shown in Figure 2. When and if recipient accepts the request, they can start chatting and maybe know each other directly in person.\n",
    "Also, when the friendship is granted, the two users can continue to chat even if they are no longer near such a normal chat system as Whatsapp for example.\n",
    "The user can also personalize which informations have to be shared with other through the settings page as shown in Figure 3.\n",
    "(In order to improve the location system is possible to activate the augmented reality mode that shown the marker of the other users using the phone camera as shown in figure 4.).\n",
    "The application works in background and there is no need to open it in order to be localized by the others on the map (but the user can switch to the offline mode iat every moment)\n",
    "\n",
    "--TODO : insert figures"
   ]
  },
  {
   "cell_type": "markdown",
   "metadata": {},
   "source": [
    "# Requirements"
   ]
  },
  {
   "cell_type": "markdown",
   "metadata": {},
   "source": [
    "In this section will be reported the functional and non functional requirements which have been identified in the analysis phase."
   ]
  },
  {
   "cell_type": "markdown",
   "metadata": {},
   "source": [
    "## Functional requirements"
   ]
  },
  {
   "cell_type": "markdown",
   "metadata": {},
   "source": [
    "- Display to the user a map containing the position of other user within 800m from its position;\n",
    "- Provide a chat system and allow the user to interact with it;\n",
    "- Display the other users informations when request;\n",
    "- Enable the user to personalize the informations that have to be shared;\n",
    "- Enable the user to send a friendship requests and accept / decline the received one;\n",
    "- Create a web application in order to manage the chat system and the location system;\n",
    "- Create a push notification system in order to inform the user when a message is received;\n",
    "- Develop an IOS mobile version of the application;\n",
    "- (Provide an augmented reality view showing the location of the other users using the phone camera)"
   ]
  },
  {
   "cell_type": "markdown",
   "metadata": {},
   "source": [
    "## Non functional requirements"
   ]
  },
  {
   "cell_type": "markdown",
   "metadata": {},
   "source": [
    "The non functional requirements are related to the devices which are target for the application:\n",
    "\n",
    "- The application should run on devices with an IOS version > 8.0 (?);"
   ]
  },
  {
   "cell_type": "markdown",
   "metadata": {},
   "source": [
    "# Architecture"
   ]
  },
  {
   "cell_type": "markdown",
   "metadata": {},
   "source": [
    "The architectures of the application is composed by two main parts:\n",
    "\n",
    "- An IOS application\n",
    "\n",
    "- A web application\n",
    "\n",
    "The web application is necessary because it have to keep track of the user location and manage the chat system. A general overview of the comunication between the mobile application and the web application is shown in Figure 5.\n",
    "\n",
    "--TODO : insert figures"
   ]
  },
  {
   "cell_type": "markdown",
   "metadata": {},
   "source": [
    "# Mobile application"
   ]
  },
  {
   "cell_type": "markdown",
   "metadata": {},
   "source": [
    "<img  src=\"general_class_diagram.png\"/>"
   ]
  },
  {
   "cell_type": "markdown",
   "metadata": {},
   "source": [
    "The above class diagram shows a simplified version (only the most important classes are shown) of the application.\n",
    "The mobile application is based on eight main ViewController which handle the functionalities provided by Tinfinity:\n",
    "- **LoginViewController** : Provides the login with Facebook functionalities and updates the account informations\n",
    "- **ViewController:** Provides to the user a map that shows where the other user are located and thei profiles.\n",
    "- **SettingViewController** : Provides a recap view of the informations about the user and the ability to change them.\n",
    "- **EditProfileViewController** Provides the functionalities to decide which photos have to be displayed.\n",
    "- **ProfileViewController** : Provides a view that shows the profile of other users which have sent a friendship request, and the abilities to accept / decline it.\n",
    "- **ChatListViewController** : Provides a view with a list of the chat and the provides the functionalitiies to delete them.\n",
    "- **ChatViewController** : Provides a view with the conversation with the specified user and the abiluity to send messages.\n",
    "- **PageViewController** : Manages all tho other views. It doesn't provide any functionality to the user,"
   ]
  },
  {
   "cell_type": "markdown",
   "metadata": {},
   "source": [
    "## LoginViewController"
   ]
  },
  {
   "cell_type": "markdown",
   "metadata": {},
   "source": [
    "<img  src=\"Tinfinity_loginViewController.png\"/>"
   ]
  },
  {
   "cell_type": "markdown",
   "metadata": {},
   "source": [
    "The LoginViewController manages the view that implement the login functionalities with Facebook and set up the initial settings relative to the account.\n",
    "- **viewDidLoad() :** When the view is loaded this callback tries to check if there is already a valid Facebook OAuth token binded to the account. If the token is present and valid then the application will display the main view of the application.\n",
    "- **loginButton() :** This function is triggered when the login button is pressed. This function exploit the Facebook SDK in order to retrieve a valid Oauth token. If this operation succeed, then the other account settings, like the chat history, are retrieved and set and the main view of the application is displayed."
   ]
  },
  {
   "cell_type": "markdown",
   "metadata": {},
   "source": [
    "## ViewController"
   ]
  },
  {
   "cell_type": "markdown",
   "metadata": {},
   "source": [
    "<img  src=\"Tinfinity_ViewController.png\"/>"
   ]
  },
  {
   "cell_type": "markdown",
   "metadata": {},
   "source": [
    "The ViewController manages the main view of the application and it show the map with the user location and the location of the other users around him. It is the delegate for the location manager and the mapView callback functions.\n",
    "- **viewDidLoad() :** When the view is loaded this callback checks if the permissions needed in order to locate the user properly are given. if these are not given the map is hidden, otherwise the map is displayed and the user location is retrieved.\n",
    "- **viewWillAppear() :** Every time the view is shown the location of the user is updated.\n",
    "- **locationManager(didUpdateLocations error) :** Set the latitude and longitude of the user and add a marker on the map.\n",
    "- **annotationClicked(UserAnnotation annotation) :** When a marker of anopther is clicked the information relative to him are retrieved and passed to the ProfileViewController"
   ]
  },
  {
   "cell_type": "markdown",
   "metadata": {},
   "source": [
    "## SettingsViewController"
   ]
  },
  {
   "cell_type": "markdown",
   "metadata": {},
   "source": [
    "<img  src=\"Tinfinity_SettingsViewController.png\"/>"
   ]
  },
  {
   "cell_type": "markdown",
   "metadata": {},
   "source": [
    "The SettingsViewController shows a view with the recap iof the user informations and implement the logout functionality.\n",
    "- **viewDidLoad() :** When the view is loaded all the informations about the user, like the profile picture, are retrieved and displayed properly.\n",
    "- **loginButtonDidLogout() :** Exploit the Facebook SDK in order to invalidate the OAuth token and log out the user from the application."
   ]
  },
  {
   "cell_type": "markdown",
   "metadata": {},
   "source": [
    "## EditProfileViewController"
   ]
  },
  {
   "cell_type": "markdown",
   "metadata": {},
   "source": [
    "<img  src=\"Tinfinity_EditProfileViewController.png\"/>"
   ]
  },
  {
   "cell_type": "markdown",
   "metadata": {},
   "source": [
    "The EditProfileViewController and the other auxiliary ViewControllers (FacebookAlbumViewController, FacebookPhotoCollectionViewController and PictureDetailsViewController) provides the functionalities of the photo editing. The user here can decide which photos of his Facebook profile have to be displayed in the application.\n",
    "- **viewDidLoad() (FacebookAlbumViewController)** : Fetches the Facebook photos album relative to the user.\n",
    "- **viewDidLoad() (FacebookPhotoCollectionViewController)** : Fetches the preview of the photos that are in the selected album.\n",
    "- **viewDidLoad() (PictureDetailsViewController)** : Fetches the high resolution version of the selected photo."
   ]
  }
 ],
 "metadata": {
  "kernelspec": {
   "display_name": "Python 3",
   "language": "python",
   "name": "python3"
  },
  "language_info": {
   "codemirror_mode": {
    "name": "ipython",
    "version": 3
   },
   "file_extension": ".py",
   "mimetype": "text/x-python",
   "name": "python",
   "nbconvert_exporter": "python",
   "pygments_lexer": "ipython3",
   "version": "3.5.0"
  },
  "latex_envs": {
   "bibliofile": "biblio.bib",
   "cite_by": "apalike",
   "current_citInitial": 1,
   "eqLabelWithNumbers": true,
   "eqNumInitial": 0
  }
 },
 "nbformat": 4,
 "nbformat_minor": 0
}
