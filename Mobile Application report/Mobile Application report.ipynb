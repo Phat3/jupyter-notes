{
 "cells": [
  {
   "cell_type": "markdown",
   "metadata": {},
   "source": [
    "# Tinfinity\n",
    "\n",
    "## Intruduction\n",
    "\n",
    "This report will describe the tinfinity application, a proximity chat system for IOS platforms.\n",
    "The first part will indroduce the application with an high level description and then the report will focuses on the technical aspects.\n",
    "\n",
    "## High level applicatiopn description\n",
    "\n",
    "### Description\n",
    "\n",
    "Tinfnity is a mobile application that implements a proximity chat system whose aim to connect people which reside in the same area.\n",
    "In order to access this applicaton, the user must connect his Facebook account and share soma of his informations like photos and interests.\n",
    "Once the user has been successfully logged in the application, he can discover all the people that are using Tinfinity near to him using the map as shown in Figure 1.\n",
    "If the user find someone interesting on the map, he can tap on the marker and send a friendship request as shown in Figure 2. When and if the other user accepts the request, thay can start chatting and maybe know each other directly in person.\n",
    "Also, when the friendship is granted, the two users can continue to chat even if they are no longer near such a normal chat system as Whatsapp for example.\n",
    "The user can also personalize which informations have to be shared with others through the settings page as shown in Figure 3.\n",
    "(In order to improve the location system is possible to activate the augmented reality mode that shown the marker of the other users using the phone camera as shown in figure 4.).\n",
    "The application works in background and there is no need to open it in order to be localized by the others on the map (but the user can switch to the offline mode iat every moment)\n"
   ]
  },
  {
   "cell_type": "code",
   "execution_count": null,
   "metadata": {
    "collapsed": true
   },
   "outputs": [],
   "source": []
  }
 ],
 "metadata": {
  "kernelspec": {
   "display_name": "Python 3",
   "language": "python",
   "name": "python3"
  },
  "language_info": {
   "codemirror_mode": {
    "name": "ipython",
    "version": 3
   },
   "file_extension": ".py",
   "mimetype": "text/x-python",
   "name": "python",
   "nbconvert_exporter": "python",
   "pygments_lexer": "ipython3",
   "version": "3.5.1"
  },
  "latex_envs": {
   "bibliofile": "biblio.bib",
   "cite_by": "apalike",
   "current_citInitial": 1,
   "eqLabelWithNumbers": true,
   "eqNumInitial": 0
  }
 },
 "nbformat": 4,
 "nbformat_minor": 0
}
