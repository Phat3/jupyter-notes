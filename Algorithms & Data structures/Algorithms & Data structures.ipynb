{
 "cells": [
  {
   "cell_type": "markdown",
   "metadata": {},
   "source": [
    "<h1 style=\"text-align : center\"> Algorithms & Data structures </h1>"
   ]
  },
  {
   "cell_type": "markdown",
   "metadata": {},
   "source": [
    "# Table of Contents\n",
    "* [Sorting Algorithms](#Sorting-Algorithms)\n",
    "\t* [Insertion sort](#Insertion-sort)\n",
    "\t* [Merge sort](#Merge-sort)\n"
   ]
  },
  {
   "cell_type": "markdown",
   "metadata": {},
   "source": [
    "# Sorting Algorithms"
   ]
  },
  {
   "cell_type": "markdown",
   "metadata": {},
   "source": [
    "## Insertion sort"
   ]
  },
  {
   "cell_type": "markdown",
   "metadata": {},
   "source": [
    "Simple sorting algorithm not very efficient. The key idea is for each number scan the array backward until number lower that the one examined is found and insert the number in the correct position (the other position are kicked forward of one position).\n",
    "\n",
    "**Complexity :**\n",
    "\\begin{equation*}\n",
    "O(n^2)\n",
    "\\end{equation*}\n",
    "\n",
    "**ES :**"
   ]
  },
  {
   "cell_type": "markdown",
   "metadata": {},
   "source": [
    "<img  src=\"S3O6H4DO7LB9M4SDFP4EJAM896QH2VL6.png\"/>\n",
    "\n",
    "**Implementation :** "
   ]
  },
  {
   "cell_type": "code",
   "execution_count": 1,
   "metadata": {
    "collapsed": false,
    "run_control": {
     "marked": false
    }
   },
   "outputs": [
    {
     "data": {
      "text/plain": [
       "[1, 2, 3]"
      ]
     },
     "execution_count": 1,
     "metadata": {},
     "output_type": "execute_result"
    }
   ],
   "source": [
    "def insertionSort(a):\n",
    "    for j in range(1,len(a)):\n",
    "        key = a[j]\n",
    "        i = j - 1\n",
    "        # kick forward the number bigger than the key until we reach the end \n",
    "        # of the array or we find a number lower or equal that the key\n",
    "        while i >= 0 and a[i] > key:\n",
    "            a[i + 1]= a[i]\n",
    "            i -= 1\n",
    "        a[i + 1] = key\n",
    "    return a\n",
    "        \n",
    "arr = [3,2,1]\n",
    "insertionSort(arr)"
   ]
  },
  {
   "cell_type": "markdown",
   "metadata": {},
   "source": [
    "## Merge sort\n",
    "\n"
   ]
  },
  {
   "cell_type": "markdown",
   "metadata": {},
   "source": [
    "# Data Structures\n",
    "\n",
    "## Stack\n",
    "Implemented with an array and a pointer to the last element inserted (The top of the stack).\n",
    "\n",
    "It is managed with a **LIFO** policy\n",
    "\n",
    "- **top == 0** : empty stack\n",
    "\n",
    "- **top == len(array)** : full stack\n",
    "\n",
    "**Operations :**\n",
    "- **PUSH** : push an element on the top of the stack &nbsp;&nbsp;&nbsp;&nbsp;**Complexity : O(1)**\n",
    "- **POP** : remove the element pointed by top pointer &nbsp;&nbsp;&nbsp;&nbsp;**Complexity : O(1)**\n",
    "\n",
    "## Queue\n",
    "\n",
    "Implemented with an array with two pointers that keep track of the first element inserted (head) and the first empty space (tail, the last element position + 1 ).\n",
    "\n",
    "It is managed with a **FIFO** policy.\n",
    "\n",
    "- **head == tail** : empty queue\n",
    "\n",
    "- **head == tail + 1** : full queue\n",
    "\n",
    "**Operations :**\n",
    "- **ENQUEUE** : insert an element in the cell pointed by the tail pointer  &nbsp;&nbsp;&nbsp;&nbsp;**Complexity : O(1)**\n",
    "- **DEQUEUE** : remove the element pointed by the head pointer  &nbsp;&nbsp;&nbsp;&nbsp;**Complexity : O(1)**\n",
    "\n",
    "## Linked list\n",
    "\n",
    "The element are linked together by pointers to the next element and to the previous element (**Double linked list**) and the elements themself have **no indexes**"
   ]
  },
  {
   "cell_type": "markdown",
   "metadata": {},
   "source": [
    "<img  src=\"JQG05PM5XQ1M4SOMYKO20QRC21GBJ4HL.png\"/>"
   ]
  },
  {
   "cell_type": "markdown",
   "metadata": {},
   "source": [
    "- **prev** : pointer to the previous element (if prev == NULL -> no predecessor -> first element in the list)\n",
    "\n",
    "- **next** : pointer to the next element (if next == NULL -> no successor -> last element of the list)\n",
    "\n",
    "- **key** : content of the node\n",
    "\n",
    "- **head** : pointer to the first element in the list\n",
    "\n",
    "**Operations :**\n",
    "- **SEARCH** : loop through the list until the key is found or we have reach the last element &nbsp;&nbsp;&nbsp;&nbsp;**Complexity : O(n)**\n",
    "- **INSERT** : insert tyhe new element at the **beginning** of the list &nbsp;&nbsp;&nbsp;&nbsp;**Complexity : O(1)**\n",
    "- **DELETE** : delete the specified element and fix the pointers of the previous elementend the next element (prev.next = cur.nex && next.prev = cur.prev). We have to pass the whole element to the delete functionand not only the key, in this case we would have to loop on the list until the correct element is found and we would have lost the O(1) complexity &nbsp;&nbsp;&nbsp;&nbsp;**Complexity : O(1)**\n",
    "\n",
    "## Dictionary\n",
    "Dynamic set of key value pairs.\n",
    "If the set of key is sufficiently small we can build an array of length |keyset| and every cell contains the reference to the correct object. This array is called **direct access table**\n"
   ]
  },
  {
   "cell_type": "markdown",
   "metadata": {},
   "source": [
    "<img  src=\"C1Y6H6U5O1GJO0KGNIJOTCM8JN9XQOM9.png\"/>"
   ]
  },
  {
   "cell_type": "markdown",
   "metadata": {},
   "source": [
    "**OPERATIONS**\n",
    "- **INSERT** : insert the elemtnt in the correct key and overwrite the previous one\n",
    "- **SEARCH** : return the element pointed by the specified key\n",
    "- **DELETE** : delete the object pointed by the specified key\n",
    "\n",
    "## Hash table\n",
    "Use a table that is big enough to contain the **effective** number of keys memorized in the dictionary . The dimension of the table is independent from the cardinality of the set of all possible keys.\n",
    "\n",
    "- **|keyset|** : number of all possible key\n",
    "\n",
    "- **T[m]** : table with m cells\n",
    "\n",
    "- **h()** : hash function that has to map |keyset| possible key on m cells\n",
    "\n",
    "Due to the fact that m is << |keyset| we will have **collisions**!\n",
    "\n",
    "**Techniques against collisions :**\n",
    "\n",
    "- **Chaining** : if two different objects have the same key, these objects will be stoired in the same key position using a linked list\n",
    "\n",
    "    <img  src=\"WI8VQNVEB9WM7AHY3491I5QAN9Q7Y0UA.png\"/>\n",
    "    \n",
    "    - **INSERT** :the element at the beginning of the list stored in the specified key &nbsp;&nbsp;&nbsp;&nbsp;**Complexity : O(1)**\n",
    "    - **SEARCH** : loop through the list sored in the specified key until the correct value is found or the end of the list is reached &nbsp;&nbsp;&nbsp;&nbsp;**Complexity : O(len(T[key])**\n",
    "    - **DELETE** : delete the element in the list stored in the specified key &nbsp;&nbsp;&nbsp;&nbsp;**Complexity : O(1)**\n",
    "    \n",
    "- **Open addressing** : The table contains all the possible keys. The key is hashed and if the the cell is already full we have to proceed with a linear scannig, starting from the index calculated by the hash function, until an empty cell is found.\n"
   ]
  }
 ],
 "metadata": {
  "kernelspec": {
   "display_name": "Python 3",
   "language": "python",
   "name": "python3"
  },
  "language_info": {
   "codemirror_mode": {
    "name": "ipython",
    "version": 3
   },
   "file_extension": ".py",
   "mimetype": "text/x-python",
   "name": "python",
   "nbconvert_exporter": "python",
   "pygments_lexer": "ipython3",
   "version": "3.5.1"
  }
 },
 "nbformat": 4,
 "nbformat_minor": 0
}
