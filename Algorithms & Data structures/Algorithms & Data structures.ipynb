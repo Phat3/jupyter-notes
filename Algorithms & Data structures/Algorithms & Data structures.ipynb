{
 "cells": [
  {
   "cell_type": "markdown",
   "metadata": {},
   "source": [
    "<h1 style=\"text-align : center\"> Algorithms & Data structures </h1>"
   ]
  },
  {
   "cell_type": "markdown",
   "metadata": {},
   "source": [
    "# Sorting Algorithms"
   ]
  },
  {
   "cell_type": "markdown",
   "metadata": {},
   "source": [
    "## Insertion sort"
   ]
  },
  {
   "cell_type": "markdown",
   "metadata": {},
   "source": [
    "Simple sorting algorithm not very efficient. The key idea is for each number scan the array backward until number lower that the one examined is found and insert the number in the correct position (the other position are kicked forward of one position).\n",
    "\n",
    "**Complexity :**\n",
    "\\begin{equation*}\n",
    "O(n^2)\n",
    "\\end{equation*}\n",
    "\n",
    "**ES :**"
   ]
  },
  {
   "cell_type": "markdown",
   "metadata": {},
   "source": [
    "<img  src=\"S3O6H4DO7LB9M4SDFP4EJAM896QH2VL6.png\"/>\n",
    "\n",
    "**Implementation :** "
   ]
  },
  {
   "cell_type": "code",
   "execution_count": 76,
   "metadata": {
    "collapsed": false,
    "run_control": {
     "marked": true
    }
   },
   "outputs": [
    {
     "data": {
      "text/plain": [
       "[1, 2, 3]"
      ]
     },
     "execution_count": 76,
     "metadata": {},
     "output_type": "execute_result"
    }
   ],
   "source": [
    "def insertionSort(a):\n",
    "    for j in range(1,len(a)):\n",
    "        key = a[j]\n",
    "        i = j - 1\n",
    "        # kick forward the number bigger than the key until we reach the end \n",
    "        # of the array or we find a number lower or equal that the key\n",
    "        while i >= 0 and a[i] > key:\n",
    "            a[i + 1]= a[i]\n",
    "            i -= 1\n",
    "        a[i + 1] = key\n",
    "    return a\n",
    "        \n",
    "arr = [3,2,1]\n",
    "insertionSort(arr)"
   ]
  },
  {
   "cell_type": "markdown",
   "metadata": {},
   "source": [
    "## Merge sort\n",
    "\n"
   ]
  },
  {
   "cell_type": "markdown",
   "metadata": {},
   "source": [
    "# Data Structures"
   ]
  },
  {
   "cell_type": "markdown",
   "metadata": {},
   "source": [
    "## Stack"
   ]
  },
  {
   "cell_type": "markdown",
   "metadata": {},
   "source": [
    "Implemented with an array and a pointer to the last element inserted (The top of the stack).\n",
    "\n",
    "It is managed with a **LIFO** policy\n",
    "\n",
    "- **top == 0** : empty stack\n",
    "\n",
    "- **top == len(array)** : full stack\n",
    "\n",
    "**Operations :**\n",
    "\n",
    "- **PUSH** : **Complexity : O(1)**\n",
    "\n",
    "    push an element on the top of the stack\n",
    "    \n",
    "    \n",
    "- **POP** : **Complexity : O(1)**\n",
    "\n",
    "    remove the element pointed by top pointer"
   ]
  },
  {
   "cell_type": "markdown",
   "metadata": {},
   "source": [
    "## Queue"
   ]
  },
  {
   "cell_type": "markdown",
   "metadata": {},
   "source": [
    "Implemented with an array with two pointers that keep track of the first element inserted (head) and the first empty space (tail, the last element position + 1 ).\n",
    "\n",
    "It is managed with a **FIFO** policy.\n",
    "\n",
    "- **head == tail** : empty queue\n",
    "\n",
    "- **head == tail + 1** : full queue\n",
    "\n",
    "**Operations :**\n",
    "\n",
    "- **ENQUEUE** : **Complexity : O(1)**\n",
    "\n",
    "    insert an element in the cell pointed by the tail pointer  \n",
    "    \n",
    "    \n",
    "- **DEQUEUE** : **Complexity : O(1)**\n",
    "\n",
    "    remove the element pointed by the head pointer "
   ]
  },
  {
   "cell_type": "markdown",
   "metadata": {},
   "source": [
    "## Linked list"
   ]
  },
  {
   "cell_type": "markdown",
   "metadata": {},
   "source": [
    "The element are linked together by pointers to the next element and to the previous element (**Double linked list**) and the elements themself have **no indexes**"
   ]
  },
  {
   "cell_type": "markdown",
   "metadata": {},
   "source": [
    "<img  src=\"JQG05PM5XQ1M4SOMYKO20QRC21GBJ4HL.png\"/>"
   ]
  },
  {
   "cell_type": "markdown",
   "metadata": {},
   "source": [
    "- **prev** : pointer to the previous element (if prev == NULL -> no predecessor -> first element in the list)\n",
    "\n",
    "- **next** : pointer to the next element (if next == NULL -> no successor -> last element of the list)\n",
    "\n",
    "- **key** : content of the node\n",
    "\n",
    "- **head** : pointer to the first element in the list\n",
    "\n",
    "**Operations :**\n",
    "\n",
    "- **SEARCH** : **Complexity : O(n)**\n",
    "\n",
    "    loop through the list until the key is found or we have reach the last element \n",
    "\n",
    "\n",
    "- **INSERT** : **Complexity : O(1)**\n",
    "\n",
    "    insert tyhe new element at the **beginning** of the list \n",
    "\n",
    "\n",
    "- **DELETE** : **Complexity : O(1)**\n",
    "\n",
    "    delete the specified element and fix the pointers of the previous elementend the next element (prev.next = cur.nex && next.prev = cur.prev). We have to pass the whole element to the delete functionand not only the key, in this case we would have to loop on the list until the correct element is found and we would have lost the O(1) complexity"
   ]
  },
  {
   "cell_type": "markdown",
   "metadata": {},
   "source": [
    "## Dictionary"
   ]
  },
  {
   "cell_type": "markdown",
   "metadata": {},
   "source": [
    "Dynamic set of key value pairs.\n",
    "If the set of key is sufficiently small we can build an array of length |keyset| and every cell contains the reference to the correct object. This array is called **direct access table**"
   ]
  },
  {
   "cell_type": "markdown",
   "metadata": {},
   "source": [
    "<img  src=\"C1Y6H6U5O1GJO0KGNIJOTCM8JN9XQOM9.png\"/>"
   ]
  },
  {
   "cell_type": "markdown",
   "metadata": {},
   "source": [
    "**OPERATIONS**\n",
    "\n",
    "- **INSERT** : **Complexity : O(1)**\n",
    "\n",
    "    insert the elemtnt in the correct key and overwrite the previous one\n",
    "    \n",
    "    \n",
    "- **SEARCH** : **Complexity : O(1)**\n",
    "\n",
    "    return the element pointed by the specified key\n",
    "    \n",
    "    \n",
    "- **DELETE** : **Complexity : O(1)**\n",
    "\n",
    "    delete the object pointed by the specified key"
   ]
  },
  {
   "cell_type": "markdown",
   "metadata": {},
   "source": [
    "## Hash table"
   ]
  },
  {
   "cell_type": "markdown",
   "metadata": {},
   "source": [
    "Use a table that is big enough to contain the **effective** number of keys memorized in the dictionary . The dimension of the table is independent from the cardinality of the set of all possible keys.\n",
    "\n",
    "- **|keyset|** : number of all possible key\n",
    "\n",
    "- **T[m]** : table with m cells\n",
    "\n",
    "- **h()** : hash function that has to map |keyset| possible key on m cells\n",
    "\n",
    "Due to the fact that m is << |keyset| we will have **collisions**!\n",
    "\n",
    "**Techniques against collisions :**\n",
    "\n",
    "- **Chaining** : if two different objects have the same key, these objects will be stoired in the same key position using a linked list\n",
    "    <img  src=\"WI8VQNVEB9WM7AHY3491I5QAN9Q7Y0UA.png\"/><br><br>\n",
    "    \n",
    "    - **INSERT** : **Complexity : O(1)**\n",
    "    \n",
    "    the element at the beginning of the list stored in the specified key <br><br>\n",
    "                  \n",
    "    - **SEARCH** : **Complexity : O(len(T[key])**\n",
    "    \n",
    "      loop through the list sored in the specified key until the correct value is found or the end of the list is reached<br><br>\n",
    "              \n",
    "    - **DELETE** : **Complexity : O(1)**\n",
    "    \n",
    "        delete the element in the list stored in the specified key \n",
    "  \n",
    "  \n",
    "- **Open addressing** : The table contains all the possible keys. The key is hashed and if the the cell is already full we have to proceed with a linear scannig, starting from the index calculated by the hash function, until an empty cell is found."
   ]
  },
  {
   "cell_type": "markdown",
   "metadata": {},
   "source": [
    "# Binary tree"
   ]
  },
  {
   "cell_type": "markdown",
   "metadata": {},
   "source": [
    "Composed by three elements : a root node, a sub binary tree representing the right child and a sub binary tree representing the left child. **Every node has a key**."
   ]
  },
  {
   "cell_type": "markdown",
   "metadata": {},
   "source": [
    "<img  src=\"KMK6VNKO6S15CQO0B0YLWLRF5K96VGXW.png\"/>"
   ]
  },
  {
   "cell_type": "markdown",
   "metadata": {},
   "source": [
    "Every element has these attributes :\n",
    "\n",
    "- **key** : the key of the node\n",
    "\n",
    "- **left** : pointer to the root of the left sub binary tree (left == NULL -> no left child)\n",
    "\n",
    "- **rigth** : pointer to the root of the right sub binary tree (right == NULL -> no right child)\n",
    "\n",
    "- **p** : pointer to the parent node\n",
    "\n",
    "Every tree has :\n",
    "\n",
    "- **T.root** : pointer to the root node of the tree"
   ]
  },
  {
   "cell_type": "markdown",
   "metadata": {},
   "source": [
    "<img  src=\"RJNGBC3OLDTHKLSYUK0K5VNXJAQ66DK2.png\"/>"
   ]
  },
  {
   "cell_type": "markdown",
   "metadata": {},
   "source": [
    "## Binary search tree"
   ]
  },
  {
   "cell_type": "markdown",
   "metadata": {},
   "source": [
    "It's a binary tree with the following propety :\n",
    "> **for every node x, x.left.key <= x. key && x.right.key > x.key**\n",
    "\n",
    "**Ex :**"
   ]
  },
  {
   "cell_type": "markdown",
   "metadata": {},
   "source": [
    "<img  src=\"V21YYMT32AWUK3E7LL48XK31AGEBJLJ5.png\"/>"
   ]
  },
  {
   "cell_type": "code",
   "execution_count": 77,
   "metadata": {
    "collapsed": false,
    "run_control": {
     "marked": true
    }
   },
   "outputs": [
    {
     "data": {
      "text/plain": [
       "----5\n",
       "\t----3\n",
       "\t\t----2\n",
       "\t\t----5\n",
       "\t----7\n",
       "\t\t----8"
      ]
     },
     "execution_count": 77,
     "metadata": {},
     "output_type": "execute_result"
    }
   ],
   "source": [
    "class Node:\n",
    "    def __init__(self, key = 0, left = None, right = None, p = None):\n",
    "        self.left = left\n",
    "        self.right = right\n",
    "        self.key = key\n",
    "        self.p = p\n",
    "    \n",
    "    def __repr__(self, level=0):\n",
    "        ret = \"\\t\" * level + '----' + repr(self.key) + \"\\n\"\n",
    "        if self.left:\n",
    "            ret += self.left.__repr__(level+1)\n",
    "        if self.right:\n",
    "            ret += self.right.__repr__(level+1)\n",
    "        return ret\n",
    "\n",
    "\n",
    "Tree = Node(5,\n",
    "            Node(3,\n",
    "                Node(2),\n",
    "                Node(5)),\n",
    "            Node(7,\n",
    "                None,\n",
    "                Node(8))\n",
    "           )\n",
    "\n",
    "Tree"
   ]
  },
  {
   "cell_type": "markdown",
   "metadata": {},
   "source": [
    "**Operations :**\n",
    "\n",
    "- **INORDER-WALK** :  **Complexity : O(n)**\n",
    "\n",
    "    1. visit the left sub tree\n",
    "    2. print the root of the current node\n",
    "    3. visit the right tree\n",
    "    \n",
    "    **NB: IF THE TREE IS A BINARY SEARCH TREE THE INORDER_WALK WILL PRINT OUT THE NUMBER IN A CRESCENT ORDER!!**\n",
    "    \n",
    "    From the previous example -> 2,3,5,5,7,8\n",
    "    "
   ]
  },
  {
   "cell_type": "code",
   "execution_count": 78,
   "metadata": {
    "collapsed": false,
    "run_control": {
     "marked": true
    },
    "scrolled": true
   },
   "outputs": [
    {
     "data": {
      "text/plain": [
       "'2 3 5 5 7 8 '"
      ]
     },
     "execution_count": 78,
     "metadata": {},
     "output_type": "execute_result"
    }
   ],
   "source": [
    "def inorder_walk(Tree):    \n",
    "    if Tree:\n",
    "        return inorder_walk(Tree.left) + str(Tree.key) + ' ' +  inorder_walk(Tree.right)\n",
    "    return ''\n",
    "    \n",
    "inorder_walk(Tree)"
   ]
  },
  {
   "cell_type": "markdown",
   "metadata": {},
   "source": [
    "    \n",
    "- **PREORDER-WALK** : **Complexity : O(n)**\n",
    "\n",
    "    the same as inorder walk with the difference that the key of the current node is printed **before** the visit at the **left** sub tree\n",
    "\n",
    "    From the previous example -> 5,3,2,5,7,8\n",
    "    "
   ]
  },
  {
   "cell_type": "code",
   "execution_count": 79,
   "metadata": {
    "collapsed": false,
    "run_control": {
     "marked": true
    }
   },
   "outputs": [
    {
     "data": {
      "text/plain": [
       "'5 3 2 5 7 8 '"
      ]
     },
     "execution_count": 79,
     "metadata": {},
     "output_type": "execute_result"
    }
   ],
   "source": [
    "def preorder_walk(Tree):    \n",
    "    if Tree:\n",
    "        return str(Tree.key) + ' ' +  preorder_walk(Tree.left)  +  preorder_walk(Tree.right)\n",
    "    return ''\n",
    "    \n",
    "preorder_walk(Tree)"
   ]
  },
  {
   "cell_type": "markdown",
   "metadata": {},
   "source": [
    "    \n",
    "- **POSTORDER-WALK** : **Complexity : O(n)**\n",
    "\n",
    "    the same as inorder walk with the difference that the key of the current node is printed **after** the visit at the **right** sub tree \n",
    "\n",
    "    From the previous example -> 2,5,3,8,7,5\n",
    "    \n",
    " "
   ]
  },
  {
   "cell_type": "code",
   "execution_count": 80,
   "metadata": {
    "collapsed": false,
    "run_control": {
     "marked": true
    }
   },
   "outputs": [
    {
     "data": {
      "text/plain": [
       "'2 5 3 8 7 5 '"
      ]
     },
     "execution_count": 80,
     "metadata": {},
     "output_type": "execute_result"
    }
   ],
   "source": [
    "def postorder_walk(Tree):    \n",
    "    if Tree:\n",
    "        return postorder_walk(Tree.left)  +  postorder_walk(Tree.right) + str(Tree.key) + ' '\n",
    "    return ''\n",
    "postorder_walk(Tree)"
   ]
  },
  {
   "cell_type": "markdown",
   "metadata": {},
   "source": [
    "   \n",
    "- **SEARCH** : **Complexity : O(tree_height)**\n",
    "\n",
    "    We have to check the content of the current node :\n",
    "    - if cur.key == searched_key -> return cur\n",
    "    - if curkey < key -> search on right child\n",
    "    - if curkey > key -> search on left child\n",
    "  "
   ]
  },
  {
   "cell_type": "code",
   "execution_count": 81,
   "metadata": {
    "collapsed": false,
    "run_control": {
     "marked": true
    }
   },
   "outputs": [
    {
     "data": {
      "text/plain": [
       "----3\n",
       "\t----2\n",
       "\t----5"
      ]
     },
     "execution_count": 81,
     "metadata": {},
     "output_type": "execute_result"
    }
   ],
   "source": [
    "def search(Tree, key):\n",
    "    if not Tree:\n",
    "        return 'NOT FOUND'\n",
    "    if Tree.key == key:\n",
    "        return Tree\n",
    "    if Tree.key < key:\n",
    "        return search(Tree.right, key)\n",
    "    # if the Tree.key is not <= key we have to search in the left tree for sure\n",
    "    return search(Tree.left, key)\n",
    "\n",
    "search(Tree, 3)"
   ]
  },
  {
   "cell_type": "markdown",
   "metadata": {},
   "source": [
    "  \n",
    "    \n",
    "- **TREE-MINIMUM** : **Complexity : O(tree_height)**\n",
    "\n",
    "    Follow the left child until a leaf is reached\n",
    "    "
   ]
  },
  {
   "cell_type": "code",
   "execution_count": 82,
   "metadata": {
    "collapsed": false,
    "run_control": {
     "marked": true
    }
   },
   "outputs": [
    {
     "data": {
      "text/plain": [
       "2"
      ]
     },
     "execution_count": 82,
     "metadata": {},
     "output_type": "execute_result"
    }
   ],
   "source": [
    "def tree_minimum(Tree):\n",
    "    if Tree.left:\n",
    "        return tree_minimum(Tree.left)\n",
    "    return Tree.key\n",
    "\n",
    "tree_minimum(Tree)"
   ]
  },
  {
   "cell_type": "markdown",
   "metadata": {},
   "source": [
    "    \n",
    "- **TREE-MAXIMUM** : **Complexity : O(tree_height)**\n",
    "\n",
    "    Follow the right child until a leaf is reached \n",
    "    "
   ]
  },
  {
   "cell_type": "code",
   "execution_count": 83,
   "metadata": {
    "collapsed": false,
    "run_control": {
     "marked": true
    }
   },
   "outputs": [
    {
     "data": {
      "text/plain": [
       "8"
      ]
     },
     "execution_count": 83,
     "metadata": {},
     "output_type": "execute_result"
    }
   ],
   "source": [
    "def tree_maximum(Tree):\n",
    "    if Tree.right:\n",
    "        return tree_maximum(Tree.right)\n",
    "    return Tree.key\n",
    "\n",
    "tree_maximum(Tree)"
   ]
  },
  {
   "cell_type": "markdown",
   "metadata": {},
   "source": [
    "- **SUCCESSOR** : **Complexity : O(tree_height)**\n",
    "    \n",
    "    A successor of a node with key k is the smallest key k1 in the set of the keys > k\n",
    "   \n",
    "    We have two cases :\n",
    "    - if the right child is not null - > we have to return the TREE-MINIMUM of the right sub-tree\n",
    "    \n",
    "    <img  src=\"I5NPLWBLICD8TF0M2Y7WTVTG7F4V4WPK.png\"/>\n",
    "\n",
    "    - if the right child is null -> we have to \"climb\" the tree until we meet a node that has as right child a key different from us (recursively)"
   ]
  },
  {
   "cell_type": "markdown",
   "metadata": {},
   "source": [
    "<img  src=\"C5F1SY31CHW4BVS9Y7W0VBURWCM3WBNS.png\"/>"
   ]
  },
  {
   "cell_type": "markdown",
   "metadata": {},
   "source": [
    "- **PREDECESSOR** : **Complexity : O(tree_height)**\n",
    "\n",
    "    A predecessor of a node with key k is the greatest key k1 in the set of the keys < k\n",
    "    \n",
    "    We have two cases:\n",
    "    - if the left child is not null -> return the TREE-MAXIMUM of the left sub-tree\n",
    "    - if the left child is null ->we have to \"climb\" te tree until we meet a node that has as left child a key different from us (recursively)\n",
    "    \n",
    "    \n",
    "- **INSERT** : **Complexity : O(tree_height)**\n",
    "\n",
    "    Insert the node in the appropriate place:\n",
    "    1. check if the key of the current node is lower or greater than the current key\n",
    "        - greater -> call INSERT n the left sub-tee\n",
    "        - lower -> call INSERT on the right sub-tree\n",
    "        \n",
    "    2. if the chosen sub-tree is empty insert the new node as a leaf\n",
    "    \n",
    "    **EX :** Insertion of 7\n",
    "    \n",
    "    **before**\n",
    "\n",
    "    <img  src=\"GBHKM7ENACBCRDQ6DE56DM4BVXKNLJ9F.png\"/>\n",
    "\n",
    "    **After**\n",
    "\n",
    "    <img  src=\"J68UM56QJU3GE4GGG33XM0U5UDB3P415.png\"/>\n",
    "    \n",
    "    \n",
    "- **DELETE** : **Complexity : O(tree_height)**\n",
    "\n",
    "    Delete the correct node from the tree\n",
    "    \n",
    "    We have three cases :\n",
    "    1. the node that we want to delete has **no** children -> set p.right = NULL or p.left = NULL    \n",
    "\n",
    "    <img  src=\"HH83U3TRV3RDT2QR996SB1NHRG08N88X.png\"/><br><br>\n",
    "    \n",
    "    2. the node that we want to delete has **one** child -> p.right or p.left = x.left or x.right (we have too attach to the parent node the child of the deleted node)\n",
    "\n",
    "    <img  src=\"YXVLQ46HBDL8R7G36AV6S2C5HCRCXV6L.png\"/><br><br>\n",
    "    \n",
    "    3. the node that we want to delete has **two** children -> we have to find the SUCCESSOR of the node that we want to delete, copy its key in the current node and call the DELETE function on the successor\n",
    "\n",
    "<img  src=\"SMBOM42VKDDORBN6QYM2ITBYKV6NKU5B.png\"/>"
   ]
  },
  {
   "cell_type": "markdown",
   "metadata": {},
   "source": [
    "## Red and Black tree"
   ]
  },
  {
   "cell_type": "markdown",
   "metadata": {},
   "source": [
    "It's a **balanced** binary search tree. They have to have some properties in order to be balanced\n",
    "\n",
    "**Key idea :**\n",
    "\n",
    "- Every node has a color (red or black) \n",
    "\n",
    "- The colors are distributed on the tree in order to guarantee that a path that has a length double respect to another doesn't exist\n",
    "\n",
    "A binary search tree is a red and black treee if it has these properties:\n",
    "\n",
    "1. Every node is red or black\n",
    "\n",
    "- Every leaf (NULL) are black\n",
    "\n",
    "- The root is black\n",
    "\n",
    "- The children of a red node are black\n",
    "\n",
    "- For every path from x to the leaf, the black height (number of black node) is the same\n",
    "\n",
    "**Ex :**"
   ]
  },
  {
   "cell_type": "markdown",
   "metadata": {},
   "source": [
    "<img  src=\"ADI72FGIT990QQS07I4YINJ5I06BVKJU.png\"/>"
   ]
  },
  {
   "cell_type": "markdown",
   "metadata": {},
   "source": [
    "**Operations :**\n",
    "\n",
    "- ** SEARCH, TREE-MINIMUM, TREE-MAXIMUM, SUCCESSOR e PREDECESSOR ** : **Complexity : O(tree_height)**\n",
    "\n",
    "    Due to the fact that the tree is always balanced, these operations takes at most O(tree_height)\n",
    "\n",
    "\n",
    "- **INSERT and DELETE** : \n",
    "\n",
    "    We have to modify these operations because we have to maintain the tree balanced! (They have to maintain he 5 properties of a red and black tree).\n",
    "    we need to introduce two new operations: **LEFT-ROTATE** and **RIGHT-ROTATE**\n",
    "    "
   ]
  },
  {
   "cell_type": "markdown",
   "metadata": {},
   "source": [
    "<img  src=\"XGA0IOHMYH4KW30FXFXX7SCAD40JYI1C.png\"/>"
   ]
  },
  {
   "cell_type": "markdown",
   "metadata": {},
   "source": [
    "- **LEFT-ROTATE**\n",
    "\n",
    "     We have to maintain the properties of the binary search trees so: \n",
    "     1. y becomes the new root\n",
    "     2. x becomes the left child of y because x < y\n",
    "     3. beta becomes the right child of x because it cannot be the left child of y anymore (x is the new child of y) and because beta > x"
   ]
  },
  {
   "cell_type": "markdown",
   "metadata": {},
   "source": [
    "# Trie\n",
    "\n",
    "* A trie is a tree where **each vertex represents a single word or a prefix**.\n",
    "\n",
    "\n",
    "* The root represents an empty string (“”), **the vertexes that are direct sons of the root** represent **prefixes of length 1**, **the vertexes that are 2 edges of distance from the root** represent **prefixes of length 2**, and so on. In other words, a vertex that are k edges of distance of the root have an associated prefix of length k. If we reach leaf then **the vertexes that are present in the path from the root to the leaf** represent an actual **word**.\n",
    "\n",
    "\n",
    "* Let v and w be two vertexes of the trie, and assume that **v is a direct father of w, then v must have an associated prefix of w**.\n",
    "\n",
    "\n",
    "* Some vertexes can be annotated as **complete** (red star in the picture below). **The path from the root to a complete vertex** represents an actual **word**."
   ]
  },
  {
   "cell_type": "markdown",
   "metadata": {},
   "source": [
    "<img  src=\"YVVXPHVC84VFIL1GPL9AXY3GO04HR3DP.png\"/>\n",
    "\n",
    "* In some implementation each node of a trie can be annotated with the **number of words which use that prefix**. This is very useful if we want to implement a function that given a prefix retrieve the number of word starting with that prefix in an efficient way"
   ]
  },
  {
   "cell_type": "markdown",
   "metadata": {},
   "source": [
    "<img  src=\"LEO3C0I40VQSUX5D7C3KPDH3ODMRPDMW.png\"/>"
   ]
  },
  {
   "cell_type": "markdown",
   "metadata": {},
   "source": [
    "**Operations :**\n"
   ]
  },
  {
   "cell_type": "markdown",
   "metadata": {},
   "source": [
    "We can represent a trie in two way :\n",
    "\n",
    "- **Simple way**\n",
    "\n"
   ]
  },
  {
   "cell_type": "code",
   "execution_count": 1,
   "metadata": {
    "collapsed": true,
    "run_control": {
     "marked": true
    }
   },
   "outputs": [],
   "source": [
    "class TrieNode:\n",
    "    def __init__(self):\n",
    "        # keeps track of how many times the prefix is used by the words in our trie\n",
    "        self.count = 1\n",
    "        # indicates if the node is complete (the path from the root to the node froms\n",
    "        # a valid word)\n",
    "        self.is_complete\n",
    "        # heeps track of the children of the nones { edge_label(letter) : TrieNode() }\n",
    "        self.children = {}"
   ]
  },
  {
   "cell_type": "markdown",
   "metadata": {},
   "source": [
    "- **Efficient way**"
   ]
  },
  {
   "cell_type": "code",
   "execution_count": 2,
   "metadata": {
    "collapsed": true,
    "run_control": {
     "marked": true
    }
   },
   "outputs": [],
   "source": [
    "# trie[0] = children of the node\n",
    "# trie[1] = prefix counter\n",
    "trie = [{}, 0]"
   ]
  },
  {
   "cell_type": "markdown",
   "metadata": {},
   "source": [
    "- **ADD-WORD**\n",
    "\n",
    "    We need to traverse the trie, update the count for each node that we traverse, and finally add the new node when the word that we want to insert is reached ( we have to mark the node as 'complete'\n",
    "    also. It take O(n) where n is the length of the word to insert.\n",
    "    "
   ]
  },
  {
   "cell_type": "code",
   "execution_count": null,
   "metadata": {
    "code_folding": [],
    "collapsed": true,
    "run_control": {
     "marked": true
    }
   },
   "outputs": [],
   "source": [
    "# simple way\n",
    "def add_word(trie_node, word):\n",
    "    if word == '':\n",
    "        trie_node.is_complete = True\n",
    "        return\n",
    "    else:\n",
    "        edge = word[0]\n",
    "        # if the edge does not exist insert it\n",
    "        if not edge in trie_node.children.keys():\n",
    "            trie_node.add_child(edge)\n",
    "        # otherwise increment the counter because an already present perfix\n",
    "        # is going to be used by a new word\n",
    "        else:\n",
    "            trie_node.children[edge].count += 1\n",
    "        return add_word(trie_node.children[edge], word[1:])\n",
    "\n",
    "# efficient way\n",
    "def add_contact_eff(trie_node, word):\n",
    "    node = trie_node\n",
    "    for c in word:\n",
    "        # create a new node if edge does not exist\n",
    "        if c not in node[0].keys():\n",
    "            node[0][c] = [{}, 0]\n",
    "        # increment the usage counter\n",
    "        node[0][c][1] += 1\n",
    "        # the next char will be a child of the node already created / modified\n",
    "        node = node[0][c]"
   ]
  },
  {
   "cell_type": "markdown",
   "metadata": {},
   "source": [
    "- **IS-VALID-WORD**\n",
    "\n",
    "    It is sufficient to navigate the tree and check that at the end of the word we end up on a valid complete node. It runs in O(n)\n",
    "    \n",
    "\n",
    "- **COUNT-WORDS-USING-PREFIX**\n",
    "\n",
    "    We need to traverse the code, making sure that the prefix that we want to find represent a valid path in the trie, and then return the counter associated to the node we reached. It runs in O(n)"
   ]
  },
  {
   "cell_type": "code",
   "execution_count": 3,
   "metadata": {
    "collapsed": true,
    "run_control": {
     "marked": true
    }
   },
   "outputs": [],
   "source": [
    "# simple way\n",
    "def count_words_using_prefix(trie_node, prefix):\n",
    "    if prefix == '':\n",
    "        return trie_node.count\n",
    "    elif prefix[0] not in trie_node.children.keys():\n",
    "        return 0\n",
    "    else:\n",
    "        return find_prefix(trie_node.children[prefix[0]], prefix[1:])\n",
    "\n",
    "# efficient way\n",
    "def count_words_using_prefix(trie_node, prefix):\n",
    "    node = trie_node\n",
    "    for c in prefix:\n",
    "        # invalid prefix detected\n",
    "        if c not in node[0].keys():\n",
    "            return 0\n",
    "        # advance in the path\n",
    "        node = node[0][c]\n",
    "    # return the counter of the node representing the prefix\n",
    "    return node[1]"
   ]
  },
  {
   "cell_type": "markdown",
   "metadata": {},
   "source": [
    "# Graph\n",
    "\n",
    "Data structure represented by the tuple G = (V, E) where:\n",
    "\n",
    "- **V** : set of vertexes present in the graph\n",
    "\n",
    "- **E** : set of edges present in the graph\n",
    "\n",
    "A graph can be **undirected** (the edge from u to v is the same as the edge from v to u) or **directed** (the edge from u to v is different from the one from v to u, if any).\n",
    "\n",
    "A graph in memory can be represented in two way:\n",
    "\n",
    "- **Adjacency list** : there is an entry for each vertex and each entry contains a list of the adjacent vertexes of the vertex entry ( **better to use when the graph is sparse** )\n",
    "\n",
    "\n",
    "- **Adjacency matrix** : a matrix M of with dimension |V|x|V| is created and if vertex u and vertex v are connected then M[u][v] == 1 otherwise M[u][v] == 0 ( **better to use when the graph is almost complete** )"
   ]
  },
  {
   "cell_type": "markdown",
   "metadata": {},
   "source": [
    "<img  src=\"AO2Q3KWEANG7IGCVMXVFN6HK4Y185C9F.png\"/>"
   ]
  },
  {
   "cell_type": "markdown",
   "metadata": {},
   "source": [
    "**Operations**\n",
    "\n",
    "- **Breath-First-Search**\n",
    "    \n",
    "    Starting from a specified node the nodes closest to the starting point are visited first ( distance 1) and then nodes with distance 2 are visited and so on. This algorithm is useful to **find the shortest path between a starting node and a target node** because it is guarantee that the first time we reach the target node the path we have followed to reach it is the shortest.\n",
    "    "
   ]
  },
  {
   "cell_type": "markdown",
   "metadata": {},
   "source": [
    "<img  src=\"LHPYQJ3XKY3S5A3J70HPV4BVL4ABWMY1.png\"/>"
   ]
  },
  {
   "cell_type": "code",
   "execution_count": 4,
   "metadata": {
    "collapsed": true,
    "run_control": {
     "marked": true
    }
   },
   "outputs": [],
   "source": [
    "def bfs(start):\n",
    "    # the bsf order is modeled with a QUEUE beacuse we want a FIFO policy\n",
    "    # (i. e. we want to visit first all the nodes adjacent to the starting node)\n",
    "    # the first node to visit is the starting node\n",
    "    queue = [start]\n",
    "    # we need to keep track of the nodes already visited otherwise we can end up\n",
    "    # in some cycle\n",
    "    visited = set()\n",
    "    # until we have nodes to visit\n",
    "    while queue:\n",
    "        # get the node to visit (the first in the list at index 0)\n",
    "        node_to_visit = queue.pop(0)\n",
    "        # mark it as visited\n",
    "        visited.add(node_to_visit)\n",
    "        # extend the queue with its adjacent node\n",
    "        # in this way we will have a queue like this:\n",
    "        # [start, adj_start_1, ..., adj_start_n, adj_adj_start_1, .. adj_adj_start_n, ...]\n",
    "        # as we can notice during the pop(0) operation we will visit the nodes in BFS order\n",
    "        queue.extend(node_to_visit.adjacent_nodes() - visited)\n",
    "        # ...\n",
    "        # do the operation on the node"
   ]
  },
  {
   "cell_type": "markdown",
   "metadata": {},
   "source": [
    "- **Depth-First-Search**\n",
    "\n",
    "    Starting from a specified node, every time we find a new node we start to visit its adjacent node first\n",
    "    "
   ]
  },
  {
   "cell_type": "code",
   "execution_count": null,
   "metadata": {
    "collapsed": true,
    "run_control": {
     "marked": true
    }
   },
   "outputs": [],
   "source": [
    "def dfs(start):\n",
    "    # the dfs order is modeled with a STACK beacuse we want a LIFO policy\n",
    "    # (i. e. as soon as we find a new node we want to visit its adjacent nodes first)\n",
    "    # the first node to visit is the starting node\n",
    "    stack = [start]\n",
    "    # we need to keep track of the nodes already visited otherwise we can end up\n",
    "    # in some cycle\n",
    "    visited = set()\n",
    "    # until we have nodes to visit\n",
    "    while queue:\n",
    "        # get the node to visit (the one on top of the stack (the last one discovered))\n",
    "        node_to_visit = stack.pop()\n",
    "        # mark it as visited\n",
    "        visited.add(node_to_visit)\n",
    "        # extend the stack with its adjacent node\n",
    "        # in this way we will have a queue like this:\n",
    "        # [start, adj_start_1, ..., adj_start_n, adj_adj_start_1, .. adj_adj_start_n, ...]\n",
    "        # as we can notice during the pop() operation we will visit the nodes in DFS order\n",
    "        stack.append(node_to_visit.adjacent_nodes() - visited)\n",
    "        # ...\n",
    "        # do the operation on the node \n",
    "        \n",
    "# we can emulate the stack with recursive calls\n",
    "def dfs_rec(start, visited=set()):\n",
    "    visited.add(start)\n",
    "    for adj_n in start.adjacent_nodes() - visited:\n",
    "        dfs_rec(start, visited)\n",
    "    return visited"
   ]
  }
 ],
 "metadata": {
  "anaconda-cloud": {},
  "kernelspec": {
   "display_name": "Python [Root]",
   "language": "python",
   "name": "Python [Root]"
  },
  "language_info": {
   "codemirror_mode": {
    "name": "ipython",
    "version": 3
   },
   "file_extension": ".py",
   "mimetype": "text/x-python",
   "name": "python",
   "nbconvert_exporter": "python",
   "pygments_lexer": "ipython3",
   "version": "3.5.2"
  },
  "nav_menu": {},
  "toc": {
   "navigate_menu": true,
   "number_sections": false,
   "sideBar": true,
   "threshold": 6,
   "toc_cell": false,
   "toc_section_display": "block",
   "toc_window_display": false
  }
 },
 "nbformat": 4,
 "nbformat_minor": 0
}
