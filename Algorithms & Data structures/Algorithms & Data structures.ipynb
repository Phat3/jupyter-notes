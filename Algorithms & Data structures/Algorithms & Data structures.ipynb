{
 "cells": [
  {
   "cell_type": "markdown",
   "metadata": {},
   "source": [
    "<h1 style=\"text-align : center\"> Algorithms & Data structures </h1>"
   ]
  },
  {
   "cell_type": "markdown",
   "metadata": {},
   "source": [
    "# Table of Contents\n",
    "* [Sorting Algorithms](#Sorting-Algorithms)\n",
    "\t* [Insertion sort](#Insertion-sort)\n",
    "\t* [Merge sort](#Merge-sort)\n",
    "* [Data Structures](#Data-Structures)\n",
    "\t* [Stack](#Stack)\n",
    "\t* [Queue](#Queue)\n",
    "\t* [Linked list](#Linked-list)\n",
    "\t* [Dictionary](#Dictionary)\n",
    "\t* [Hash table](#Hash-table)\n",
    "* [Binary tree](#Binary-tree)\n",
    "\t* [Binary search tree](#Binary-search-tree)\n"
   ]
  },
  {
   "cell_type": "markdown",
   "metadata": {},
   "source": [
    "# Sorting Algorithms"
   ]
  },
  {
   "cell_type": "markdown",
   "metadata": {},
   "source": [
    "## Insertion sort"
   ]
  },
  {
   "cell_type": "markdown",
   "metadata": {},
   "source": [
    "Simple sorting algorithm not very efficient. The key idea is for each number scan the array backward until number lower that the one examined is found and insert the number in the correct position (the other position are kicked forward of one position).\n",
    "\n",
    "**Complexity :**\n",
    "\\begin{equation*}\n",
    "O(n^2)\n",
    "\\end{equation*}\n",
    "\n",
    "**ES :**"
   ]
  },
  {
   "cell_type": "markdown",
   "metadata": {},
   "source": [
    "<img  src=\"S3O6H4DO7LB9M4SDFP4EJAM896QH2VL6.png\"/>\n",
    "\n",
    "**Implementation :** "
   ]
  },
  {
   "cell_type": "code",
   "execution_count": 1,
   "metadata": {
    "collapsed": false,
    "run_control": {
     "marked": false
    }
   },
   "outputs": [
    {
     "data": {
      "text/plain": [
       "[1, 2, 3]"
      ]
     },
     "execution_count": 1,
     "metadata": {},
     "output_type": "execute_result"
    }
   ],
   "source": [
    "def insertionSort(a):\n",
    "    for j in range(1,len(a)):\n",
    "        key = a[j]\n",
    "        i = j - 1\n",
    "        # kick forward the number bigger than the key until we reach the end \n",
    "        # of the array or we find a number lower or equal that the key\n",
    "        while i >= 0 and a[i] > key:\n",
    "            a[i + 1]= a[i]\n",
    "            i -= 1\n",
    "        a[i + 1] = key\n",
    "    return a\n",
    "        \n",
    "arr = [3,2,1]\n",
    "insertionSort(arr)"
   ]
  },
  {
   "cell_type": "markdown",
   "metadata": {},
   "source": [
    "## Merge sort\n",
    "\n"
   ]
  },
  {
   "cell_type": "markdown",
   "metadata": {},
   "source": [
    "# Data Structures"
   ]
  },
  {
   "cell_type": "markdown",
   "metadata": {},
   "source": [
    "## Stack"
   ]
  },
  {
   "cell_type": "markdown",
   "metadata": {},
   "source": [
    "Implemented with an array and a pointer to the last element inserted (The top of the stack).\n",
    "\n",
    "It is managed with a **LIFO** policy\n",
    "\n",
    "- **top == 0** : empty stack\n",
    "\n",
    "- **top == len(array)** : full stack\n",
    "\n",
    "**Operations :**\n",
    "\n",
    "- **PUSH** : **Complexity : O(1)**\n",
    "\n",
    "    push an element on the top of the stack\n",
    "    \n",
    "    \n",
    "- **POP** : **Complexity : O(1)**\n",
    "\n",
    "    remove the element pointed by top pointer"
   ]
  },
  {
   "cell_type": "markdown",
   "metadata": {},
   "source": [
    "## Queue"
   ]
  },
  {
   "cell_type": "markdown",
   "metadata": {},
   "source": [
    "Implemented with an array with two pointers that keep track of the first element inserted (head) and the first empty space (tail, the last element position + 1 ).\n",
    "\n",
    "It is managed with a **FIFO** policy.\n",
    "\n",
    "- **head == tail** : empty queue\n",
    "\n",
    "- **head == tail + 1** : full queue\n",
    "\n",
    "**Operations :**\n",
    "\n",
    "- **ENQUEUE** : **Complexity : O(1)**\n",
    "\n",
    "    insert an element in the cell pointed by the tail pointer  \n",
    "    \n",
    "    \n",
    "- **DEQUEUE** : **Complexity : O(1)**\n",
    "\n",
    "    remove the element pointed by the head pointer "
   ]
  },
  {
   "cell_type": "markdown",
   "metadata": {},
   "source": [
    "## Linked list"
   ]
  },
  {
   "cell_type": "markdown",
   "metadata": {},
   "source": [
    "The element are linked together by pointers to the next element and to the previous element (**Double linked list**) and the elements themself have **no indexes**"
   ]
  },
  {
   "cell_type": "markdown",
   "metadata": {},
   "source": [
    "<img  src=\"JQG05PM5XQ1M4SOMYKO20QRC21GBJ4HL.png\"/>"
   ]
  },
  {
   "cell_type": "markdown",
   "metadata": {},
   "source": [
    "- **prev** : pointer to the previous element (if prev == NULL -> no predecessor -> first element in the list)\n",
    "\n",
    "- **next** : pointer to the next element (if next == NULL -> no successor -> last element of the list)\n",
    "\n",
    "- **key** : content of the node\n",
    "\n",
    "- **head** : pointer to the first element in the list\n",
    "\n",
    "**Operations :**\n",
    "\n",
    "- **SEARCH** : **Complexity : O(n)**\n",
    "\n",
    "    loop through the list until the key is found or we have reach the last element \n",
    "\n",
    "\n",
    "- **INSERT** : **Complexity : O(1)**\n",
    "\n",
    "    insert tyhe new element at the **beginning** of the list \n",
    "\n",
    "\n",
    "- **DELETE** : **Complexity : O(1)**\n",
    "\n",
    "    delete the specified element and fix the pointers of the previous elementend the next element (prev.next = cur.nex && next.prev = cur.prev). We have to pass the whole element to the delete functionand not only the key, in this case we would have to loop on the list until the correct element is found and we would have lost the O(1) complexity"
   ]
  },
  {
   "cell_type": "markdown",
   "metadata": {},
   "source": [
    "## Dictionary"
   ]
  },
  {
   "cell_type": "markdown",
   "metadata": {},
   "source": [
    "Dynamic set of key value pairs.\n",
    "If the set of key is sufficiently small we can build an array of length |keyset| and every cell contains the reference to the correct object. This array is called **direct access table**"
   ]
  },
  {
   "cell_type": "markdown",
   "metadata": {},
   "source": [
    "<img  src=\"C1Y6H6U5O1GJO0KGNIJOTCM8JN9XQOM9.png\"/>"
   ]
  },
  {
   "cell_type": "markdown",
   "metadata": {},
   "source": [
    "**OPERATIONS**\n",
    "\n",
    "- **INSERT** : **Complexity : O(1)**\n",
    "\n",
    "    insert the elemtnt in the correct key and overwrite the previous one\n",
    "    \n",
    "    \n",
    "- **SEARCH** : **Complexity : O(1)**\n",
    "\n",
    "    return the element pointed by the specified key\n",
    "    \n",
    "    \n",
    "- **DELETE** : **Complexity : O(1)**\n",
    "\n",
    "    delete the object pointed by the specified key"
   ]
  },
  {
   "cell_type": "markdown",
   "metadata": {},
   "source": [
    "## Hash table"
   ]
  },
  {
   "cell_type": "markdown",
   "metadata": {},
   "source": [
    "Use a table that is big enough to contain the **effective** number of keys memorized in the dictionary . The dimension of the table is independent from the cardinality of the set of all possible keys.\n",
    "\n",
    "- **|keyset|** : number of all possible key\n",
    "\n",
    "- **T[m]** : table with m cells\n",
    "\n",
    "- **h()** : hash function that has to map |keyset| possible key on m cells\n",
    "\n",
    "Due to the fact that m is << |keyset| we will have **collisions**!\n",
    "\n",
    "**Techniques against collisions :**\n",
    "\n",
    "- **Chaining** : if two different objects have the same key, these objects will be stoired in the same key position using a linked list\n",
    "    <img  src=\"WI8VQNVEB9WM7AHY3491I5QAN9Q7Y0UA.png\"/><br><br>\n",
    "    \n",
    "    - **INSERT** : **Complexity : O(1)**\n",
    "    \n",
    "    the element at the beginning of the list stored in the specified key <br><br>\n",
    "                  \n",
    "    - **SEARCH** : **Complexity : O(len(T[key])**\n",
    "    \n",
    "      loop through the list sored in the specified key until the correct value is found or the end of the list is reached<br><br>\n",
    "              \n",
    "    - **DELETE** : **Complexity : O(1)**\n",
    "    \n",
    "        delete the element in the list stored in the specified key \n",
    "  \n",
    "  \n",
    "- **Open addressing** : The table contains all the possible keys. The key is hashed and if the the cell is already full we have to proceed with a linear scannig, starting from the index calculated by the hash function, until an empty cell is found."
   ]
  },
  {
   "cell_type": "markdown",
   "metadata": {},
   "source": [
    "# Binary tree"
   ]
  },
  {
   "cell_type": "markdown",
   "metadata": {},
   "source": [
    "Composed by three elements : a root node, a sub binary tree representing the right child and a sub binary tree representing the left child. **Every node has a key**."
   ]
  },
  {
   "cell_type": "markdown",
   "metadata": {},
   "source": [
    "<img  src=\"KMK6VNKO6S15CQO0B0YLWLRF5K96VGXW.png\"/>"
   ]
  },
  {
   "cell_type": "markdown",
   "metadata": {},
   "source": [
    "Every element has these attributes :\n",
    "\n",
    "- **key** : the key of the node\n",
    "\n",
    "- **left** : pointer to the root of the left sub binary tree (left == NULL -> no left child)\n",
    "\n",
    "- **rigth** : pointer to the root of the right sub binary tree (right == NULL -> no right child)\n",
    "\n",
    "- **p** : pointer to the parent node\n",
    "\n",
    "Every tree has :\n",
    "\n",
    "- **T.root** : pointer to the root node of the tree"
   ]
  },
  {
   "cell_type": "markdown",
   "metadata": {},
   "source": [
    "<img  src=\"RJNGBC3OLDTHKLSYUK0K5VNXJAQ66DK2.png\"/>"
   ]
  },
  {
   "cell_type": "markdown",
   "metadata": {},
   "source": [
    "## Binary search tree"
   ]
  },
  {
   "cell_type": "markdown",
   "metadata": {},
   "source": [
    "It's a binary tree with the following propety :\n",
    "> **for every node x, x.left.key <= x. key && x.right.key > x.key**\n",
    "\n",
    "**Ex :**"
   ]
  },
  {
   "cell_type": "markdown",
   "metadata": {},
   "source": [
    "<img  src=\"V21YYMT32AWUK3E7LL48XK31AGEBJLJ5.png\"/>"
   ]
  },
  {
   "cell_type": "markdown",
   "metadata": {},
   "source": [
    "**Operations :**\n",
    "\n",
    "- **INORDER-WALK** :  **Complexity : O(n)**\n",
    "\n",
    "    1. visit the left sub tree\n",
    "    2. print the root of the current node\n",
    "    3. visit the right tree\n",
    "    \n",
    "    **NB: IF THE TREE IS A BINARY SEARCH TREE THE INORDER_WALK WILL PRINT OUT THE NUMBER IN A CRESCENT ORDER!!**\n",
    "    \n",
    "    From the previous example -> 2,3,5,5,7,8\n",
    "    \n",
    "    \n",
    "- **PREORDER-WALK** : **Complexity : O(n)**\n",
    "\n",
    "    the same as inorder walk with the difference that the key of the current node is printed **before** the visit at the **left** sub tree\n",
    "\n",
    "    From the previous example -> 5,3,2,5,7,8\n",
    "    \n",
    "    \n",
    "- **POSTORDER-WALK** : **Complexity : O(n)**\n",
    "\n",
    "    the same as inorder walk with the difference that the key of the current node is printed **after** the visit at the **right** sub tree \n",
    "\n",
    "    From the previous example -> 2,5,3,8,7,5\n",
    "    \n",
    "    \n",
    "- **SEARCH** : **Complexity : O(tree_height)**\n",
    "\n",
    "    We have to check the content of the current node :\n",
    "    - if cur.key == searched_key -> return cur\n",
    "    - if curkey < key -> search on right child\n",
    "    - if curkey > key -> search on left child"
   ]
  }
 ],
 "metadata": {
  "kernelspec": {
   "display_name": "Python 3",
   "language": "python",
   "name": "python3"
  },
  "language_info": {
   "codemirror_mode": {
    "name": "ipython",
    "version": 3
   },
   "file_extension": ".py",
   "mimetype": "text/x-python",
   "name": "python",
   "nbconvert_exporter": "python",
   "pygments_lexer": "ipython3",
   "version": "3.5.1"
  }
 },
 "nbformat": 4,
 "nbformat_minor": 0
}
