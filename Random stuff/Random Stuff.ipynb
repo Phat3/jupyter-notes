{
 "cells": [
  {
   "cell_type": "markdown",
   "metadata": {},
   "source": [
    "<h1 style=\"text-align : center\"> Random stuff </h1>"
   ]
  },
  {
   "cell_type": "markdown",
   "metadata": {
    "toc": "true"
   },
   "source": [
    "# Table of Contents\n",
    " <p><div class=\"lev1\"><a href=\"#-Random-stuff-\"> Random stuff </a></div><div class=\"lev1\"><a href=\"#Jupyter\">Jupyter</a></div><div class=\"lev2\"><a href=\"#Install-Calico-extension\">Install Calico extension</a></div><div class=\"lev2\"><a href=\"#Install-Ipython-notebook-extensions\">Install Ipython-notebook-extensions</a></div><div class=\"lev2\"><a href=\"#Add-custom-CSS\">Add custom CSS</a></div><div class=\"lev1\"><a href=\"#Yara-rules\">Yara rules</a></div><div class=\"lev2\"><a href=\"#Strings\">Strings</a></div><div class=\"lev2\"><a href=\"#Conditions\">Conditions</a></div>"
   ]
  },
  {
   "cell_type": "markdown",
   "metadata": {},
   "source": [
    "# Jupyter\n",
    "\n",
    "## Install Calico extension\n",
    "\n",
    "1. Type in a code cell in jupyter this:\n",
    "```bash\n",
    "!ipython install-nbextension https://bitbucket.org/ipre/calico/downloads/calico-document-tools-1.0.zip\n",
    "```\n",
    "\n",
    "2. In a terminal window type:\n",
    "```bash\n",
    "jupyter-nbextension enable calico-document-tools\n",
    "```\n",
    "\n",
    "## Install Ipython-notebook-extensions\n",
    "\n",
    "1. clone [this repository](https://github.com/ipython-contrib/IPython-notebook-extensions) \n",
    "2. build the package with conda\n",
    "```bash\n",
    "conda build IPython-notebook-extensions\n",
    "```\n",
    "\n",
    "3. go inside the directory and run the setup\n",
    "```bash\n",
    "python setup.py install\n",
    "```\n",
    "\n",
    "4. In your brouser go to http://localhost:8888/nbextensions\n",
    "\n",
    "## Add custom CSS\n",
    "\n",
    "1. Create a folder in $HOME/.ipython/profile_default/ called **static**\n",
    "2. Add a .css file with your overwritten rules called **custom.css** in the folder created before\n",
    "3. Restart the jupyter notebook service"
   ]
  },
  {
   "cell_type": "markdown",
   "metadata": {},
   "source": [
    "# Yara rules\n",
    "\n",
    "YARA is a tool aimed at helping malware researchers to identify and classify malware samples.\n",
    "\n",
    "**ES :**\n",
    "```\n",
    "rule silent_banker : banker\n",
    "{\n",
    "    meta:\n",
    "        description = \"This is just an example\"\n",
    "        thread_level = 3\n",
    "        in_the_wild = true\n",
    "    // if one of theese strings are present in the binary then  \n",
    "    // the binary is tagged as silent_banker\n",
    "    strings:\n",
    "        $a = {6A 40 68 00 30 00 00 6A 14 8D 91}    \n",
    "        $b = {8D 4D B0 2B C1 83 C0 27 99 6A 4E 59 F7 F9}   // HEX str  \n",
    "        $c = \"UVODFRYSIHLNWPEJXQZAKCBGMT\" //ASCII str\n",
    "        \n",
    "    condition:\n",
    "            $a or $b or $c //contition to satisfy\n",
    "}\n",
    "```\n",
    "\n",
    "**Syntax :** \n",
    ">```\n",
    "yara MY_RULE FILE_TO_BE_ScANNED\n",
    "```\n",
    "\n",
    "## Strings\n",
    "\n",
    "It is possible to use wildcards when you are writing a rules:\n",
    "\n",
    "- **?** : byte unknown\n",
    "```\n",
    "$hex_string = { E2 34 ?? C8 A? FB }\n",
    "```\n",
    "\n",
    "- **[n - m]** : from n to m cuold be anything\n",
    "```\n",
    "$hex_string = { F4 23 [4-6] 62 B4 }\n",
    "```\n",
    "\n",
    "- **|** : indicates alternatives (or)\n",
    "```\n",
    "$hex_string = { F4 23 ( 62 B4 | 56 ) 45 }\n",
    "```\n",
    "\n",
    "It is possible to use plain regex written using the common syntax of regex\n",
    "```\n",
    " $re1 = /md5: [0-9a-zA-Z]{32}/\n",
    "```\n",
    "\n",
    "## Conditions\n",
    "\n",
    "- **#STR_ID** : count the number of occurence of the specified string\n",
    "```\n",
    " #a == 6 and #b > 10\n",
    "```\n",
    "\n",
    "- **uint8be(OFF) / uint16be(OFF) /uint32be(OFF)** : read at offset\n",
    "```\n",
    " uint32(uint32(0x3C)) == 0x00004550\n",
    "```\n",
    "\n",
    "- **for expression of string_set : ( boolean_expression )** : apply the same boolean_expression for each strings and must be at least \"exppression\" of them that satisfy the condition \n",
    "```\n",
    "for any of ($a,$b,$c) : ( $ at entrypoint  )\n",
    "```\n",
    "\n",
    "- **fiesize** : specify a condition on the size\n",
    "```\n",
    "filesize < 10MB\n",
    "```"
   ]
  }
 ],
 "metadata": {
  "kernelspec": {
   "display_name": "Python 3",
   "language": "python",
   "name": "python3"
  },
  "language_info": {
   "codemirror_mode": {
    "name": "ipython",
    "version": 3
   },
   "file_extension": ".py",
   "mimetype": "text/x-python",
   "name": "python",
   "nbconvert_exporter": "python",
   "pygments_lexer": "ipython3",
   "version": "3.4.3"
  },
  "latex_envs": {
   "bibliofile": "biblio.bib",
   "cite_by": "apalike",
   "current_citInitial": 1,
   "eqLabelWithNumbers": true,
   "eqNumInitial": 0
  },
  "toc": {
   "toc_cell": true,
   "toc_number_sections": false,
   "toc_section_display": "none",
   "toc_threshold": 4,
   "toc_window_display": true
  }
 },
 "nbformat": 4,
 "nbformat_minor": 0
}
