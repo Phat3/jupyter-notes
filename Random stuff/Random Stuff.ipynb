{
 "cells": [
  {
   "cell_type": "markdown",
   "metadata": {},
   "source": [
    "# Random stuff"
   ]
  },
  {
   "cell_type": "markdown",
   "metadata": {},
   "source": [
    "## Table of Contents\n",
    "* [Jupyter](#Jupyter)\n",
    "    * [Install Calico extension](#Install-Calico-extension)\n",
    "    * [Install Ipython-notebook-extensions](#Install-Ipython-notebook-extensions)\n",
    "* [Docker](#Docker)\n",
    "    * [How it works on Windows / OSX](#How-it-works-on-Windows-/-OSX)\n",
    "    * [Troubleshooting on windows](#Troubleshooting-on-windows)\n"
   ]
  },
  {
   "cell_type": "markdown",
   "metadata": {},
   "source": [
    "## Jupyter\n",
    "### Install Calico extension\n",
    "1. Type in a code cell in jupyter this:\n",
    "```bash\n",
    "!ipython install-nbextension https://bitbucket.org/ipre/calico/downloads/calico-document-tools-1.0.zip\n",
    "```\n",
    "2. In a terminal window type:\n",
    "```bash\n",
    "jupyter-nbextension enable calico-document-tools\n",
    "```\n",
    "\n",
    "### Install Ipython-notebook-extensions\n",
    "1. clone [this repository](https://github.com/ipython-contrib/IPython-notebook-extensions) \n",
    "2. build the package with conda\n",
    "```bash\n",
    "conda build IPython-notebook-extensions\n",
    "```\n",
    "3. go inside the directory and run the setup\n",
    "```bash\n",
    "python setup.py install\n",
    "```\n",
    "4. In your brouser go to http://localhost:8888/nbextensions"
   ]
  },
  {
   "cell_type": "markdown",
   "metadata": {
    "collapsed": true
   },
   "source": [
    "## Docker"
   ]
  },
  {
   "cell_type": "markdown",
   "metadata": {},
   "source": [
    "### How it works on Windows / OSX"
   ]
  },
  {
   "cell_type": "markdown",
   "metadata": {},
   "source": [
    "Docker needs a linux kernel in order to wor properly, so if our OS is different we need to create a vm with a linux kernel and install docker on it.\n",
    "\n",
    "Basically, the way docker works is that the **docker ...** commands are passed to a docker service (running on port 2375).\n",
    "\n",
    "- **Flow :**\n",
    "    1. The default virtual machine is created in VirtualBox\n",
    "    2. the starter (kinamatic / \"Docker Quickstart Terminal\" / cmd) of the machine waits for the machine to boot, gets it's IP address and sets the default vm ip:port as the service address in few environment variables\n",
    "    3. from this point all **docker ...** commands are send to the linux host and everything works almost as native linux"
   ]
  },
  {
   "cell_type": "markdown",
   "metadata": {},
   "source": [
    "### Troubleshooting on windows"
   ]
  },
  {
   "cell_type": "markdown",
   "metadata": {},
   "source": [
    "I have encountered some problem during the installation of docker on my windows machine:\n",
    "* bash.exe not found\n",
    "    * just search manually the path to bash.exe (it should be in the Git directory)    \n",
    "* Docker Quickstart Terminal doesn't work the first time you launch it\n",
    "    * launch the Docker Quickstart Terminal multiple times\n",
    "* No connection could be made because the target machine actively refused it\n",
    "    * Set the env variables manually with:\n",
    "    ```bash\n",
    "    \"C:\\Program Files\\Docker Toolbox\\docker-machine\" env default --shell=cmd\n",
    "    ```\n",
    "    **NB :** default is the name of the vm retived with:\n",
    "    ```bash\n",
    "    \"C:\\Program Files\\Docker Toolbox\\docker-machine\" ls\n",
    "    ```\n",
    "* Open C:\\Users\\X\\.docker\\machine\\machines\\default\\server.pem: The system cannot find the file specified.\n",
    "    * regenerate the vm certificates with:\n",
    "    ```bash\n",
    "    docker-machine regenerate-cers <VM_NAME>\n",
    "    ```\n",
    "    and restart the Docker Quickstart Terminal"
   ]
  }
 ],
 "metadata": {
  "kernelspec": {
   "display_name": "Python 3",
   "language": "python",
   "name": "python3"
  },
  "language_info": {
   "codemirror_mode": {
    "name": "ipython",
    "version": 3
   },
   "file_extension": ".py",
   "mimetype": "text/x-python",
   "name": "python",
   "nbconvert_exporter": "python",
   "pygments_lexer": "ipython3",
   "version": "3.5.1"
  },
  "latex_envs": {
   "bibliofile": "biblio.bib",
   "cite_by": "apalike",
   "current_citInitial": 1,
   "eqLabelWithNumbers": true,
   "eqNumInitial": 0
  }
 },
 "nbformat": 4,
 "nbformat_minor": 0
}
