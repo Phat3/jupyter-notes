{
 "cells": [
  {
   "cell_type": "markdown",
   "metadata": {},
   "source": [
    "<h1 style=\"text-align : center\"> Random stuff </h1>"
   ]
  },
  {
   "cell_type": "markdown",
   "metadata": {},
   "source": [
    "## Table of Contents\n",
    "* [Jupyter](#Jupyter)\n",
    "    * [Install Calico extension](#Install-Calico-extension)\n",
    "    * [Install Ipython-notebook-extensions](#Install-Ipython-notebook-extensions)\n",
    "    * [Add custom CSS](#Add-custom-CSS)"
   ]
  },
  {
   "cell_type": "markdown",
   "metadata": {},
   "source": [
    "## Jupyter\n",
    "\n",
    "### Install Calico extension\n",
    "\n",
    "1. Type in a code cell in jupyter this:\n",
    "```bash\n",
    "!ipython install-nbextension https://bitbucket.org/ipre/calico/downloads/calico-document-tools-1.0.zip\n",
    "```\n",
    "\n",
    "2. In a terminal window type:\n",
    "```bash\n",
    "jupyter-nbextension enable calico-document-tools\n",
    "```\n",
    "\n",
    "### Install Ipython-notebook-extensions\n",
    "\n",
    "1. clone [this repository](https://github.com/ipython-contrib/IPython-notebook-extensions) \n",
    "2. build the package with conda\n",
    "```bash\n",
    "conda build IPython-notebook-extensions\n",
    "```\n",
    "\n",
    "3. go inside the directory and run the setup\n",
    "```bash\n",
    "python setup.py install\n",
    "```\n",
    "\n",
    "4. In your brouser go to http://localhost:8888/nbextensions\n",
    "\n",
    "### Add custom CSS\n",
    "\n",
    "1. Create a folder in $HOME/.ipython/profile_default/ called **static**\n",
    "2. Add a .css file with your overwritten rules called **custom.css** in the folder created before\n",
    "3. Restart the jupyter notebook service"
   ]
  }
 ],
 "metadata": {
  "kernelspec": {
   "display_name": "Python 3",
   "language": "python",
   "name": "python3"
  },
  "language_info": {
   "codemirror_mode": {
    "name": "ipython",
    "version": 3
   },
   "file_extension": ".py",
   "mimetype": "text/x-python",
   "name": "python",
   "nbconvert_exporter": "python",
   "pygments_lexer": "ipython3",
   "version": "3.5.1"
  },
  "latex_envs": {
   "bibliofile": "biblio.bib",
   "cite_by": "apalike",
   "current_citInitial": 1,
   "eqLabelWithNumbers": true,
   "eqNumInitial": 0
  }
 },
 "nbformat": 4,
 "nbformat_minor": 0
}
