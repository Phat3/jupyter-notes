{
 "cells": [
  {
   "cell_type": "markdown",
   "metadata": {},
   "source": [
    "# Jupyter"
   ]
  },
  {
   "cell_type": "markdown",
   "metadata": {},
   "source": [
    "### Install Calico extension"
   ]
  },
  {
   "cell_type": "markdown",
   "metadata": {},
   "source": [
    "1 - Type in a code cell in jupyter this:\n",
    "```bash\n",
    "!ipython install-nbextension https://bitbucket.org/ipre/calico/downloads/calico-document-tools-1.0.zip\n",
    "```\n",
    "2 - In a terminal window type:\n",
    "```bash\n",
    "jupyter-nbextension enable calico-document-tools\n",
    "```"
   ]
  },
  {
   "cell_type": "markdown",
   "metadata": {
    "collapsed": true
   },
   "source": [
    "### Install Ipython-notebook-extensions\n",
    "\n",
    "1 - clone [this repository](https://github.com/ipython-contrib/IPython-notebook-extensions) \n",
    "\n",
    "2 - build the package with conda\n",
    "```bash\n",
    "conda build IPython-notebook-extensions\n",
    "```\n",
    "3 - go inside the directory and run the setup\n",
    "```bash\n",
    "python setup.py install\n",
    "```\n",
    "4 - In your brouser go to http://localhost:8888/nbextensions"
   ]
  },
  {
   "cell_type": "code",
   "execution_count": null,
   "metadata": {
    "collapsed": true
   },
   "outputs": [],
   "source": []
  }
 ],
 "metadata": {
  "kernelspec": {
   "display_name": "Python 3",
   "language": "python",
   "name": "python3"
  },
  "language_info": {
   "codemirror_mode": {
    "name": "ipython",
    "version": 3
   },
   "file_extension": ".py",
   "mimetype": "text/x-python",
   "name": "python",
   "nbconvert_exporter": "python",
   "pygments_lexer": "ipython3",
   "version": "3.5.1"
  },
  "latex_envs": {
   "bibliofile": "biblio.bib",
   "cite_by": "apalike",
   "current_citInitial": 1,
   "eqLabelWithNumbers": true,
   "eqNumInitial": 0
  }
 },
 "nbformat": 4,
 "nbformat_minor": 0
}
