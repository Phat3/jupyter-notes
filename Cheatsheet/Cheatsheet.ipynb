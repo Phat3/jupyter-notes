{
 "cells": [
  {
   "cell_type": "markdown",
   "metadata": {},
   "source": [
    "<h1 style=\"text-align : center; color:red\"> Cheatsheet </h1>"
   ]
  },
  {
   "cell_type": "markdown",
   "metadata": {
    "toc": "true"
   },
   "source": [
    "# Table of Contents\n",
    " <p><div class=\"lev1\"><a href=\"#-Cheatsheet-\"> Cheatsheet </a></div><div class=\"lev1\"><a href=\"#Docker\">Docker</a></div><div class=\"lev1\"><a href=\"#WinDbg\">WinDbg</a></div><div class=\"lev2\"><a href=\"#Main-commands\">Main commands</a></div><div class=\"lev2\"><a href=\"#PEB-commands\">PEB commands</a></div><div class=\"lev2\"><a href=\"#TEB-commands\">TEB commands</a></div><div class=\"lev1\"><a href=\"#Vim\">Vim</a></div><div class=\"lev2\"><a href=\"#Normal-mode\">Normal mode</a></div><div class=\"lev2\"><a href=\"#Visual-mode\">Visual mode</a></div><div class=\"lev1\"><a href=\"#Gdb\">Gdb</a></div>"
   ]
  },
  {
   "cell_type": "markdown",
   "metadata": {},
   "source": [
    "# Docker"
   ]
  },
  {
   "cell_type": "markdown",
   "metadata": {},
   "source": [
    "- **```docker run <IMAGE_NAME>```** : pull from docker hub the image specified (only if it is different from your local copy) and ran it in the container<br><br>\n",
    "\n",
    "    - **```docker run -t -i <IMAGE_NAME:TAG>```** : common combination of options that permits the user to detach from a container leaving it in a runnng state\n",
    "\n",
    "\n",
    "- **```docker images```** : list all your local images\n",
    "\n",
    "\n",
    "- **```docker history <IMAGE_NAME || IMAGE_ID>```** shows the history of the commit / layers of the selected images\n",
    "\n",
    "\n",
    "- **```docker build -t <NEW_IMAGE_NAME> <PATH_TO_DOCKERFILE>```** : build a new image called <NEW_IMAGE_NAME> following the rules specified in the Dockerfile\n",
    "\n",
    "\n",
    "- **```docker tag <IMAGE_ID> <YOUR_USERNAME/IMAGE_NAME:VERSION>```** : tag the created image with the ID <IMAGE_ID> with a labale composed by your username on docker hub, the image name chosen in the build phase, and the version (es : \"latest\"). this command is useful even to revert from a previous state a container.\n",
    "\n",
    "\n",
    "- **```docker login --username=<YOUR_USERNAME> --email=<YOUR_EMAIL>```** : login to docker hub in order to push to your repository your created images\n",
    "\n",
    "\n",
    "- **```docker push <IMAGE_ID || IMAGE_NAME>```** : push to your repository on docker hub your image\n",
    "\n",
    "\n",
    "- **```docker pull <USERNAME/IMAGE_NAME>```** : download on your local machine the specified image\n",
    "\n",
    "\n",
    "- **```docker rmi -f <IMAGE_ID || IMAGE_NAME>```** : remove from your local machine the specified image\n",
    "\n",
    "\n",
    "- **```docker rm -f <CONTAINER_ID>```** : remove from your local machine the specified container\n",
    "\n",
    "\n",
    "- **```docker start <CONTAINER_ID>```** : change the state of the container from stoped to running\n",
    "\n",
    "\n",
    "- **```docker attach <CONTAINER_ID>```** : atach to a running container (get a shell on it)\n",
    "\n",
    "\n",
    "- <kbd>CTRL</kbd> + <kbd>Z</kbd> + <kbd>CTRL</kbd> + <kbd>Q</kbd> : detatch from the container leaving it in a running state"
   ]
  },
  {
   "cell_type": "markdown",
   "metadata": {},
   "source": [
    "# WinDbg"
   ]
  },
  {
   "cell_type": "markdown",
   "metadata": {},
   "source": [
    "## Main commands"
   ]
  },
  {
   "cell_type": "markdown",
   "metadata": {},
   "source": [
    "- **```gc```** : continue until the next breakpoint\n",
    "\n",
    "\n",
    "- ****```bu _address_```**** : set a breakpoint at he specified address"
   ]
  },
  {
   "cell_type": "markdown",
   "metadata": {},
   "source": [
    "## PEB commands"
   ]
  },
  {
   "cell_type": "markdown",
   "metadata": {},
   "source": [
    "- **```!peb```** : dump the PEB displaying the name of all fields and their values\n",
    "    ```\n",
    "    0:000> !peb\n",
    "    PEB at 7ffd3000\n",
    "        InheritedAddressSpace:    No\n",
    "        ReadImageFileExecOptions: No\n",
    "        BeingDebugged:            Yes\n",
    "        ImageBaseAddress:         00400000\n",
    "        Ldr                       771e7880\n",
    "        Ldr.Initialized:          Yes\n",
    "        Ldr.InInitializationOrderModuleList: 001a1c48 . 001a51e0\n",
    "        Ldr.InLoadOrderModuleList:           001a1ba8 . 001a5670\n",
    "        Ldr.InMemoryOrderModuleList:         001a1bb0 . 001a5678\n",
    "                Base TimeStamp                     Module\n",
    "              400000 5637849c Nov 02 16:43:24 2015 C:\\Users\\phate\\Desktop\\MessageBox_ThemidaPlain.exe\n",
    "            77110000 4ce7b96e Nov 20 13:05:02 2010 C:\\Windows\\SYSTEM32\\ntdll.dll\n",
    "            75580000 4ce7b8ef Nov 20 13:02:55 2010 C:\\Windows\\system32\\kernel32.dll\n",
    "    ```\n",
    "    \n",
    "- **```dt nt!_PEB @$peb```** : dump the PEB in a raw mode displaying the name and the correct offsets\n",
    "    ```\n",
    "    0:000> dt nt!_PEB @$peb\n",
    "    ntdll!_PEB\n",
    "       +0x000 InheritedAddressSpace : 0 ''\n",
    "       +0x001 ReadImageFileExecOptions : 0 ''\n",
    "       +0x002 BeingDebugged    : 0x1 ''\n",
    "       +0x003 BitField         : 0 ''\n",
    "       +0x003 ImageUsesLargePages : 0y0\n",
    "       +0x003 IsProtectedProcess : 0y0\n",
    "       +0x003 IsLegacyProcess  : 0y0\n",
    "       +0x003 IsImageDynamicallyRelocated : 0y0\n",
    "       +0x003 SkipPatchingUser32Forwarders : 0y0\n",
    "       +0x003 SpareBits        : 0y000\n",
    "       +0x004 Mutant           : 0xffffffff Void\n",
    "       +0x008 ImageBaseAddress : 0x00400000 Void\n",
    "     ```"
   ]
  },
  {
   "cell_type": "markdown",
   "metadata": {},
   "source": [
    "## TEB commands"
   ]
  },
  {
   "cell_type": "markdown",
   "metadata": {},
   "source": [
    "- **```!teb```** : dump the TEB displaying the name of all fields and their values\n",
    "    ```\n",
    "    0:000> !teb\n",
    "\t\tTEB at 7ffdf000\n",
    "\t\t    ExceptionList:        0012ff84\n",
    "\t\t    StackBase:            00130000\n",
    "\t\t    StackLimit:           0012e000\n",
    "\t\t    SubSystemTib:         00000000\n",
    "\t\t    FiberData:            00001e00\n",
    "\t\t    ArbitraryUserPointer: 00000000\n",
    "\t\t    Self:                 7ffdf000\n",
    "\t\t    EnvironmentPointer:   00000000\n",
    "\t\t    ClientId:             00000918 . 000001f4\n",
    "\t\t    RpcHandle:            00000000\n",
    "\t\t    Tls Storage:          7ffdf02c\n",
    "\t\t    PEB Address:          7ffd3000\n",
    "\t\t    LastErrorValue:       0\n",
    "\t\t    LastStatusValue:      0\n",
    "\t\t    Count Owned Locks:    0\n",
    "\t\t    HardErrorMode:        0\n",
    "    ```\n",
    "    \n",
    "- **```dt nt!_TEB @$teb```** : dump the TEB in a raw mode displaying the name and the correct offsets\n",
    "    ```\n",
    "    0:000> dt nt!_TEB @$teb\n",
    "\t\tntdll!_TEB\n",
    "\t\t   +0x000 NtTib            : _NT_TIB\n",
    "\t\t   +0x01c EnvironmentPointer : (null) \n",
    "\t\t   +0x020 ClientId         : _CLIENT_ID\n",
    "\t\t   +0x028 ActiveRpcHandle  : (null) \n",
    "\t\t   +0x02c ThreadLocalStoragePointer : 0x7ffdf02c Void\n",
    "\t\t   +0x030 ProcessEnvironmentBlock : 0x7ffd3000 _PEB\n",
    "\t\t   +0x034 LastErrorValue   : 0\n",
    "\t\t   +0x038 CountOfOwnedCriticalSections : 0\n",
    "\t\t   +0x03c CsrClientThread  : (null) \n",
    "\t\t   +0x040 Win32ThreadInfo  : 0xfdcd7720 Void\n",
    "\t\t   +0x044 User32Reserved   : [26] 0\n",
    "\t\t   +0x0ac UserReserved     : [5] 0\n",
    "\t\t   +0x0c0 WOW32Reserved    : (null) \n",
    "\t\t   +0x0c4 CurrentLocale    : 0x409\n",
    "     ```"
   ]
  },
  {
   "cell_type": "markdown",
   "metadata": {},
   "source": [
    "# Vim\n",
    "\n",
    "## Normal mode\n",
    "\n",
    "- <kbd>CTRL</kbd> + <kbd>w</kbd> : Switch between open space\n",
    "\n",
    "- <kbd>CTRL</kbd> + <kbd>u</kbd> : Page up (Scroll forward)\n",
    "\n",
    "- <kbd>CTRL</kbd> + <kbd>d</kbd> : Page down (Scroll downward)\n",
    "\n",
    "- <kbd>à</kbd> : go to the left tab (custom key)\n",
    "\n",
    "- <kbd>ù</kbd> : go to the right tab (custom key)\n",
    "\n",
    "- <kbd>A</kbd> : start to insert new characters at the **end** of line (switch to Insert mode)\n",
    "\n",
    "- <kbd>I</kbd> : start to insert new characters at the **beginning** of line (switch to Insert mode)\n",
    "\n",
    "- <kbd>G</kbd> : go to end of file\n",
    "\n",
    "- <kbd>g</kbd> + <kbd>g</kbd> : go to the first line of the file\n",
    "\n",
    "- <kbd>u</kbd> : undo\n",
    "\n",
    "- <kbd>d</kbd> + <kbd>d</kbd> : delete the current line\n",
    "\n",
    "\n",
    "## Visual mode\n",
    "\n",
    "- <kbd>V</kbd> : select the whole line\n",
    "\n",
    "- <kbd>d</kbd> : cut the selected text\n",
    "\n",
    "- <kbd>y</kbd> : copy the selected text\n",
    "\n",
    "- <kbd>p</kbd> : paste the copied / cut text\n",
    "\n",
    "\n",
    "\n",
    "\n",
    "\n"
   ]
  },
  {
   "cell_type": "markdown",
   "metadata": {},
   "source": [
    "# Gdb\n",
    "\n",
    "- **set disassembly flavor intel** : set the assemlby to the intel syntax\n",
    "\n",
    "\n",
    "- **disass \"function_name\"** : disassemble the function\n",
    "\n",
    "\n",
    "\n",
    "- **break [\"function_name\" | * \"address\"]** : place a breakpoint\n",
    "\n",
    "\n",
    "- **x/\"count\"\"format\"\"unit size\" \"address\" | \"symbol\"** : examine memory starting from the given address or symbol\n",
    "\n",
    "    - **count** : specify how much units of memory you want to display\n",
    "    - **format** : specify if the representation must be in hexadecimal (\"x\"), decimal (\"d\"), etc...\n",
    "    - **unit size** : specify the unit size\n",
    "        - **b** : one byte\n",
    "        - **h** : two bytes (halfword)\n",
    "        - **w** : four bytes (word)\n",
    "        - **g** : eight bytes (giant word)\n",
    "      \n",
    "      \n",
    "- **i r** : inspect registers\n",
    "\n",
    "\n",
    "- **searchmem symbol (PEDA only)** : search the specified symbol in memory (useful while searching for addresses of environment vars )\n",
    "\n",
    "\n",
    "- **info frame** : get the info about the current frame such as the saved eip etc...\n",
    "\n",
    "\n",
    "- **distance \"addr_1\" \"addr_2\" : returns the offset i bytes and words between the two addresses"
   ]
  },
  {
   "cell_type": "markdown",
   "metadata": {},
   "source": [
    "# IDA\n",
    "\n",
    "- **N** : rename subroutine\n",
    "\n",
    "- **;** : add comment on selected line\n"
   ]
  }
 ],
 "metadata": {
  "kernelspec": {
   "display_name": "Python 3",
   "language": "python",
   "name": "python3"
  },
  "language_info": {
   "codemirror_mode": {
    "name": "ipython",
    "version": 3
   },
   "file_extension": ".py",
   "mimetype": "text/x-python",
   "name": "python",
   "nbconvert_exporter": "python",
   "pygments_lexer": "ipython3",
   "version": "3.5.1"
  },
  "latex_envs": {
   "bibliofile": "biblio.bib",
   "cite_by": "apalike",
   "current_citInitial": 1,
   "eqLabelWithNumbers": true,
   "eqNumInitial": 0
  },
  "toc": {
   "toc_cell": true,
   "toc_number_sections": false,
   "toc_section_display": "block",
   "toc_threshold": 6,
   "toc_window_display": false
  },
  "toc_position": {
   "height": "182px",
   "left": "1075.03px",
   "right": "20px",
   "top": "119px",
   "width": "192px"
  }
 },
 "nbformat": 4,
 "nbformat_minor": 0
}
