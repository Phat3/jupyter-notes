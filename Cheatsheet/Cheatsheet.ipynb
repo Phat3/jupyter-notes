{
 "cells": [
  {
   "cell_type": "markdown",
   "metadata": {},
   "source": [
    "<h1 style=\"text-align : center\"> Cheatsheet </h1>"
   ]
  },
  {
   "cell_type": "markdown",
   "metadata": {},
   "source": [
    "## Table of Contents\n",
    "* [Docker](#Docker)\n"
   ]
  },
  {
   "cell_type": "markdown",
   "metadata": {},
   "source": [
    "## Docker\n",
    "- ```docker run <IMAGE_NAME>``` : pull from docker hub the image specified (only if it is different from your local copy) and ran it in the container\n",
    "\n",
    "\n",
    "- ```docker images``` : list all your local images\n",
    "\n",
    "\n",
    "- ```docker build -t <NEW_IMAGE_NAME> <PATH_TO_DOCKERFILE>``` : build a new image called <NEW_IMAGE_NAME> following the rules specified in the Dockerfile\n",
    "\n",
    "\n",
    "- ```docker tag <IMAGE_ID> <YOUR_USERNAME/IMAGE_NAME:VERSION>``` : tag the created image with the ID <IMAGE_ID> with a labale composed by your username on docker hub, the image name chosen in the build phase, and the version (es : \"latest\")\n",
    "\n",
    "\n",
    "- ```docker login --username=<YOUR_USERNAME> --email=<YOUR_EMAIL>``` : login to docker hub in order to push to your repository your created images\n",
    "\n",
    "\n",
    "- ```docker push <IMAGE_ID || IMAGE_NAME>``` : push to your repository on docker hub your image\n",
    "\n",
    "\n",
    "- ```docker pull <USERNAME/IMAGE_NAME>``` : downlode on your local machine the specified image\n",
    "\n",
    "\n",
    "- ```docker rmi -f <IMAGE_ID || IMAGE_NAME>``` : remove from your local machine the specified image"
   ]
  }
 ],
 "metadata": {
  "kernelspec": {
   "display_name": "Python 3",
   "language": "python",
   "name": "python3"
  },
  "language_info": {
   "codemirror_mode": {
    "name": "ipython",
    "version": 3
   },
   "file_extension": ".py",
   "mimetype": "text/x-python",
   "name": "python",
   "nbconvert_exporter": "python",
   "pygments_lexer": "ipython3",
   "version": "3.5.1"
  },
  "latex_envs": {
   "bibliofile": "biblio.bib",
   "cite_by": "apalike",
   "current_citInitial": 1,
   "eqLabelWithNumbers": true,
   "eqNumInitial": 0
  }
 },
 "nbformat": 4,
 "nbformat_minor": 0
}
