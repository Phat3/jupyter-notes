{
 "cells": [
  {
   "cell_type": "markdown",
   "metadata": {},
   "source": [
    "<h1 style=\"text-align : center\"> Docker </h1>"
   ]
  },
  {
   "cell_type": "markdown",
   "metadata": {},
   "source": [
    "## Table of Contents\n",
    "* [Cheatsheet](#Cheatsheet)\n",
    "* [How it works on Windows / OSX](#How-it-works-on-Windows-/-OSX)\n",
    "* [Troubleshooting on windows](#Troubleshooting-on-windows)\n",
    "* [Images and Containers](#Images-and-Containers)\n",
    "* [Containers vs. VM](#Containers-vs.-VM)\n",
    "* [LXC (Linux Containers)](#LXC-(Linux-Containers))\n",
    "* [Dockerfile](#Dockerfile)"
   ]
  },
  {
   "cell_type": "markdown",
   "metadata": {},
   "source": [
    "## Cheatsheet\n",
    "- ```docker run <IMAGE_NAME>``` : pull from docker hub the image specified (only if it is different from your local copy) and ran it in the container\n",
    "\n",
    "\n",
    "- ```docker images``` : list all your local images\n",
    "\n",
    "\n",
    "- ```docker build -t <NEW_IMAGE_NAME> <PATH_TO_DOCKERFILE>``` : build a new image called <NEW_IMAGE_NAME> following the rules specified in the Dockerfile\n",
    "\n",
    "\n",
    "- ```docker tag <IMAGE_ID> <YOUR_USERNAME/IMAGE_NAME:VERSION>``` : tag the created image with the ID <IMAGE_ID> with a labale composed by your username on docker hub, the image name chosen in the build phase, and the version (es : \"latest\")\n",
    "\n",
    "\n",
    "- ```docker login --username=<YOUR_USERNAME> --email=<YOUR_EMAIL>``` : login to docker hub in order to push to your repository your created images\n",
    "\n",
    "\n",
    "- ```docker push <IMAGE_ID || IMAGE_NAME>``` : push to your repository on docker hub your image\n",
    "\n",
    "\n",
    "- ```docker pull <USERNAME/IMAGE_NAME>``` : downlode on your local machine the specified image\n",
    "\n",
    "\n",
    "- ```docker rmi -f <IMAGE_ID || IMAGE_NAME>``` : remove from your local machine the specified image"
   ]
  },
  {
   "cell_type": "markdown",
   "metadata": {},
   "source": [
    "## How it works on Windows / OSX\n",
    "Docker needs a linux kernel in order to wor properly, so if our OS is different we need to create a vm with a linux kernel and install docker on it.\n",
    "\n",
    "Basically, the way docker works is that the **docker ...** commands are passed to a docker service (running on port 2375).\n",
    "\n",
    "- **Flow :**\n",
    "    1. The default virtual machine is created in VirtualBox\n",
    "    2. the starter (kinamatic / \"Docker Quickstart Terminal\" / cmd) of the machine waits for the machine to boot, gets it's IP address and sets the default vm ip:port as the service address in few environment variables\n",
    "    3. from this point all **docker ...** commands are send to the linux host and everything works almost as native linux"
   ]
  },
  {
   "cell_type": "markdown",
   "metadata": {},
   "source": [
    "## Troubleshooting on windows\n",
    "I have encountered some problem during the installation of docker on my windows machine:\n",
    "* bash.exe not found\n",
    "    * just search manually the path to bash.exe (it should be in the Git directory)    \n",
    "* Docker Quickstart Terminal doesn't work the first time you launch it\n",
    "    * launch the Docker Quickstart Terminal multiple times\n",
    "* No connection could be made because the target machine actively refused it\n",
    "    * Set the env variables manually with:\n",
    "    ```bash\n",
    "    \"C:\\Program Files\\Docker Toolbox\\docker-machine\" env default --shell=cmd\n",
    "    ```\n",
    "    **NB :** default is the name of the vm retived with:\n",
    "    ```bash\n",
    "    \"C:\\Program Files\\Docker Toolbox\\docker-machine\" ls\n",
    "    ```\n",
    "* Open C:\\Users\\X\\.docker\\machine\\machines\\default\\server.pem: The system cannot find the file specified.\n",
    "    * regenerate the vm certificates with:\n",
    "    ```bash\n",
    "    docker-machine regenerate-cers <VM_NAME>\n",
    "    ```\n",
    "    and restart the Docker Quickstart Terminal"
   ]
  },
  {
   "cell_type": "markdown",
   "metadata": {},
   "source": [
    "## Images and Containers\n",
    "- **Containers :** Stripped-to-basic linux operating system\n",
    "- **Images :** Softaware you load into a container\n",
    "\n",
    "**ES :** ```docker run hello-world``` : load the image \"hello-wold\" in the container and ran it"
   ]
  },
  {
   "cell_type": "markdown",
   "metadata": {},
   "source": [
    "## Containers vs. VM\n",
    "<img  src=\"GUL54KKUVLLU1FQJ4GM7UHPJUOUT9WJ1.png\"/>\n",
    "- **VMs :** have a full operating system with iots own memory managements, device drivers, etc...\n",
    "- **Containers :** Share the hos OS and its memory management, device drivers, etc..\n",
    "\n",
    "Containers create an isolated environment for your image and each of them has its own runtime environment and its own network stack and process space.\n",
    "each container **has access only to the ports and files explicitly exposed by other container**."
   ]
  },
  {
   "cell_type": "markdown",
   "metadata": {},
   "source": [
    "## LXC (Linux Containers)\n",
    "Docker is built on the top of **LXC**.\n",
    "LXC refers to capabilities of the linux kernel which allow sandboxing processes from one another and controlling the resource allocations.\n",
    "Docker offers additional capabilities respect to LXC such as versioning and sharing of the image."
   ]
  },
  {
   "cell_type": "markdown",
   "metadata": {},
   "source": [
    "## Dockerfile\n",
    "A Dockerfile is the starting point of your docker image that has to be loaded.\n",
    "Here you can specify various action that will be executed when you **build** the image.\n",
    "\n",
    "- **Keywords :**\n",
    "    - **FROM** : specify the which image is the base for your image\n",
    "    - **RUN** : the command specified is executed during the **build phase**\n",
    "    - **CMD** : the command specified is executed **after the image is instatiated**\n",
    "    - **EXPOSE :** specify which ports expose to the outside world\n",
    "    - **VOLUME :** mount the specified directory of the host machine in the container"
   ]
  }
 ],
 "metadata": {
  "kernelspec": {
   "display_name": "Python 3",
   "language": "python",
   "name": "python3"
  },
  "language_info": {
   "codemirror_mode": {
    "name": "ipython",
    "version": 3
   },
   "file_extension": ".py",
   "mimetype": "text/x-python",
   "name": "python",
   "nbconvert_exporter": "python",
   "pygments_lexer": "ipython3",
   "version": "3.5.1"
  },
  "latex_envs": {
   "bibliofile": "biblio.bib",
   "cite_by": "apalike",
   "current_citInitial": 1,
   "eqLabelWithNumbers": true,
   "eqNumInitial": 0
  }
 },
 "nbformat": 4,
 "nbformat_minor": 0
}
