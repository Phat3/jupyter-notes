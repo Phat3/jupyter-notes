{
 "cells": [
  {
   "cell_type": "markdown",
   "metadata": {},
   "source": [
    "<h1 style=\"text-align : center\"> Docker </h1>"
   ]
  },
  {
   "cell_type": "markdown",
   "metadata": {},
   "source": [
    "# Table of Contents\n",
    "* [How it works on Windows / OSX](#How-it-works-on-Windows-/-OSX)\n",
    "* [Troubleshooting on windows](#Troubleshooting-on-windows)\n",
    "* [Images and Containers](#Images-and-Containers)\n",
    "* [Containers vs. VM](#Containers-vs.-VM)\n",
    "* [LXC (Linux Containers)](#LXC-%28Linux-Containers%29)\n",
    "* [Dockerfile](#Dockerfile)\n",
    "* [Common operations](#Common-operations)\n",
    "\t* [Attach / Detach from a container](#Attach-/-Detach-from-a-container)\n",
    "* [Git-like capabilities](#Git-like-capabilities)\n",
    "\t* [Commit the state of a container](#Commit-the-state-of-a-container)\n",
    "\t* [Revert to a previous state](#Revert-to-a-previous-state)\n"
   ]
  },
  {
   "cell_type": "markdown",
   "metadata": {},
   "source": [
    "# How it works on Windows / OSX"
   ]
  },
  {
   "cell_type": "markdown",
   "metadata": {},
   "source": [
    "Docker needs a linux kernel in order to wor properly, so if our OS is different we need to create a vm with a linux kernel and install docker on it.\n",
    "\n",
    "Basically, the way docker works is that the **docker ...** commands are passed to a docker service (running on port 2375).\n",
    "\n",
    "- **Flow :**\n",
    "    1. The default virtual machine is created in VirtualBox\n",
    "    2. the starter (kinamatic / \"Docker Quickstart Terminal\" / cmd) of the machine waits for the machine to boot, gets it's IP address and sets the default vm ip:port as the service address in few environment variables\n",
    "    3. from this point all **docker ...** commands are send to the linux host and everything works almost as native linux"
   ]
  },
  {
   "cell_type": "markdown",
   "metadata": {},
   "source": [
    "# Troubleshooting on windows"
   ]
  },
  {
   "cell_type": "markdown",
   "metadata": {},
   "source": [
    "I have encountered some problem during the installation of docker on my windows machine:\n",
    "* bash.exe not found\n",
    "    * just search manually the path to bash.exe (it should be in the Git directory)    \n",
    "* Docker Quickstart Terminal doesn't work the first time you launch it\n",
    "    * launch the Docker Quickstart Terminal multiple times\n",
    "* No connection could be made because the target machine actively refused it\n",
    "    * Set the env variables manually with:\n",
    "    ```bash\n",
    "    \"C:\\Program Files\\Docker Toolbox\\docker-machine\" env default --shell=cmd\n",
    "    ```\n",
    "    **NB :** default is the name of the vm retived with:\n",
    "    ```bash\n",
    "    \"C:\\Program Files\\Docker Toolbox\\docker-machine\" ls\n",
    "    ```\n",
    "* Open C:\\Users\\X\\.docker\\machine\\machines\\default\\server.pem: The system cannot find the file specified.\n",
    "    * regenerate the vm certificates with:\n",
    "    ```bash\n",
    "    docker-machine regenerate-cers <VM_NAME>\n",
    "    ```\n",
    "    and restart the Docker Quickstart Terminal"
   ]
  },
  {
   "cell_type": "markdown",
   "metadata": {},
   "source": [
    "# Images and Containers"
   ]
  },
  {
   "cell_type": "markdown",
   "metadata": {},
   "source": [
    "- **Containers :** Stripped-to-basic linux operating system\n",
    "- **Images :** Softaware you load into a container\n",
    "\n",
    "**ES :** ```docker run hello-world``` : load the image \"hello-wold\" in the container and ran it\n",
    "\n",
    "Every image is **layered**. A layer is a sort pf snapshot ofthe state of the machine."
   ]
  },
  {
   "cell_type": "markdown",
   "metadata": {},
   "source": [
    "# Containers vs. VM"
   ]
  },
  {
   "cell_type": "markdown",
   "metadata": {},
   "source": [
    "<img  src=\"GUL54KKUVLLU1FQJ4GM7UHPJUOUT9WJ1.png\"/>\n",
    "- **VMs :** have a full operating system with iots own memory managements, device drivers, etc...\n",
    "- **Containers :** Share the hos OS and its memory management, device drivers, etc..\n",
    "\n",
    "Containers create an isolated environment for your image and each of them has its own runtime environment and its own network stack and process space.\n",
    "each container **has access only to the ports and files explicitly exposed by other container**."
   ]
  },
  {
   "cell_type": "markdown",
   "metadata": {},
   "source": [
    "# LXC (Linux Containers)"
   ]
  },
  {
   "cell_type": "markdown",
   "metadata": {},
   "source": [
    "Docker is built on the top of **LXC**.\n",
    "LXC refers to capabilities of the linux kernel which allow sandboxing processes from one another and controlling the resource allocations.\n",
    "Docker offers additional capabilities respect to LXC such as versioning and sharing of the image."
   ]
  },
  {
   "cell_type": "markdown",
   "metadata": {},
   "source": [
    "# Dockerfile"
   ]
  },
  {
   "cell_type": "markdown",
   "metadata": {},
   "source": [
    "A Dockerfile is the starting point of your docker image that has to be loaded.\n",
    "Here you can specify various action that will be executed when you **build** the image.\n",
    "\n",
    "- **Keywords :**\n",
    "    - **FROM** : specify the which image is the base for your image\n",
    "    - **RUN** : the command specified is executed during the **build phase**\n",
    "    - **CMD** : the command specified is executed **after the image is instatiated**\n",
    "    - **EXPOSE :** specify which ports expose to the outside world\n",
    "    - **VOLUME :** mount the specified directory of the host machine in the container"
   ]
  },
  {
   "cell_type": "markdown",
   "metadata": {},
   "source": [
    "# Common operations"
   ]
  },
  {
   "cell_type": "markdown",
   "metadata": {},
   "source": [
    "## Attach / Detach from a container"
   ]
  },
  {
   "cell_type": "markdown",
   "metadata": {},
   "source": [
    "In order to be able to attach and then detach from a container leaving it in a running state, we have to execute this list of commands:\n",
    "\n",
    "1. **```docker run -t -i <IMAGE_NAME:TAG>```** : create a container in a stopped state (-i flag leaves STDIN open even f nobody is attached to it)\n",
    "\n",
    "2. **```docker start <CONTAINER_ID>```** : start the specified container\n",
    "\n",
    "3. **```docker attach <CONTAINER_ID>```** : attach to the specified container (get a shell on it)\n",
    "\n",
    "4. <kbd>CTRL</kbd> + <kbd>Z</kbd> + <kbd>CTRL</kbd> + <kbd>Q</kbd> : detatch from the container leaving it in a running state"
   ]
  },
  {
   "cell_type": "markdown",
   "metadata": {},
   "source": [
    "# Git-like capabilities"
   ]
  },
  {
   "cell_type": "markdown",
   "metadata": {},
   "source": [
    "## Commit the state of a container"
   ]
  },
  {
   "cell_type": "markdown",
   "metadata": {},
   "source": [
    "The flesystem of a container is not persistent. Only when we install a program the changes become persistent. This happen because every time a program is intstalled a new image layer is created.\n",
    "\n",
    "If we want to create/modify a file and make this change permanent we have to **detatch** from the container that we want to update and then  **commit** the state of the container with:\n",
    "\n",
    "**```docker commit [-m <MESSAGE>] <CONTANER_ID> <IMAGE_NAME:TAG>```**"
   ]
  },
  {
   "cell_type": "markdown",
   "metadata": {},
   "source": [
    "<img  src=\"TC8FOJC64FS0PT9PWPHP9QXR74AAPAFH.png\"/>"
   ]
  },
  {
   "cell_type": "markdown",
   "metadata": {},
   "source": [
    "We can have two cases:\n",
    "- If the IMAGE_NAME:TAG already exist the commit will create an additional layer in the specified image\n",
    "- If the IMAGE_NAME:TAG oesn't exist, docker will create another image with the specified IMAGE_NAME:TAG and with the same history of the one running in the container plus the new layer"
   ]
  },
  {
   "cell_type": "markdown",
   "metadata": {},
   "source": [
    "## Revert to a previous state"
   ]
  },
  {
   "cell_type": "markdown",
   "metadata": {},
   "source": [
    "We can see all the commit history (from the current one to the older one) of a container with:\n",
    "\n",
    "- **```docker history <IMAGE_NAME || IMAGE_ID>```**"
   ]
  },
  {
   "cell_type": "markdown",
   "metadata": {},
   "source": [
    "<img  src=\"PQ9LUBMFN2WG8B27HUGWXXYU1BFKDD82.png\"/>"
   ]
  },
  {
   "cell_type": "markdown",
   "metadata": {},
   "source": [
    "In order to rollback to a previous state we have to **tag** the image to the IMAGE_ID of the chosen state with:\n",
    "\n",
    "- **```docker tag <IMAGE_ID> <IMAGE_NAME:TAG>```**"
   ]
  },
  {
   "cell_type": "markdown",
   "metadata": {},
   "source": [
    "<img  src=\"Q2AB80KVHHVI73XDKIBMJE8DN1F3U0OQ.png\"/>"
   ]
  },
  {
   "cell_type": "markdown",
   "metadata": {},
   "source": [
    "As we can see is not a **real** rollback, Docker just creates another image with tagged to the tag chosen before (kali:reverted at 46a5181c22a1)"
   ]
  },
  {
   "cell_type": "markdown",
   "metadata": {},
   "source": [
    "<img  src=\"NB2FFRW6JLS1A4BF1JXMH5LSLVUV6V0B.png\"/>"
   ]
  },
  {
   "cell_type": "markdown",
   "metadata": {},
   "source": [
    "Here the status with the comments \"my second commit\" is gone and teh filesystem has been restored to the state it was on the tag \"my first commit\""
   ]
  }
 ],
 "metadata": {
  "kernelspec": {
   "display_name": "Python 3",
   "language": "python",
   "name": "python3"
  },
  "language_info": {
   "codemirror_mode": {
    "name": "ipython",
    "version": 3
   },
   "file_extension": ".py",
   "mimetype": "text/x-python",
   "name": "python",
   "nbconvert_exporter": "python",
   "pygments_lexer": "ipython3",
   "version": "3.5.1"
  },
  "latex_envs": {
   "bibliofile": "biblio.bib",
   "cite_by": "apalike",
   "current_citInitial": 1,
   "eqLabelWithNumbers": true,
   "eqNumInitial": 0
  }
 },
 "nbformat": 4,
 "nbformat_minor": 0
}
