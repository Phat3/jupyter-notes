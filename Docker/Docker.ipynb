{
 "cells": [
  {
   "cell_type": "markdown",
   "metadata": {},
   "source": [
    "# Docker"
   ]
  },
  {
   "cell_type": "markdown",
   "metadata": {},
   "source": [
    "## Table of Contents\n",
    "* [How it works on Windows / OSX](#How-it-works-on-Windows-/-OSX)\n",
    "* [Troubleshooting on windows](#Troubleshooting-on-windows)\n",
    "* [Images and Containers](#Images-and-Containers)\n",
    "* [Containers vs. VM](#Containers-vs.-VM)"
   ]
  },
  {
   "cell_type": "markdown",
   "metadata": {},
   "source": [
    "## Cheatsheet\n",
    "- ```docker run <Image_name>``` : pull from docker hub the image specified (only if it is different from your local copy) and ran it in the container\n",
    "\n",
    "\n",
    "- ```docker images``` : list all your local images"
   ]
  },
  {
   "cell_type": "markdown",
   "metadata": {},
   "source": [
    "## How it works on Windows / OSX\n",
    "Docker needs a linux kernel in order to wor properly, so if our OS is different we need to create a vm with a linux kernel and install docker on it.\n",
    "\n",
    "Basically, the way docker works is that the **docker ...** commands are passed to a docker service (running on port 2375).\n",
    "\n",
    "- **Flow :**\n",
    "    1. The default virtual machine is created in VirtualBox\n",
    "    2. the starter (kinamatic / \"Docker Quickstart Terminal\" / cmd) of the machine waits for the machine to boot, gets it's IP address and sets the default vm ip:port as the service address in few environment variables\n",
    "    3. from this point all **docker ...** commands are send to the linux host and everything works almost as native linux"
   ]
  },
  {
   "cell_type": "markdown",
   "metadata": {},
   "source": [
    "## Troubleshooting on windows\n",
    "I have encountered some problem during the installation of docker on my windows machine:\n",
    "* bash.exe not found\n",
    "    * just search manually the path to bash.exe (it should be in the Git directory)    \n",
    "* Docker Quickstart Terminal doesn't work the first time you launch it\n",
    "    * launch the Docker Quickstart Terminal multiple times\n",
    "* No connection could be made because the target machine actively refused it\n",
    "    * Set the env variables manually with:\n",
    "    ```bash\n",
    "    \"C:\\Program Files\\Docker Toolbox\\docker-machine\" env default --shell=cmd\n",
    "    ```\n",
    "    **NB :** default is the name of the vm retived with:\n",
    "    ```bash\n",
    "    \"C:\\Program Files\\Docker Toolbox\\docker-machine\" ls\n",
    "    ```\n",
    "* Open C:\\Users\\X\\.docker\\machine\\machines\\default\\server.pem: The system cannot find the file specified.\n",
    "    * regenerate the vm certificates with:\n",
    "    ```bash\n",
    "    docker-machine regenerate-cers <VM_NAME>\n",
    "    ```\n",
    "    and restart the Docker Quickstart Terminal"
   ]
  },
  {
   "cell_type": "markdown",
   "metadata": {},
   "source": [
    "## Images and Containers\n",
    "- **Containers :** Stripped-to-basic linux operating system\n",
    "- **Images :** Softaware you load into a container\n",
    "\n",
    "**ES :** ```docker run hello-world``` : load the image \"hello-wold\" in the container and ran it"
   ]
  },
  {
   "cell_type": "markdown",
   "metadata": {},
   "source": [
    "## Containers vs. VM\n",
    "<img  src=\"GUL54KKUVLLU1FQJ4GM7UHPJUOUT9WJ1.png\"/>\n",
    "- **VMs :** have a full operating system with iots own memory managements, device drivers, etc...\n",
    "- **Containers :** Share the hos OS and its memory management, device drivers, etc.."
   ]
  }
 ],
 "metadata": {
  "kernelspec": {
   "display_name": "Python 3",
   "language": "python",
   "name": "python3"
  },
  "language_info": {
   "codemirror_mode": {
    "name": "ipython",
    "version": 3
   },
   "file_extension": ".py",
   "mimetype": "text/x-python",
   "name": "python",
   "nbconvert_exporter": "python",
   "pygments_lexer": "ipython3",
   "version": "3.5.1"
  },
  "latex_envs": {
   "bibliofile": "biblio.bib",
   "cite_by": "apalike",
   "current_citInitial": 1,
   "eqLabelWithNumbers": true,
   "eqNumInitial": 0
  }
 },
 "nbformat": 4,
 "nbformat_minor": 0
}
