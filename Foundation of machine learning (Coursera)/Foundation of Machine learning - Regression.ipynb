{
 "cells": [
  {
   "cell_type": "markdown",
   "metadata": {},
   "source": [
    "<h1 style='text-align:center'>Foundation of Machine learning - Regression</h1>"
   ]
  },
  {
   "cell_type": "markdown",
   "metadata": {},
   "source": [
    "**REGRESSION** : We have a set of features and we wanna model how this feature change when the values of the feature changes.\n",
    "\n",
    "We can also use regression for **classification** (heavily used in the SPAM filters)"
   ]
  },
  {
   "cell_type": "markdown",
   "metadata": {},
   "source": [
    "# Predicting the value of a house\n",
    "\n",
    "In regression we refer to the axis as:\n",
    "- **x variable** --> **feature, covariate or predictor**\n",
    "- **y variable** --> **observation or response**\n",
    "\n",
    "## Naive approach\n",
    "1. Consider the aspects of your house\n",
    "2. Look at other recent sales that have occurred in my neighborhood.\n",
    "3. Plot a graph of the sales price(y-axis) and the square feet(x-axys) of the houses sold recently in my neighborhood.\n",
    "4. Look at how big my house is and look for other sales of houses of roughly the same size of mine (In a certain range).\n",
    "5. I can't end up having a few valid data and discard all the other information coming from other data not inside my range.\n",
    "\n",
    "**NOT CORRECT!!**"
   ]
  },
  {
   "cell_type": "markdown",
   "metadata": {},
   "source": [
    "## Linear regression\n",
    "We can build a model the relationship between the square footage of the house and the house sales price using **linear regression**.\n",
    "\n",
    "The model is notingh more than a line having the following equation:\n",
    "\n",
    "<p style='text-align:center'>**fW(x) = W0 + W1*x**</p>\n",
    "<p style='text-align:center'>**W = (W0, W1)**</p>\n",
    "\n",
    "<img src=\"CM71THH7NOKQPHKUU4GR6D7IPBE2L3MG.png\">"
   ]
  },
  {
   "cell_type": "markdown",
   "metadata": {},
   "source": [
    "- **W0** = intercept \n",
    "- **W1** = slope"
   ]
  },
  {
   "cell_type": "markdown",
   "metadata": {},
   "source": [
    "We need to find out the **best possible values** for **W0** and **W1**!!\n",
    "\n",
    "We have to define a cost for a given line using **residual sum of squares (RSS)**\n",
    "\n",
    "### Residual sum of squares (RSS)\n",
    "We take the candidate line and for each observation we look how far is that observation from our line. This will give us the **distance between the real value (the observation) and the value we predict (the point on the line)**."
   ]
  },
  {
   "cell_type": "markdown",
   "metadata": {},
   "source": [
    "<img  src=\"B0DXKTKXN6MAU5L162UY5T99RJ0LGWPT.png\"/>"
   ]
  },
  {
   "cell_type": "markdown",
   "metadata": {},
   "source": [
    "The distance is squared and RSS is calculated following this formula:\n",
    "<p style='text-align:center'>**RSS(W0, W1) = ( price(house1) - (W0 + W1*square_feet(house1) )^2 + ... + ( price(houseN) - (W0 + W1*square_feet(houseN) )^2**</p>\n",
    "\n",
    "The best candidate **Wcan = (W0can, W1can)** is the one which **MINIMIZE** the RSS value. This value will be the best candidate because the line produced with this parameters has, overall, the observations closest to the predictions made, so the predictions tend to be good.\n",
    "\n",
    "### Retriving the best price\n",
    "it is sufficient to substitute the predictor (my house square feet) in the retrived model in order to find the best possible response (sale price).\n",
    "<p style='text-align:center'>**best_price = W0can + W1can*square_feet(myHouse)**</p>\n",
    "\n",
    "### Problems\n",
    "\n",
    "Are we sure that the best model for our problem is linear? It could also be **quadratic** or more.\n",
    "\n",
    "### High order regression\n",
    "It is a sub-type of linear regression (actually everybody refers to it as linear regression).\n",
    "\n",
    "If we take into account the quadratic regression the model is no more an equation that defines a straight line but it is a **parabola**:\n",
    "<p style='text-align:center'>**fW(x) = W0 + W1*x + W\"*x^2**</p>"
   ]
  },
  {
   "cell_type": "markdown",
   "metadata": {},
   "source": [
    "<img  src=\"VUOF44KIMPF68XS35D6DD8F5JD40WTTQ.png\"/>"
   ]
  },
  {
   "cell_type": "markdown",
   "metadata": {},
   "source": [
    "Following the same formula of the RSS calculation, substituting the parabola equation in the distance calculus, we can verify if this model is better or worse than the linear one.\n",
    "\n",
    "We can increase the order of the function used to build the model but it can produce wrong results:"
   ]
  },
  {
   "cell_type": "markdown",
   "metadata": {},
   "source": [
    "<img  src=\"HXTXUDL8V42ELFJYSRKCDLXVJUBDO8OI.png\"/>"
   ]
  },
  {
   "cell_type": "markdown",
   "metadata": {},
   "source": [
    "Actually the value of my house predicted by this model is **TOO LOW**!!"
   ]
  }
 ],
 "metadata": {
  "kernelspec": {
   "display_name": "Python 2",
   "language": "python",
   "name": "python2"
  },
  "language_info": {
   "codemirror_mode": {
    "name": "ipython",
    "version": 2
   },
   "file_extension": ".py",
   "mimetype": "text/x-python",
   "name": "python",
   "nbconvert_exporter": "python",
   "pygments_lexer": "ipython2",
   "version": "2.7.6"
  },
  "toc": {
   "toc_cell": false,
   "toc_number_sections": false,
   "toc_section_display": "none",
   "toc_threshold": 6,
   "toc_window_display": false
  }
 },
 "nbformat": 4,
 "nbformat_minor": 0
}
