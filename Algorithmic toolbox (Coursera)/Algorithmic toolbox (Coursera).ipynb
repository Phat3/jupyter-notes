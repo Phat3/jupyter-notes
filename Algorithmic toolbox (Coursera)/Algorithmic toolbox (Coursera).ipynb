{
 "cells": [
  {
   "cell_type": "markdown",
   "metadata": {},
   "source": [
    "<h1 style=\"text-align:center; color:red\">Algorithmic toolbox</h1>\n",
    "\n"
   ]
  },
  {
   "cell_type": "markdown",
   "metadata": {
    "toc": "true"
   },
   "source": [
    "# Table of Contents\n",
    " <p><div class=\"lev1\"><a href=\"#Algorithmic-toolbox\">Algorithmic toolbox</a></div><div class=\"lev1\"><a href=\"#Stress-testing\">Stress testing</a></div>"
   ]
  },
  {
   "cell_type": "markdown",
   "metadata": {},
   "source": [
    "# Stress testing \n",
    "\n",
    "Stress testing is a way to test your program in order to find not obvious bugs. \n",
    "\n",
    "It consist in several steps:\n",
    "* Write a program that generates random test cases following the constraints of the program.\n",
    "\n",
    "\n",
    "* Write the solution you want to test.\n",
    "\n",
    "\n",
    "* Write a simple solution for the problem you are sure that works (It is not important the efficiency here, it can be also a bruteforce, the important thing is that the solution works).\n",
    "\n",
    "\n",
    "* Run the test cases until you find one that gives two different answers from your two solution.\n",
    "\n",
    "\n",
    "* Try to lower as much as possible the complexity of the buggy test case (lower the number of inputs, lower the value of a single input, etc...) in order to facilitate the debugging process.\n",
    "\n",
    "\n",
    "* Debug the tested solution until the answers are the same."
   ]
  }
 ],
 "metadata": {
  "kernelspec": {
   "display_name": "Python 3",
   "language": "python",
   "name": "python3"
  },
  "language_info": {
   "codemirror_mode": {
    "name": "ipython",
    "version": 3
   },
   "file_extension": ".py",
   "mimetype": "text/x-python",
   "name": "python",
   "nbconvert_exporter": "python",
   "pygments_lexer": "ipython3",
   "version": "3.5.1"
  },
  "toc": {
   "toc_cell": true,
   "toc_number_sections": false,
   "toc_section_display": "none",
   "toc_threshold": 6,
   "toc_window_display": false
  }
 },
 "nbformat": 4,
 "nbformat_minor": 0
}
