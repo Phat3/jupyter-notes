{
 "cells": [
  {
   "cell_type": "markdown",
   "metadata": {},
   "source": [
    "<h1 style=\"text-align : center\"> Algorithms </h1>"
   ]
  },
  {
   "cell_type": "markdown",
   "metadata": {},
   "source": [
    "# Table of Contents\n",
    "* [Sorting Algorithms](#Sorting-Algorithms)\n",
    "\t* [Insertion sort](#Insertion-sort)\n"
   ]
  },
  {
   "cell_type": "markdown",
   "metadata": {},
   "source": [
    "# Sorting Algorithms"
   ]
  },
  {
   "cell_type": "markdown",
   "metadata": {},
   "source": [
    "## Insertion sort"
   ]
  },
  {
   "cell_type": "markdown",
   "metadata": {},
   "source": [
    "Simple sorting algorithm not very efficient. The key idea is for each number scan the array backward until number lower that the one examined is found and insert the number in the correct position (the other position are kicked forward of one position).\n",
    "\n",
    "**Complexity :**\n",
    "\\begin{equation*}\n",
    "O(n^2)\n",
    "\\end{equation*}\n",
    "\n",
    "**ES :**"
   ]
  },
  {
   "cell_type": "markdown",
   "metadata": {},
   "source": [
    "<img  src=\"S3O6H4DO7LB9M4SDFP4EJAM896QH2VL6.png\"/>"
   ]
  },
  {
   "cell_type": "code",
   "execution_count": 11,
   "metadata": {
    "collapsed": false
   },
   "outputs": [
    {
     "name": "stdout",
     "output_type": "stream",
     "text": [
      "[1, 2, 3]\n"
     ]
    }
   ],
   "source": [
    "def insertionSort(a):\n",
    "    for j in range(1,len(a)):\n",
    "        key = a[j]\n",
    "        i = j - 1\n",
    "        # kick forward the number bigger than the key until we reach the end \n",
    "        # of the array or we find a number lower or equal that the key\n",
    "        while i >= 0 and a[i] > key:\n",
    "            a[i + 1]= a[i]\n",
    "            i -= 1\n",
    "        a[i + 1] = key\n",
    "        \n",
    "arr = [3,2,1]\n",
    "insertionSort(arr)\n",
    "print(arr)"
   ]
  },
  {
   "cell_type": "markdown",
   "metadata": {},
   "source": [
    "## Merge sort\n"
   ]
  }
 ],
 "metadata": {
  "kernelspec": {
   "display_name": "Python 3",
   "language": "python",
   "name": "python3"
  },
  "language_info": {
   "codemirror_mode": {
    "name": "ipython",
    "version": 3
   },
   "file_extension": ".py",
   "mimetype": "text/x-python",
   "name": "python",
   "nbconvert_exporter": "python",
   "pygments_lexer": "ipython3",
   "version": "3.5.1"
  }
 },
 "nbformat": 4,
 "nbformat_minor": 0
}
