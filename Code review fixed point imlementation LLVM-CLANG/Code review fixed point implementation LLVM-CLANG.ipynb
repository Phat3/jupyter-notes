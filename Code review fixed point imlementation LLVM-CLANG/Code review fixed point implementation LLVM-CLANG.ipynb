{
 "cells": [
  {
   "cell_type": "markdown",
   "metadata": {},
   "source": [
    "<h1 style=\"text-align : center\"> FIXED POINT PATCH CODE REVIEW </h1>"
   ]
  },
  {
   "cell_type": "markdown",
   "metadata": {},
   "source": [
    "# Table of Contents\n",
    "* [Introduction](#Introduction)\n",
    "* [Glossary](#Glossary)\n",
    "* [Review](#Review)\n",
    "\t* [/include/clang/Basic/TokenKinds.def](#/include/clang/Basic/TokenKinds.def)\n",
    "\t* [/include/clang/AST/BuiltinTypes.def](#/include/clang/AST/BuiltinTypes.def)\n",
    "\t* [/include/clang/AST/Type.h](#/include/clang/AST/Type.h)\n",
    "\t* [/lib/AST/Type.cpp](#/lib/AST/Type.cpp)\n",
    "\t* [/lib/CodeGen/CGBuiltin.cpp](#/lib/CodeGen/CGBuiltin.cpp)\n",
    "\t* [/include/clang/Basic/Specifiers.h](#/include/clang/Basic/Specifiers.h)\n",
    "\t* [/include/clang/Basic/TargetInfo.h](#/include/clang/Basic/TargetInfo.h)\n",
    "\t* [/lib/Basic/TargetInfo.cpp](#/lib/Basic/TargetInfo.cpp)\n",
    "\t* [/include/clang/Sema/DeclSpec.h](#/include/clang/Sema/DeclSpec.h)\n",
    "\t* [/lib/Parse/ParseDecl.cpp - ParseExpr.cpp - ParseExprCxx.cpp - ParseTentative.cpp](#/lib/Parse/ParseDecl.cpp---ParseExpr.cpp---ParseExprCxx.cpp---ParseTentative.cpp)\n",
    "\t* [/include/clang/Lex/LiteralSupport.h](#/include/clang/Lex/LiteralSupport.h)\n",
    "\t* [/lib/Lex/LiteralSupport.cpp](#/lib/Lex/LiteralSupport.cpp)\n",
    "\t* [/include/clang/AST/ASTContext.h](#/include/clang/AST/ASTContext.h)\n",
    "\t* [/lib/AST/ASTContext.cpp](#/lib/AST/ASTContext.cpp)\n",
    "\t* [/lib/AST/ExprConstant.cpp](#/lib/AST/ExprConstant.cpp)\n",
    "\t* [/lib/CodeGen/CGExprConstant.cpp](#/lib/CodeGen/CGExprConstant.cpp)\n",
    "\t* [/lib/CodeGen/CGExprScalar.cpp](#/lib/CodeGen/CGExprScalar.cpp)\n",
    "\t* [/include/clang/AST/Expr.cpp](#/include/clang/AST/Expr.cpp)\n",
    "\t* [/lib/Sema/SemaExpr.cpp](#/lib/Sema/SemaExpr.cpp)\n",
    "\t* [/lib/Sema/SemaOverload.cpp](#/lib/Sema/SemaOverload.cpp)\n",
    "\t* [/lib/Sema/SemaType.cpp](#/lib/Sema/SemaType.cpp)\n",
    "\t* [/lib/Serialization/ASTCommon.cpp - ASTReader.cpp](#/lib/Serialization/ASTCommon.cpp---ASTReader.cpp)\n",
    "* [Questions](#Questions)\n"
   ]
  },
  {
   "cell_type": "markdown",
   "metadata": {},
   "source": [
    "# Introduction"
   ]
  },
  {
   "cell_type": "markdown",
   "metadata": {},
   "source": [
    "1. This patch includes the diffs for the lexer, parser, sema, and conversion to bitcode (clang/lib/CodeGen).\n",
    "2. The diffs are against the **LLVM 3.7**.\n",
    "3. The patch **doesn’t support unsigned nor unsaturated _Fract or _Accum types**"
   ]
  },
  {
   "cell_type": "markdown",
   "metadata": {},
   "source": [
    "# Glossary"
   ]
  },
  {
   "cell_type": "markdown",
   "metadata": {},
   "source": [
    "- [**Type**](http://clang.llvm.org/doxygen/classclang_1_1Type.html) : The base class of the type hierarchy.\n",
    "- [**QualType**](http://clang.llvm.org/doxygen/classclang_1_1QualType.html) : Wrapper class that has two pointers as attributes: one points to the Type and the other points to the Qualifier (Both of these classes are defined in Type.h). This greatly reduces the number of nodes we need to allocate for types. For the sake of semplicity we will consider QualType equals to CanQualType\n",
    "- [**BuiltinType**](http://clang.llvm.org/doxygen/classclang_1_1BuiltinType.html#details) : Builtin types are always canonical and have a literal name field."
   ]
  },
  {
   "cell_type": "markdown",
   "metadata": {},
   "source": [
    "<img  src=\"FQWHQFGMBF9OHV9MVBMGARA9R4UYDU95.png\"/>"
   ]
  },
  {
   "cell_type": "markdown",
   "metadata": {},
   "source": [
    "- [**TST**](http://clang.llvm.org/doxygen/namespaceclang.html#a033691a5f00979c1a22d8aa114d07e13) : The Type Specifier Type (TST) is used to just specifies the type using an enum.\n",
    "- [**DeclSpec**](http://clang.llvm.org/doxygen/classclang_1_1DeclSpec.html) : A Declaration Specifier encompasses storage-class-specifiers, type-specifiers, type-qualifiers, and function-specifiers. It basically describes the content of a declaration.\n",
    "- [**Sema**](http://clang.llvm.org/doxygen/classclang_1_1Sema.html): Implements the semantic analysis and AST building for C.\n",
    "- **CG_something.cpp** : Every class that begins with **CG** implements the code that will emits llvm intermediate represetation from AST nodes."
   ]
  },
  {
   "cell_type": "markdown",
   "metadata": {},
   "source": [
    "# Review"
   ]
  },
  {
   "cell_type": "markdown",
   "metadata": {},
   "source": [
    "## /include/clang/Basic/TokenKinds.def"
   ]
  },
  {
   "cell_type": "markdown",
   "metadata": {},
   "source": [
    "In this file has been added the definition of the token that the lexer will find inside the source code:\n",
    "```C++\n",
    "KEYWORD(__int96    , KEYALL)\n",
    "KEYWORD(_Sat         , KEYALL)   // As specified by the ISO/IEC TR 18037\n",
    "KEYWORD(_Fract      , KEYALL)   // As specified by the ISO/IEC TR 18037\n",
    "KEYWORD(_Accum   , KEYALL)   // As specified by the ISO/IEC TR 18037\n",
    "```"
   ]
  },
  {
   "cell_type": "markdown",
   "metadata": {},
   "source": [
    "## /include/clang/AST/BuiltinTypes.def"
   ]
  },
  {
   "cell_type": "markdown",
   "metadata": {},
   "source": [
    "In this file is defined the macro that will creates the IDs for the new added types. These IDs are fundamental in order to read and write correctly the AST.\n",
    "```C++\n",
    "+ #ifndef FIXED_TYPE\n",
    "+ #define FIXED_TYPE(Id, SingletonId) BUILTIN_TYPE(Id, SingletonId)\n",
    "+ #endif\n",
    "\n",
    "+ FIXED_TYPE(SatSignedShortFract, FractTy)\n",
    "+ FIXED_TYPE(SatSignedFract, FractTy)\n",
    "+ FIXED_TYPE(SatSignedLongFract, FractTy)\n",
    "+ FIXED_TYPE(SatSignedLongLongFract, FractTy)\n",
    "+ \n",
    "+ FIXED_TYPE(SatSignedShortAccum, AccumTy)\n",
    "+ FIXED_TYPE(SatSignedAccum, AccumTy)\n",
    "+ FIXED_TYPE(SatSignedLongAccum, AccumTy)\n",
    "+ FIXED_TYPE(SatSignedLongLongAccum, AccumTy)\n",
    "```"
   ]
  },
  {
   "cell_type": "markdown",
   "metadata": {},
   "source": [
    "## /include/clang/AST/Type.h"
   ]
  },
  {
   "cell_type": "markdown",
   "metadata": {},
   "source": [
    "This file is used to represents types for languages in the C family. Here are specified all the features of the new types and are defined all the methods in order to access and create them.\n",
    "```C++\n",
    "+   struct FixedPointTypeTraits : public BuiltinTypeBitfields {\n",
    "+     unsigned char GuardBits;\n",
    "+     unsigned char Width;\n",
    "+   };\n",
    "\n",
    "+   bool isSaturated() const;\n",
    "+   bool hasSameFixedPointRepresentation(const Type*) const;\n",
    "+   bool isFractType() const;\n",
    "+   bool isAccumType() const;\n",
    "+   bool isFractOrAccumType() const;\n",
    "+   bool isRealOrFixed() const;\n",
    "+   bool isSignedFixedPoint() const;\n",
    "+   bool isUnsignedFixedPoint() const;\n",
    "+   unsigned getFixedPointGuardBits() const;\n",
    "+   unsigned getFixedPointWidth() const;\n",
    "\n",
    "+   void initFixedPointType(unsigned guardBits, unsigned width) {\n",
    "+     FixedPointTraits.GuardBits = guardBits;\n",
    "+     FixedPointTraits.Width = width;\n",
    "+   }\n",
    "+   const FixedPointTypeTraits& getFixedPointTypeTraits() const { return  FixedPointTraits; }\n",
    "```"
   ]
  },
  {
   "cell_type": "markdown",
   "metadata": {},
   "source": [
    "These attributes, like the guard bits, may be useful in the accumulation to prevent overflow."
   ]
  },
  {
   "cell_type": "markdown",
   "metadata": {},
   "source": [
    "## /lib/AST/Type.cpp"
   ]
  },
  {
   "cell_type": "markdown",
   "metadata": {},
   "source": [
    "Implemented the functions defined in Type.h such as:\n",
    "\n",
    "- **isFractType**\n",
    "\n",
    "This snippet of code simply checks if the id of the type is included in the bounds that identifies the fract type\n",
    "\n",
    "```C++\n",
    "+ bool Type::isFractType() const {\n",
    "+   if (const BuiltinType *BT = dyn_cast<BuiltinType>(CanonicalType))\n",
    "+     return BT->getKind() >= BuiltinType::SatSignedShortFract &&\n",
    "+       BT->getKind() <= BuiltinType::SatSignedLongLongFract;\n",
    "+   return false;\n",
    "+ }\n",
    "```"
   ]
  },
  {
   "cell_type": "markdown",
   "metadata": {},
   "source": [
    "- **isRealOrFixed()**\n",
    "\n",
    "returns true if the the Type is real or fixed\n",
    "\n",
    "```C++\n",
    "+ bool Type::isRealOrFixed() const {\n",
    "+   return isRealFloatingType() || isFractOrAccumType();\n",
    "+ }\n",
    "```"
   ]
  },
  {
   "cell_type": "markdown",
   "metadata": {},
   "source": [
    "- **isFractOrAccumType()**\n",
    "\n",
    "Used in order to obtain a value for the node FixedPointLiteral during the building of the AST.\n",
    "\n",
    "```C++\n",
    "+ bool Type::isFractOrAccumType() const {\n",
    "+   if (const BuiltinType *BT = dyn_cast<BuiltinType>(CanonicalType))\n",
    "+     return BT->getKind() >= BuiltinType::SatSignedShortFract &&\n",
    "+       BT->getKind() <= BuiltinType::SatSignedLongLongAccum;\n",
    "+   return false;\n",
    "+ }\n",
    "```"
   ]
  },
  {
   "cell_type": "markdown",
   "metadata": {},
   "source": [
    "## /lib/CodeGen/CGBuiltin.cpp"
   ]
  },
  {
   "cell_type": "markdown",
   "metadata": {},
   "source": [
    "Added inside the function **EmitBuiltinExpr** the code that will return a ConstantInteger that will represent the fixed point value in the llvm intermediate representation.\n",
    "\n",
    "**NB :** The fixed point type are managed like int type by the llvm!\n",
    "```C++\n",
    "+     const Type* DestType = E->getType()->getUnqualifiedDesugaredType();\n",
    "+     if (Result.Val.isFloat() && DestType->isFractOrAccumType()) {\n",
    "+ \n",
    "+       APFloat F = Result.Val.getFloat();\n",
    "+ \n",
    "+       unsigned Width = DestType->getFixedPointWidth();\n",
    "+       llvm::APSInt fixedPointBits(Width, /*isUnsigned=>*/ !F.isNegative());\n",
    "+       llvm::FixedPointFormat Format(DestType->isSignedFixedPoint(), DestType->getFixedPointGuardBits(), Width);\n",
    "+ \n",
    "+       F.getMachineCodeValue(fixedPointBits, llvm::APFloat::rmTowardZero, Format);\n",
    "+       unsigned Size = getContext().getTypeSize(DestType);\n",
    "+       if (Size > Width) {\n",
    "+ \tfixedPointBits = fixedPointBits.extend(Size);\n",
    "+       }\n",
    "+       ConstantInt* CI = llvm::ConstantInt::get(getLLVMContext(), fixedPointBits);\n",
    "+ \n",
    "+       return RValue::get(CI);\n",
    "+     }\n",
    "```"
   ]
  },
  {
   "cell_type": "markdown",
   "metadata": {},
   "source": [
    "## /include/clang/Basic/Specifiers.h"
   ]
  },
  {
   "cell_type": "markdown",
   "metadata": {},
   "source": [
    "This file defines various enumerations that describe declarations and type specifiers. It has been added in these enumeration the cases for the new types.\n",
    "```C++\n",
    "+     TST_fract,\n",
    "+     TST_accum,\n",
    "+     TST_int96,\n",
    "```"
   ]
  },
  {
   "cell_type": "markdown",
   "metadata": {},
   "source": [
    "## /include/clang/Basic/TargetInfo.h"
   ]
  },
  {
   "cell_type": "markdown",
   "metadata": {},
   "source": [
    "this file exposes all the features of the target architecture for which the code will be generated, and here are defined the method that return the characteristics of the new types according to the architecture informations.\n",
    "```C++\n",
    "+   unsigned getShortFractWidth() const { return ShortFractWidth; }\n",
    "+   unsigned getShortFractAlign() const { return ShortFractAlign; }\n",
    "+   unsigned getFractWidth() const { return FractWidth; }\n",
    "+   unsigned getFractAlign() const { return FractAlign; }\n",
    "+   unsigned getLongFractWidth() const { return LongFractWidth; }\n",
    "+   unsigned getLongFractAlign() const { return LongFractAlign; }\n",
    "+   unsigned getLongLongFractWidth() const { return LongLongFractWidth; }\n",
    "+   unsigned getLongLongFractAlign() const { return LongLongFractAlign; }\n",
    "+   unsigned getShortAccumWidth() const { return ShortAccumWidth; }\n",
    "+   unsigned getShortAccumAlign() const { return ShortAccumAlign; }\n",
    "+   unsigned getAccumWidth() const { return AccumWidth; }\n",
    "+   unsigned getAccumAlign() const { return AccumAlign; }\n",
    "+   unsigned getLongAccumWidth() const { return LongAccumWidth; }\n",
    "+   unsigned getLongAccumAlign() const { return LongAccumAlign; }\n",
    "+   unsigned getLongLongAccumWidth() const { return LongLongAccumWidth; }\n",
    "+   unsigned getLongLongAccumAlign() const { return LongLongAccumAlign; }\n",
    "+   virtual unsigned getNumGuardBits() const { return 8; }\n",
    "+   virtual unsigned getShortAccumGuardBits() const { return 8; }\n",
    "+   virtual unsigned getAccumGuardBits() const { return 8; }\n",
    "+   virtual unsigned getLongAccumGuardBits() const { return 8; }\n",
    "+   virtual unsigned getLongLongAccumGuardBits() const { return 8; }\n",
    "```"
   ]
  },
  {
   "cell_type": "markdown",
   "metadata": {},
   "source": [
    "## /lib/Basic/TargetInfo.cpp"
   ]
  },
  {
   "cell_type": "markdown",
   "metadata": {},
   "source": [
    "In this file are defined all the characteristics of the new types according to the specific\n",
    "```C++\n",
    "+   ShortFractWidth = 8;\n",
    "+   ShortFractAlign = 8;\n",
    "+   FractWidth = 16;\n",
    "+   FractAlign = 16;\n",
    "+   LongFractWidth = 16;\n",
    "+   LongFractAlign = 16;\n",
    "+   LongLongFractWidth = 32;\n",
    "+   LongLongFractAlign = 32;\n",
    "+   //\n",
    "+   // NOTE: sizeof(accum) will be rounded up using AccumAlign\n",
    "+   //\n",
    "+   ShortAccumWidth = 32+8;\t// 8-bit * 8-bit accumulator with 8 guard bits\n",
    "+   ShortAccumAlign = 32;\n",
    "+   AccumWidth = 32+8;\t\t// 16-bit * 16-bit accumulator with 8 guard bits\n",
    "+   AccumAlign = 32;\n",
    "+   LongAccumWidth = 32+8;\t// 16-bit * 16-bit accumulator with 8 guard bits\n",
    "+   LongAccumAlign = 32;\n",
    "+   LongLongAccumWidth = 64+8;\t// 32-bit * 32-bit accumulator with 8 guard bits\n",
    "+   LongLongAccumAlign = 32;\n",
    "```"
   ]
  },
  {
   "cell_type": "markdown",
   "metadata": {},
   "source": [
    "## /include/clang/Sema/DeclSpec.h"
   ]
  },
  {
   "cell_type": "markdown",
   "metadata": {},
   "source": [
    "Added the new Type Specifier Type for the new type. \n",
    "```C++\n",
    "static const TST TST_fract = clang::TST_fract;\n",
    "static const TST TST_accum = clang::TST_accum;\n",
    "static const TST TST_int96 = clang::TST_int96;\n",
    "```"
   ]
  },
  {
   "cell_type": "markdown",
   "metadata": {},
   "source": [
    "Added the function **setSaturated** in order to memorize this information while parsing the declaration\n",
    "The function setSaturated is used inside **Parser::ParseDeclarationSpecifiers** when meet a kw__Sat.\n",
    "\n",
    "Saturated is a global variable inside this file that indicates if a declaration is a Sat or not\n",
    "```C++\n",
    "void setSaturated(SourceLocation l) { Saturated = true; SaturatedLoc = l; }\n",
    "bool isSaturated() const { return Saturated; }\n",
    "```"
   ]
  },
  {
   "cell_type": "markdown",
   "metadata": {},
   "source": [
    "## /lib/Parse/ParseDecl.cpp - ParseExpr.cpp - ParseExprCxx.cpp - ParseTentative.cpp"
   ]
  },
  {
   "cell_type": "markdown",
   "metadata": {},
   "source": [
    "in the function **Parser::ParseDeclarationSpecifiers** added the cases in order to handle the new type. For example in the case of the kw__Sat we are going to mark as Saturated the DS, using the function previously defined setSaturated().\n",
    "```C++\n",
    "+     case tok::kw__Sat:\n",
    "+       if (DS.isSaturated()) Diag(Tok, diag::err_sat_specified);\n",
    "+       DS.setSaturated(Tok.getLocation());\n",
    "+       break;\n",
    "+     case tok::kw__Fract:\n",
    "+       isInvalid = DS.SetTypeSpecType(DeclSpec::TST_fract, Loc, PrevSpec, DiagID, Policy);\n",
    "+       break;\n",
    "+     case tok::kw__Accum:\n",
    "+       isInvalid = DS.SetTypeSpecType(DeclSpec::TST_accum, Loc, PrevSpec, DiagID, Policy);\n",
    "+       break;\n",
    "+     case tok::kw___int96:\n",
    "+       isInvalid = DS.SetTypeSpecType(DeclSpec::TST_int96, Loc, PrevSpec, DiagID, Policy);\n",
    "+       break;\n",
    "+ \n",
    "```"
   ]
  },
  {
   "cell_type": "markdown",
   "metadata": {},
   "source": [
    "Added in the function **Parser::isKnownToBeTypeSpecifier** the cases in order to understand if we have a known type specifier.\n",
    "```C++\n",
    "+   case tok::kw__Sat:\n",
    "+   case tok::kw__Fract:\n",
    "+   case tok::kw__Accum:\n",
    "+   case tok::kw___int96:\n",
    "```"
   ]
  },
  {
   "cell_type": "markdown",
   "metadata": {},
   "source": [
    "## /include/clang/Lex/LiteralSupport.h"
   ]
  },
  {
   "cell_type": "markdown",
   "metadata": {},
   "source": [
    "This file defines NumericLiteralParser, CharLiteralParser and StringLiteralParser interfaces.\n",
    "- **NumericLiteralParser** : This performs strict semantic analysis of the content of a ppnumber (a preprocessor number that is a sequence of digits and other characters which make up an integer or floating literal), classifying it as either integer, floating, or erroneous, determines the radix of the value and can convert it to a useful value.\n",
    "- **CharLiteralParser** : Perform interpretation and semantic analysis of a character literal.\n",
    "- **StringLiteralParser** : This decodes string escape characters and perform wide string analysis and perform concatenation of string\n",
    "\n",
    "\n",
    "Added, in the NUmericLiteralParser class, the boolean attributes and their getter in order to handle also the property of the new types\n",
    "```C++\n",
    "+   bool isHalf;\t\t// 'h'\n",
    "+   bool isFract;\t\t// 'r'\n",
    "+   bool isAccum;\t\t// 'k'\n",
    "\n",
    "+   bool isFixedPointLiteral() const {\n",
    "+     return isFloatingLiteral() && (isFract || isAccum);\n",
    "+   }\n",
    "\n",
    "+   llvm::APFloat::opStatus GetFixedPointValue(llvm::APFloat& Result);\n",
    "```"
   ]
  },
  {
   "cell_type": "markdown",
   "metadata": {},
   "source": [
    "## /lib/Lex/LiteralSupport.cpp"
   ]
  },
  {
   "cell_type": "markdown",
   "metadata": {},
   "source": [
    "Implemented the cases in order to tag the parsed fixed point values using the methods and attributes defined in the header.\n",
    "\n",
    "For example :\n",
    "\n",
    "```C++\n",
    "+     case 'h':\n",
    "+     case 'H':\n",
    "+       if (isHalf) break;\t\t// Cannot be repeated.\n",
    "+       if (isFloat || isImaginary) break;// Invalid\n",
    "+       if (isLongLong) break;\t\t// Invalid\n",
    "+       isHalf = true;\n",
    "+       continue;  // Success.\n",
    "```"
   ]
  },
  {
   "cell_type": "markdown",
   "metadata": {},
   "source": [
    "- **NumericLiteralParser::GetFixedPointValue(llvm::APFloat &Result)**\n",
    "\n",
    "It checks if the type identifier is included in the bounds reserved to the fixed point types (specified in the class \"BuiltinType\")\n",
    "\n",
    "```C++\n",
    "+ llvm::APFloat::opStatus\n",
    "+ NumericLiteralParser::GetFixedPointValue(llvm::APFloat &Result) {\n",
    "+   using llvm::APFloat;\n",
    "+ \n",
    "+   unsigned n = std::min(SuffixBegin - ThisTokBegin, ThisTokEnd - ThisTokBegin);\n",
    "+ \n",
    "+   llvm::SmallString<16> Buffer;\n",
    "+   StringRef Str(ThisTokBegin, n);\n",
    "+   if (Str.find('\\'') != StringRef::npos\n",
    "+           || Str.find('_') != StringRef::npos  // <- SYNOPSYS\n",
    "+           ) {\n",
    "+     Buffer.reserve(n);\n",
    "+     std::remove_copy_if(Str.begin(), Str.end(), std::back_inserter(Buffer),\n",
    "+                         &isDigitSeparator);\n",
    "+     Str = Buffer;\n",
    "+   }\n",
    "+ \n",
    "+   return Result.convertFromString(Str, APFloat::rmNearestTiesToEven);\n",
    "+ }\n",
    "```"
   ]
  },
  {
   "cell_type": "markdown",
   "metadata": {},
   "source": [
    "## /include/clang/AST/ASTContext.h"
   ]
  },
  {
   "cell_type": "markdown",
   "metadata": {},
   "source": [
    "Added the new CanQualType (see QualType) in order to handle the new fixed point type and the respective getter.\n",
    "```C++\n",
    "+   CanQualType SatSignedShortFractTy;\n",
    "+   CanQualType SatSignedFractTy;\n",
    "+   CanQualType SatSignedLongFractTy;\n",
    "+   CanQualType SatSignedLongLongFractTy;\n",
    "+   CanQualType SatSignedShortAccumTy;\n",
    "+   CanQualType SatSignedAccumTy;\n",
    "+   CanQualType SatSignedLongAccumTy;\n",
    "+   CanQualType SatSignedLongLongAccumTy;\n",
    "+   CanQualType Int96Ty, UnsignedInt96Ty;\n",
    "```"
   ]
  },
  {
   "cell_type": "markdown",
   "metadata": {},
   "source": [
    "```C++\n",
    "+   QualType getInt96Ty() const { return Int96Ty; }\n",
    "+   QualType getUnsignedInt96Ty() const { return UnsignedInt96Ty; }\n",
    "+   QualType getSatSignedShortFractTy() const { return SatSignedShortFractTy; }\n",
    "+   QualType getSatSignedFractTy() const { return SatSignedFractTy; }\n",
    "+   QualType getSatSignedLongFractTy() const { return SatSignedLongFractTy; }\n",
    "+   QualType getSatSignedLongLongFractTy() const { return SatSignedLongLongFractTy; }\n",
    "+   QualType getSatSignedShortAccumTy() const { return SatSignedShortAccumTy; }\n",
    "+   QualType getSatSignedAccumTy() const { return SatSignedAccumTy; }\n",
    "+   QualType getSatSignedLongAccumTy() const { return SatSignedLongAccumTy; }\n",
    "+   QualType getSatSignedLongLongAccumTy() const { return SatSignedLongLongAccumTy; }\n",
    "+ \n",
    "+   QualType getSignedFractType(unsigned SizeInBits);\n",
    "+   QualType getFixedPointType(const llvm::fltSemantics&) const;\n",
    "+   QualType getMaximalAccumType(QualType) const;\n",
    "+   QualType getAccumTypeForFractType(QualType) const;\n",
    "```"
   ]
  },
  {
   "cell_type": "markdown",
   "metadata": {},
   "source": [
    "As we can see here the getters return the CanQualType defined before as a QualType."
   ]
  },
  {
   "cell_type": "markdown",
   "metadata": {},
   "source": [
    "## /lib/AST/ASTContext.cpp"
   ]
  },
  {
   "cell_type": "markdown",
   "metadata": {},
   "source": [
    "This file implements the AST interface.\n",
    "\n",
    "- Specified the rank of the new type, from the smallest one (SatSignedShortFractRank) to the biggest one (SatSignedLongLongAccumRank), in the **FloatingRank** enum.\n",
    "\n",
    "```C++\n",
    "+   SatSignedShortFractRank,\n",
    "+   SatSignedFractRank,\n",
    "+   SatSignedLongFractRank,\n",
    "+   SatSignedLongLongFractRank,\n",
    "+   SatSignedShortAccumRank,\n",
    "+   SatSignedAccumRank,\n",
    "+   SatSignedLongAccumRank,\n",
    "+   SatSignedLongLongAccumRank,\n",
    "```"
   ]
  },
  {
   "cell_type": "markdown",
   "metadata": {},
   "source": [
    "- Created the constructors that creates the new Type. As we can see all the correct properties are set in the method **initFixedPointType**( declared in Type.h ). For example the Fract type has 0 bits for the integer part and fbit for the rational part.\n",
    "\n",
    "```C++\n",
    "+ void ASTContext::InitBuiltinFractType(CanQualType &R, bool isSigned, unsigned fBits) {\n",
    "+   BuiltinType *Ty = new (*this, TypeAlignment) BuiltinType(BuiltinType::FixedPoint);\n",
    "+   Ty->initFixedPointType(isSigned, 0, fBits);\n",
    "+   R = CanQualType::CreateUnsafe(QualType(Ty, 0));\n",
    "+   Types.push_back(Ty);\n",
    "+ }\n",
    "\n",
    "+ void ASTContext::InitBuiltinAccumType(CanQualType &R, bool isSigned, unsigned iBits, unsigned fBits) {\n",
    "+   BuiltinType *Ty = new (*this, TypeAlignment) BuiltinType(BuiltinType::FixedPoint);\n",
    "+   Ty->initFixedPointType(isSigned, iBits, fBits);\n",
    "+   R = CanQualType::CreateUnsafe(QualType(Ty, 0));\n",
    "+   Types.push_back(Ty);\n",
    "+ }\n",
    "\n",
    "+ void ASTContext::InitBuiltinFixedPointType(CanQualType &R, BuiltinType::Kind K, unsigned GuardBits, unsigned Width) {\n",
    "+   BuiltinType *Ty = new (*this, TypeAlignment) BuiltinType(K);\n",
    "+   Ty->initFixedPointType(GuardBits, Width);\n",
    "+   R = CanQualType::CreateUnsafe(QualType(Ty, 0));\n",
    "+   Types.push_back(Ty);\n",
    "+ }\n",
    "```"
   ]
  },
  {
   "cell_type": "markdown",
   "metadata": {},
   "source": [
    "- Initialize the fixed point type for every supported specifiers using the functions defined above\n",
    "\n",
    "```C++\n",
    "+   InitBuiltinType(Int96Ty,         BuiltinType::Int96);\n",
    "+   InitBuiltinType(UnsignedInt96Ty, BuiltinType::UInt96);\n",
    "+ \n",
    "+   InitBuiltinFixedPointType(SatSignedShortFractTy, BuiltinType::SatSignedShortFract, 0,\tTarget.getShortFractWidth());\n",
    "+   InitBuiltinFixedPointType(SatSignedFractTy,\t BuiltinType::SatSignedFract, 0, Target.getFractWidth());\n",
    "+   InitBuiltinFixedPointType(SatSignedLongFractTy,\tBuiltinType::SatSignedLongFract, 0,\tTarget.getLongFractWidth());\n",
    "+   InitBuiltinFixedPointType(SatSignedLongLongFractTy,\tBuiltinType::SatSignedLongLongFract, 0,\tTarget.getLongLongFractWidth());\n",
    "+   InitBuiltinFixedPointType(SatSignedShortAccumTy, BuiltinType::SatSignedShortAccum, Target.getShortAccumGuardBits(),Target.getShortAccumWidth());\n",
    "+   InitBuiltinFixedPointType(SatSignedAccumTy,\tBuiltinType::SatSignedAccum,Target.getAccumGuardBits(),\t\tTarget.getAccumWidth());\n",
    "+   InitBuiltinFixedPointType(SatSignedLongAccumTy,\tBuiltinType::SatSignedLongAccum, Target.getLongAccumGuardBits(),\t\tTarget.getLongAccumWidth());\n",
    "+   InitBuiltinFixedPointType(SatSignedLongLongAccumTy,\tBuiltinType::SatSignedLongLongAccum, Target.getLongLongAccumGuardBits(), Target.getLongLongAccumWidth());\n",
    "```"
   ]
  },
  {
   "cell_type": "markdown",
   "metadata": {},
   "source": [
    "- Implemented a function in order to calculate the correct width based on the alignement of the type\n",
    "\n",
    "```C++\n",
    "+ uint64_t FixedPointAlign(uint64_t Width, unsigned Align) {\n",
    "+   if (Align > 1) {\n",
    "+     assert(llvm::isPowerOf2_32(Align));\n",
    "+     uint64_t t = Align - 1;\n",
    "+     Width = (Width + t) & ~t;\n",
    "+   }\n",
    "+   return Width;\n",
    "+ }\n",
    "```"
   ]
  },
  {
   "cell_type": "markdown",
   "metadata": {},
   "source": [
    "- Added the case that calculates the correct width for each possible new type exploiting the function declared above\n",
    "\n",
    "```C++\n",
    "//EXAMPLE : \n",
    "+     case BuiltinType::SatSignedShortFract:\n",
    "+       Width = Target->getShortFractWidth();\n",
    "+       Align = Target->getShortFractAlign();\n",
    "+       Width = FixedPointAlign(Width,Align);\n",
    "+       break;\n",
    "```"
   ]
  },
  {
   "cell_type": "markdown",
   "metadata": {},
   "source": [
    "- Implemented a functions that, given a size in bit return the correct QualType.\n",
    "\n",
    "```C++\n",
    "+ QualType ASTContext::getSignedFractType(unsigned SizeInBits) {\n",
    "+   if (getTypeSize(SatSignedShortFractTy) == SizeInBits)\n",
    "+     return SatSignedShortFractTy;\n",
    "+   if (getTypeSize(SatSignedFractTy) == SizeInBits)\n",
    "+     return SatSignedFractTy;\n",
    "+   if (getTypeSize(SatSignedLongFractTy) == SizeInBits)\n",
    "+     return SatSignedLongFractTy;\n",
    "+   // TODO add long long\n",
    "+   llvm_unreachable(\"Failed getSignedFractType\");\n",
    "+   return SatSignedLongFractTy;\n",
    "+ }\n",
    "\n",
    "\n",
    "```"
   ]
  },
  {
   "cell_type": "markdown",
   "metadata": {},
   "source": [
    "- Implemented a function that returns the proper QualType that can store the result based on the precision that can handle the type.\n",
    "\n",
    "```C++\n",
    "+ QualType ASTContext::getMaximalAccumType(QualType QT) const {\n",
    "+   assert(QT->isFractOrAccumType());\n",
    "+   assert(QT->isSaturated());\t\t// Don't currently support unsaturated fixed point\n",
    "+   assert(QT->isSignedFixedPoint());\t// Don't currently support unsigned fixed point\n",
    "+   if (const Type* Ty = QT->getUnqualifiedDesugaredType()) {\n",
    "+     if (const BuiltinType *BT = Ty->getAs<BuiltinType>()) {\n",
    "+       switch (BT->getKind()) {\n",
    "+       case BuiltinType::SatSignedShortFract:\n",
    "+       case BuiltinType::SatSignedShortAccum:\treturn SatSignedShortAccumTy;\n",
    "+       case BuiltinType::SatSignedFract:\n",
    "+       case BuiltinType::SatSignedAccum:\t\treturn SatSignedAccumTy;\n",
    "+       case BuiltinType::SatSignedLongFract:\n",
    "+       case BuiltinType::SatSignedLongAccum:\treturn SatSignedLongAccumTy;\n",
    "+       case BuiltinType::SatSignedLongLongFract:\n",
    "+       case BuiltinType::SatSignedLongLongAccum:\treturn SatSignedLongLongAccumTy;\n",
    "+       default: break;\n",
    "+       }\n",
    "+     }\n",
    "+   }\n",
    "+   return SatSignedLongLongAccumTy;\n",
    "+ }\n",
    "```"
   ]
  },
  {
   "cell_type": "markdown",
   "metadata": {},
   "source": [
    "## /lib/AST/ExprConstant.cpp"
   ]
  },
  {
   "cell_type": "markdown",
   "metadata": {},
   "source": [
    "The code in order to convert an int to a fixed point type has been added\n",
    "\n",
    "```C++\n",
    "+ bool FloatExprEvaluator::converttIntToFixedPoint(const Expr* E, unsigned ShiftAmount) {\n",
    "+   llvm::APSInt sInt(128);\n",
    "+   if (!EvaluateInteger(E, sInt, Info))\n",
    "+     return false;\n",
    "+   APFloat F(Result.getSemantics());\n",
    "+   APFloat::opStatus S = F.convertFromAPInt(sInt, sInt.isNegative(), APFloat::rmTowardZero);\n",
    "+   if (S != APFloat::opOK && S != APFloat::opInexact) // When inexact we did the best we could\n",
    "+     return false;\n",
    "+   llvm::APSInt shift(64);\n",
    "+   shift = uint64_t(ShiftAmount);\n",
    "+   if (F.Shr(shift) != APFloat::opOK)\n",
    "+     return false;\n",
    "+   Result = F;\n",
    "+   return true;\n",
    "+ }\n",
    "\n",
    "+   case clang::ARC::BI__int_to_q7:\treturn converttIntToFixedPoint(E->getArg(0), 7);\n",
    "+   case clang::ARC::BI__int_to_q15:\treturn converttIntToFixedPoint(E->getArg(0), 15);\n",
    "+   case clang::ARC::BI__int_to_q31:\treturn converttIntToFixedPoint(E->getArg(0), 31);\n",
    "+   case clang::ARC::BI__int_to_a24:\treturn converttIntToFixedPoint(E->getArg(0), 31);\n",
    "+   case clang::ARC::BI__int_to_a40:\treturn converttIntToFixedPoint(E->getArg(0), 31);\n",
    "+   case clang::ARC::BI__int_to_a72:\treturn converttIntToFixedPoint(E->getArg(0), 63);\n",
    "+   case clang::ARC::BI__q7_to_int:\n",
    "+   case clang::ARC::BI__q15_to_int:\n",
    "+   case clang::ARC::BI__q31_to_int:\n",
    "+   case clang::ARC::BI__a24_to_int:\n",
    "+   case clang::ARC::BI__a40_to_int:\n",
    "+   case clang::ARC::BI__a72_to_int:\n",
    "+     llvm_unreachable(\"Fixed-to-int NYI\");\n",
    "+     return false;\n",
    "```"
   ]
  },
  {
   "cell_type": "markdown",
   "metadata": {},
   "source": [
    "For example, if we want to convert an int to a fixed point that has 0 bit for the integer part and 7 bit for the rational part we have to shift this integer 7 positions to the right."
   ]
  },
  {
   "cell_type": "markdown",
   "metadata": {},
   "source": [
    "## /lib/CodeGen/CGExprConstant.cpp"
   ]
  },
  {
   "cell_type": "markdown",
   "metadata": {},
   "source": [
    "This contains code to emit Constant Expr nodes as LLVM Code. Since the Fixed Points are handled as CI ( Constant Integer ) the following code implements the proper generation of a CI given a fixed point.\n",
    "\n",
    "\n",
    "```C++   \n",
    "+     if (Init.isFixedPoint()) {\n",
    "+       unsigned Width = DestType->getFixedPointWidth();\n",
    "+       llvm::APSInt fixedPointBits(Width, /*isUnsigned=>*/ !Init.isNegative());\n",
    "+       llvm::FixedPointFormat Format(DestType->isSignedFixedPoint(), DestType->getFixedPointGuardBits(), Width);\n",
    "+       Init.getMachineCodeValue(fixedPointBits, llvm::APFloat::rmTowardZero, Format);\n",
    "+       unsigned Size = getContext().getTypeSize(DestType.getTypePtr());\n",
    "+       if (Size > Width) {\n",
    "+ \tfixedPointBits = fixedPointBits.extend(Size);\n",
    "+       }\n",
    "+       return llvm::ConstantInt::get(VMContext, fixedPointBits);\n",
    "+     } \n",
    " ```"
   ]
  },
  {
   "cell_type": "markdown",
   "metadata": {},
   "source": [
    "## /lib/CodeGen/CGExprScalar.cpp"
   ]
  },
  {
   "cell_type": "markdown",
   "metadata": {},
   "source": [
    "This contains code to emit Expr nodes with scalar LLVM types as LLVM code. Here has been implemented all the functions that will emit all the operation between fixed point using custom llvm intrinsic function (we don't have the code of them).\n",
    "\n",
    "- Extended the function **VisitFloatingLiteral** in order to return a ConstantInt (remember : the fixed point types are managed as integer type) if the destinantion type ios a fract or an accum. For example the fixed point type **fract a = 1.2** is parsed as a floating literal but its destination type is a fract then we have to generate a **ConstantInt**(1,2 * scale_factor) and not a ConstantFP.\n",
    "\n",
    "```C++\n",
    "+     QualType DestType = E->getType();\n",
    "+     if (DestType->isFractOrAccumType()) {\n",
    "+       llvm::APFloat Init = E->getValue();\n",
    "+       unsigned Width = DestType->getFixedPointWidth();\n",
    "+       llvm::APSInt fixedPointBits = llvm::ARC::getFixedPointFromFloat(Init, DestType->isSignedFixedPoint(), DestType->getFixedPointGuardBits(), Width);\n",
    "+       unsigned Size = CGF.getContext().getTypeSize(DestType.getTypePtr());\n",
    "+       if (Size > Width) {\n",
    "+ \tfixedPointBits = fixedPointBits.extend(Size);\n",
    "+       }\n",
    "+       return llvm::ConstantInt::get(VMContext, fixedPointBits);\n",
    "+     }\n",
    "```"
   ]
  },
  {
   "cell_type": "markdown",
   "metadata": {},
   "source": [
    "- Implemented all the binary operation between the fixed point type. For example the xor operation takes the two fixed point operand,converts them as integer and create a Xor operation between integer in the IR using the Builder helper object.\n",
    "\n",
    "```C++\n",
    "+   Value *EmitFractXor(const BinOpInfo &Ops) {\n",
    "+     Value* Lv = convertInputToI32(Ops.LHS, getLT(Ops.E));\n",
    "+     Value* Rv = convertInputToI32(Ops.RHS, getRT(Ops.E));\n",
    "+     Value* Result = Builder.CreateXor(Lv, Rv, \"qxor\");\n",
    "+     Result = truncToFract(Result, Ops.Ty);\n",
    "+     return Result;\n",
    "+   }\n",
    "```"
   ]
  },
  {
   "cell_type": "markdown",
   "metadata": {},
   "source": [
    "- Implement the functions that handle the conversion between different types, for example fract to int. As we can see also here  intrinsic functions are used.\n",
    "\n",
    "```C++\n",
    "+   Value* EmitConvertFractToInt(Value *Src, QualType SrcType, QualType DstType) {\n",
    "+     llvm::Type *argTypes[] = { ConvertType(DstType), ConvertType(SrcType) };\n",
    "+     llvm::Intrinsic::ID id = llvm::Intrinsic::arc_FRACT_TO_INT;\n",
    "+     llvm::Function *F = CGF.CGM.getIntrinsic(id, argTypes);\n",
    "+     Value* V = Builder.CreateCall(F, Src);\n",
    "+     return V;\n",
    "+   }\n",
    "```"
   ]
  },
  {
   "cell_type": "markdown",
   "metadata": {},
   "source": [
    "## /include/clang/AST/Expr.cpp"
   ]
  },
  {
   "cell_type": "markdown",
   "metadata": {},
   "source": [
    "Implementation of the function **commuteFixedPoint()**,\n",
    "Basically if the type of the operand involved in the expression is Fract or Accum, if we match one of the operation in the switch (only the commutative operations) then we are going to swap the SubExprs[0] and SubExprs[1] (SubExprs is an array of Stmt). This swap can be useful in order to simplify some cases when we have to deal with cast ecc.. because we know for sure that if a fixed point type is involved in the expression this will be for sure the left operand (maybe?). \n",
    "\n",
    "```C++\n",
    "+ void BinaryOperator::commuteFixedPoint() {\n",
    "+   if (getType()->isFractOrAccumType() && getLHS()->getType()->isIntegerType()) {\n",
    "+     switch (getOpcode()) {\n",
    "+     case BO_Mul:\n",
    "+     case BO_Add:\n",
    "+     case BO_EQ:\n",
    "+     case BO_NE:\n",
    "+     case BO_And:\n",
    "+     case BO_Xor:\n",
    "+     case BO_Or:\n",
    "+       std::swap(SubExprs[0], SubExprs[1]);\n",
    "+       break;\n",
    "+     default:\n",
    "+       break;\n",
    "+     }\n",
    "+   }\n",
    "+ }\n",
    "```"
   ]
  },
  {
   "cell_type": "markdown",
   "metadata": {},
   "source": [
    "## /lib/Sema/SemaExpr.cpp"
   ]
  },
  {
   "cell_type": "markdown",
   "metadata": {},
   "source": [
    "This file implements semantic analysis for expressions. In particular this file implements all the conversions needed in order to perform the operations between fixed point and integer / float type.\n",
    "\n",
    "Added inside the function **handleFloatConversion()**\n",
    "\n",
    "Basically if one of the operands is a fixed point type and the other one is an integer type the function gets the Qualtype of the fixed poit operands and cast the integer type to it.\n",
    "```C++\n",
    "! //<Synopsys> FixedPoint\n",
    "!   if (LHSType->isFractOrAccumType() && RHSType->isIntegerType()) {\n",
    "!     QualType T = S.Context.getMaximalAccumType(LHSType);\n",
    "!     RHS = S.ImpCastExprToType(RHS.get(), T, CK_FloatingCast);\n",
    "!     RHSType = T;\n",
    "!   }\n",
    "!   else if (RHSType->isFractOrAccumType() && LHSType->isIntegerType()) {\n",
    "!     QualType T = S.Context.getMaximalAccumType(RHSType);\n",
    "!     LHS = S.ImpCastExprToType(LHS.get(), T, CK_FloatingCast);\n",
    "!     LHSType = T;\n",
    "!   }\n",
    "! \n",
    "!   bool LHSFloat = LHSType->isRealOrFixed();\n",
    "!   bool RHSFloat = RHSType->isRealOrFixed();\n",
    "```"
   ]
  },
  {
   "cell_type": "markdown",
   "metadata": {},
   "source": [
    "Inside The function **UsualArithmeticConversion** is added the code in order to handle the Arithmetic conversions also for the new added type.\n",
    "\n",
    "The function 'UsualArithmeticConversion', according to the internal documentation, performs various conversions that are common to binary operators. If both operands aren't arithmetic, this routine returns the first non-arithmetic type found.\n",
    "```C++\n",
    "+ #if 0\n",
    "+   if (LHSType->isFractOrAccumType()) {\n",
    "+     if (RHSType->isIntegerType()) {\n",
    "+       RHS = UsualUnaryConversions(RHS.take());\n",
    "+       return LHSType;\n",
    "+     }\n",
    "+   } else if (RHSType->isFractOrAccumType()) {\n",
    "+     if (LHSType->isIntegerType()) {\n",
    "+       LHS = UsualUnaryConversions(LHS.take());\n",
    "+       return RHSType;\n",
    "+     }\n",
    "+   }\n",
    "+ #endif\n",
    "```"
   ]
  },
  {
   "cell_type": "markdown",
   "metadata": {},
   "source": [
    "The **division operation** isn't supported yet and it is avoided with this snippet of code added inside **CheckMultiplyDivideOperands**. Basically if one of the operand has a fixed point type the function return an error message. This is valid even for the vector of fixed point\n",
    "```C++\n",
    "+   if (IsDiv && (isFixedPointOrVectorFixedPoint(LHS.get()->getType()) || isFixedPointOrVectorFixedPoint(RHS.get()->getType()))) {\n",
    "+     Diag(Loc, diag::err_typecheck_invalid_operands) << LHS.get()->getType() << RHS.get()->getType();\n",
    "+     return QualType();\n",
    "+   }\n",
    "\n",
    "+   if (isVectorFixedPoint(LHS.get()->getType())) {\n",
    "+     const VectorType *LHSVecType = LHS.get()->getType()->getAs<VectorType>();\n",
    "+     if (!eqSizedIntVector(Context, RHS.get()->getType(), LHSVecType->getElementType(), LHSVecType->getNumElements())) {\n",
    "+       Diag(Loc, diag::err_typecheck_invalid_operands) << LHS.get()->getType() << RHS.get()->getType();\n",
    "+       return QualType();\n",
    "+     }\n",
    "+     return LHS.get()->getType();\n",
    "+   }\n",
    "```"
   ]
  },
  {
   "cell_type": "markdown",
   "metadata": {},
   "source": [
    "- **BuildFixedPointLiteral(Sema &S, NumericLiteralParser &Literal,QualType Ty, SourceLocation Loc)**\n",
    "\n",
    "This snippet is used in order to add the FixedPointLiteral node as leaves of the AST. ( this is the exactly same thing as , for example, the IntegerLiteralNode, see schema ) \n",
    "\n",
    "\n",
    "```C++\n",
    "\n",
    "+ static Expr *BuildFixedPointLiteral(Sema &S, NumericLiteralParser &Literal,\n",
    "+ \t\t\t\t    QualType Ty, SourceLocation Loc) {\n",
    "+ \n",
    "+   using llvm::APFloat;\n",
    "+ \n",
    "+   llvm::FixedPointFormat Format(Ty->isSignedFixedPoint(), Ty->getFixedPointGuardBits(), Ty->getFixedPointWidth());\n",
    "+   const llvm::fltSemantics &Sem = S.Context.getFloatTypeSemantics(Ty);\n",
    "+   APFloat Val(Sem);\n",
    "+ \n",
    "+   APFloat::opStatus result = Literal.GetFixedPointValue(Val);\n",
    "+ \n",
    "+   // Overflow is always an error, but underflow is only an error if\n",
    "+   // we underflowed to zero (APFloat reports denormals as underflow).\n",
    "+   if ((result & APFloat::opOverflow) ||\n",
    "+       ((result & APFloat::opUnderflow) && Val.isZero())) {\n",
    "+     unsigned diagnostic;\n",
    "+     SmallString<20> buffer;\n",
    "+     if (result & APFloat::opOverflow) {\n",
    "+       diagnostic = diag::warn_float_overflow;\n",
    "+       llvm::APFloat::getFixedPointMax(Format).toString(buffer);\n",
    "+     } else {\n",
    "+       diagnostic = diag::warn_float_underflow;\n",
    "+       llvm::APFloat::getFixedPointMin(Format).toString(buffer);\n",
    "+     }\n",
    "+ \n",
    "+     S.Diag(Loc, diagnostic)\n",
    "+       << Ty\n",
    "+       << StringRef(buffer.data(), buffer.size());\n",
    "+   }\n",
    "+ \n",
    "+   bool isExact = (result == APFloat::opOK);\n",
    "+   return FloatingLiteral::Create(S.Context, Val, isExact, Ty, Loc);\n",
    "+ }\n",
    "```"
   ]
  },
  {
   "cell_type": "markdown",
   "metadata": {},
   "source": [
    "- **isFixedPointOrVectorFixedPoint(QualType Ty)**\n",
    "\n",
    "Checks if the Type is a Fixed one. If the element is a vector, get its type and call this function recursively on the retrieved type.\n",
    "\n",
    "```C++\n",
    "+ static bool isFixedPointOrVectorFixedPoint(QualType Ty) {\n",
    "+   if (Ty->isFractOrAccumType()) return true;\n",
    "+   if (Ty->isVectorType())\n",
    "+     return isFixedPointOrVectorFixedPoint(Ty->getAs<VectorType>()->getElementType());\n",
    "+   return false;\n",
    "+ }\n",
    "```"
   ]
  },
  {
   "cell_type": "markdown",
   "metadata": {},
   "source": [
    "- ** isVectorFixedPoint(QualType Ty)**\n",
    "\n",
    "The same as the function above, but it checks only if its a vector and not only a fixed point value\n",
    "\n",
    "```C++\n",
    "+ static bool isVectorFixedPoint(QualType Ty) {\n",
    "+   if (Ty->isVectorType())\n",
    "+     return isFixedPointOrVectorFixedPoint(Ty->getAs<VectorType>()->getElementType());\n",
    "+   return false;\n",
    "+ }\n",
    "```"
   ]
  },
  {
   "cell_type": "markdown",
   "metadata": {},
   "source": [
    "## /lib/Sema/SemaOverload.cpp"
   ]
  },
  {
   "cell_type": "markdown",
   "metadata": {},
   "source": [
    "Added the handling of tags in order to deal with the cast to and from fixed point type. \n",
    "\n",
    "For example :\n",
    "\n",
    "```C++\n",
    "case ICK_Floating_Integral:\n",
    "   FloatingIntegralConversion:\n",
    "!  if (FromType->isRealFloatingType() && ToType->isIntegralType(Ctx)) {\n",
    "    return NK_Type_Narrowing;\n",
    "```"
   ]
  },
  {
   "cell_type": "markdown",
   "metadata": {},
   "source": [
    "The fixed point type is identified by isRealFloatingType() function."
   ]
  },
  {
   "cell_type": "markdown",
   "metadata": {},
   "source": [
    "## /lib/Sema/SemaType.cpp"
   ]
  },
  {
   "cell_type": "markdown",
   "metadata": {},
   "source": [
    "The function **ConvertDeclSpecToType** returns a QualType given a declaration specifier. It has been added this code in order to handling all the cases for the new added types included the error messages (like 'unsigned fixed point is not supported')\n",
    "```C++\n",
    "+   case DeclSpec::TST_fract:\n",
    "+     if (!Context.getTargetInfo().hasFixedPoint()) {\n",
    "+       S.Diag(DS.getTypeSpecTypeLoc(), diag::err_fixed_point_unsupported);\n",
    "+       Result = Context.IntTy;\n",
    "+       declarator.setInvalidType(true);\n",
    "+       break;\n",
    "+     }\n",
    "+     if (DS.getTypeSpecSign() == DeclSpec::TSS_unsigned) {\n",
    "+       S.Diag(DS.getTypeSpecTypeLoc(), diag::err_unsigned_fixed_point_unsupported);\n",
    "+       Result = Context.IntTy;\n",
    "+       declarator.setInvalidType(true);\n",
    "+       break;\n",
    "+     }\n",
    "+     if (!DS.isSaturated()) {\n",
    "+       S.Diag(DS.getTypeSpecTypeLoc(), diag::err_unsat_fixed_point_unsupported);\n",
    "+       Result = Context.IntTy;\n",
    "+       declarator.setInvalidType(true);\n",
    "+       break;\n",
    "+     }\n",
    "+     switch (DS.getTypeSpecWidth()) {\n",
    "+     case DeclSpec::TSW_unspecified:\n",
    "+       Result = Context.SatSignedFractTy;\n",
    "+       break;\n",
    "+     case DeclSpec::TSW_short:\n",
    "+       Result = Context.SatSignedShortFractTy;\n",
    "+       break;\n",
    "+     case DeclSpec::TSW_long:\n",
    "+       Result = Context.SatSignedLongFractTy;\n",
    "+       break;\n",
    "+     case DeclSpec::TSW_longlong:\n",
    "+       Result = Context.SatSignedLongLongFractTy;\n",
    "+       break;\n",
    "+     }\n",
    "+     break;\n",
    "+   case DeclSpec::TST_accum:\n",
    "+     if (!Context.getTargetInfo().hasFixedPoint()) {\n",
    "+       S.Diag(DS.getTypeSpecTypeLoc(), diag::err_fixed_point_unsupported);\n",
    "+       Result = Context.IntTy;\n",
    "+       declarator.setInvalidType(true);\n",
    "+       break;\n",
    "+     }\n",
    "+     if (DS.getTypeSpecSign() == DeclSpec::TSS_unsigned) {\n",
    "+       S.Diag(DS.getTypeSpecTypeLoc(), diag::err_unsigned_fixed_point_unsupported);\n",
    "+       Result = Context.IntTy;\n",
    "+       declarator.setInvalidType(true);\n",
    "+       break;\n",
    "+     }\n",
    "+     if (!DS.isSaturated()) {\n",
    "+       S.Diag(DS.getTypeSpecTypeLoc(), diag::err_unsat_fixed_point_unsupported);\n",
    "+       Result = Context.IntTy;\n",
    "+       declarator.setInvalidType(true);\n",
    "+       break;\n",
    "+     }\n",
    "+     switch (DS.getTypeSpecWidth()) {\n",
    "+     case DeclSpec::TSW_unspecified:\n",
    "+       Result = Context.SatSignedAccumTy;\n",
    "+       break;\n",
    "+     case DeclSpec::TSW_short:\n",
    "+       Result = Context.SatSignedShortAccumTy;\n",
    "+       break;\n",
    "+     case DeclSpec::TSW_long:\n",
    "+       Result = Context.SatSignedLongAccumTy;\n",
    "+       break;\n",
    "+     case DeclSpec::TSW_longlong:\n",
    "+       Result = Context.SatSignedLongLongAccumTy;\n",
    "+       break;\n",
    "+     }\n",
    "+     break;\n",
    "+   case DeclSpec::TST_int96: // __int96 is used just to represent a 72-bit accumulator as an integer object\n",
    "+     if (!Context.getTargetInfo().hasInt96Type())\n",
    "+       S.Diag(DS.getTypeSpecTypeLoc(), diag::err_int96_unsupported);\n",
    "+     if (DS.getTypeSpecSign() == DeclSpec::TSS_unsigned)\n",
    "+       Result = Context.UnsignedInt96Ty;\n",
    "+     else\n",
    "+       Result = Context.Int96Ty;\n",
    "+     break;\n",
    "```"
   ]
  },
  {
   "cell_type": "markdown",
   "metadata": {},
   "source": [
    "## /lib/Serialization/ASTCommon.cpp - ASTReader.cpp"
   ]
  },
  {
   "cell_type": "markdown",
   "metadata": {},
   "source": [
    "ASTCommon.cpp file defines common functions that both ASTReader and ASTWriter use, while ASTReader.cpp reads AST files.\n",
    "In these file this code in order to retrieve the proper ID for the new types that has been added.\n",
    "\n",
    "- **ASTCommon.cpp**\n",
    "\n",
    "```C++\n",
    "+   case BuiltinType::UInt96:\t\t\tID = PREDEF_TYPE_UInt96_ID;\t\t\tbreak;\n",
    "+   case BuiltinType::Int96:\t\t\tID = PREDEF_TYPE_Int96_ID;\t\t\tbreak;\n",
    "+   case BuiltinType::SatSignedShortFract:\tID = PREDEF_TYPE_SatSignedShortFract_ID;\tbreak;\n",
    "+   case BuiltinType::SatSignedFract:\t\tID = PREDEF_TYPE_SatSignedFract_ID;\t\tbreak;\n",
    "+   case BuiltinType::SatSignedLongFract:\t\tID = PREDEF_TYPE_SatSignedLongFract_ID;\t\tbreak;\n",
    "+   case BuiltinType::SatSignedLongLongFract:\tID = PREDEF_TYPE_SatSignedLongLongFract_ID;\tbreak;\n",
    "+   case BuiltinType::SatSignedShortAccum:\tID = PREDEF_TYPE_SatSignedShortAccum_ID;\tbreak;\n",
    "+   case BuiltinType::SatSignedAccum:\t\tID = PREDEF_TYPE_SatSignedAccum_ID;\t\tbreak;\n",
    "+   case BuiltinType::SatSignedLongAccum:\t\tID = PREDEF_TYPE_SatSignedLongAccum_ID;\t\tbreak;\n",
    "+   case BuiltinType::SatSignedLongLongAccum:\tID = PREDEF_TYPE_SatSignedLongLongAccum_ID;\tbreak;\n",
    "```"
   ]
  },
  {
   "cell_type": "markdown",
   "metadata": {},
   "source": [
    "- **ASTReader.cpp**\n",
    "\n",
    "```C++\n",
    "+   case PREDEF_TYPE_UInt96_ID:\t\t\tT = Context.getUnsignedInt96Ty(); break;\n",
    "+   case PREDEF_TYPE_Int96_ID:\t\t\tT = Context.getInt96Ty(); break;\n",
    "+   case PREDEF_TYPE_SatSignedShortFract_ID:\tT = Context.getSatSignedShortFractTy(); break;\n",
    "+   case PREDEF_TYPE_SatSignedFract_ID:\t\tT = Context.getSatSignedFractTy(); break;\n",
    "+   case PREDEF_TYPE_SatSignedLongFract_ID:\tT = Context.getSatSignedLongFractTy(); break;\n",
    "+   case PREDEF_TYPE_SatSignedLongLongFract_ID:\tT = Context.getSatSignedLongLongFractTy(); break;\n",
    "+   case PREDEF_TYPE_SatSignedShortAccum_ID:\tT = Context.getSatSignedShortAccumTy(); break;\n",
    "+   case PREDEF_TYPE_SatSignedAccum_ID:\t\tT = Context.getSatSignedAccumTy(); break;\n",
    "+   case PREDEF_TYPE_SatSignedLongAccum_ID:\tT = Context.getSatSignedLongAccumTy(); break;\n",
    "+   case PREDEF_TYPE_SatSignedLongLongAccum_ID:\tT = Context.getSatSignedLongLongAccumTy(); break;\n",
    "```"
   ]
  },
  {
   "cell_type": "markdown",
   "metadata": {},
   "source": [
    "# Questions"
   ]
  },
  {
   "cell_type": "markdown",
   "metadata": {},
   "source": [
    "- In the file Expr.cpp what does it mean \" Allow an intrinsic function call to be used for a fixed point static initializer\"? what is the point of this code?\n",
    "\n",
    "```C++\n",
    "+   case CallExprClass:{\n",
    "+     const CallExpr* call = cast<CallExpr>(this);\n",
    "+     if (unsigned id = call->getBuiltinCallee()) {\n",
    "+       if (call->getNumArgs() == 1) {\n",
    "+ \tswitch (id) {\n",
    "+ \tcase clang::ARC::BI__int_to_q7:\n",
    "+ \tcase clang::ARC::BI__int_to_q15:\n",
    "+ \tcase clang::ARC::BI__int_to_q31:\n",
    "+ \tcase clang::ARC::BI__int_to_a24:\n",
    "+ \tcase clang::ARC::BI__int_to_a40:\n",
    "+ \tcase clang::ARC::BI__int_to_a72:\n",
    "+ \tcase clang::ARC::BI__q7_to_int:\n",
    "+ \tcase clang::ARC::BI__q15_to_int:\n",
    "+ \tcase clang::ARC::BI__q31_to_int:\n",
    "+ \tcase clang::ARC::BI__a24_to_int:\n",
    "+ \tcase clang::ARC::BI__a40_to_int:\n",
    "+ \tcase clang::ARC::BI__a72_to_int:\n",
    "+ \t  return call->getArg(0)->isConstantInitializer(Ctx, false, Culprit);\n",
    "+ \tdefault: break;\n",
    "+ \t}\n",
    "+       }\n",
    "+     }\n",
    "+   } break;\n",
    "```\n"
   ]
  }
 ],
 "metadata": {
  "kernelspec": {
   "display_name": "Python 3",
   "language": "python",
   "name": "python3"
  },
  "language_info": {
   "codemirror_mode": {
    "name": "ipython",
    "version": 3
   },
   "file_extension": ".py",
   "mimetype": "text/x-python",
   "name": "python",
   "nbconvert_exporter": "python",
   "pygments_lexer": "ipython3",
   "version": "3.5.1"
  },
  "latex_envs": {
   "bibliofile": "biblio.bib",
   "cite_by": "apalike",
   "current_citInitial": 1,
   "eqLabelWithNumbers": true,
   "eqNumInitial": 0
  }
 },
 "nbformat": 4,
 "nbformat_minor": 0
}
