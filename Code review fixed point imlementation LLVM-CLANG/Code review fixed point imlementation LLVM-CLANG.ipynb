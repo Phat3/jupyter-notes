{
 "cells": [
  {
   "cell_type": "markdown",
   "metadata": {},
   "source": [
    "<h1 style=\"text-align : center\"> FIXED POINT PATCH CODE REVIEW </h1>"
   ]
  },
  {
   "cell_type": "markdown",
   "metadata": {},
   "source": [
    "# Table of Contents\n",
    "* [Introduction](#Introduction)\n",
    "* [Review](#Review)\n",
    "\t* [/include/clang/Basic/TokenKinds.def](#/include/clang/Basic/TokenKinds.def)\n",
    "\t* [/include/clang/Sema/DeclSpec.h](#/include/clang/Sema/DeclSpec.h)\n",
    "\t* [/lib/Parse/ParseDecl.cpp](#/lib/Parse/ParseDecl.cpp)\n",
    "\t* [/lib/Sema/SemaType.cpp](#/lib/Sema/SemaType.cpp)\n",
    "\t* [/include/clang/AST/ASTContext.h](#/include/clang/AST/ASTContext.h)\n",
    "\t* [/include/clang/AST/Expr.cpp](#/include/clang/AST/Expr.cpp)\n",
    "\t* [/lib/Sema/SemaExpr.cpp](#/lib/Sema/SemaExpr.cpp)\n"
   ]
  },
  {
   "cell_type": "markdown",
   "metadata": {},
   "source": [
    "# Introduction"
   ]
  },
  {
   "cell_type": "markdown",
   "metadata": {},
   "source": [
    "1. This patch includes the diffs for the lexer, parser, sema, and conversion to bitcode (clang/lib/CodeGen).\n",
    "2. The diffs are against the **LLVM 3.7**.\n",
    "3. The patch **doesn’t support unsigned nor unsaturated _Fract or _Accum types**"
   ]
  },
  {
   "cell_type": "markdown",
   "metadata": {},
   "source": [
    "# Review"
   ]
  },
  {
   "cell_type": "markdown",
   "metadata": {},
   "source": [
    "## /include/clang/Basic/TokenKinds.def"
   ]
  },
  {
   "cell_type": "markdown",
   "metadata": {},
   "source": [
    "In this file we added the definition of the token that the lexer will find inside the source code:\n",
    "```C++\n",
    "KEYWORD(__int96    , KEYALL)\n",
    "KEYWORD(_Sat         , KEYALL)   // As specified by the ISO/IEC TR 18037\n",
    "KEYWORD(_Fract      , KEYALL)   // As specified by the ISO/IEC TR 18037\n",
    "KEYWORD(_Accum   , KEYALL)   // As specified by the ISO/IEC TR 18037\n",
    "```"
   ]
  },
  {
   "cell_type": "markdown",
   "metadata": {},
   "source": [
    "## /include/clang/Sema/DeclSpec.h"
   ]
  },
  {
   "cell_type": "markdown",
   "metadata": {},
   "source": [
    "Added the new Type Specifier Type for the new type. \n",
    "The [TST](http://clang.llvm.org/doxygen/namespaceclang.html#a033691a5f00979c1a22d8aa114d07e13) is used to just specifies the type using an enum.\n",
    "```C++\n",
    "static const TST TST_fract = clang::TST_fract;\n",
    "static const TST TST_accum = clang::TST_accum;\n",
    "static const TST TST_int96 = clang::TST_int96;\n",
    "```"
   ]
  },
  {
   "cell_type": "markdown",
   "metadata": {},
   "source": [
    "Addded the function **setSaturated** in order to memorize this information while parsing the declaration\n",
    "The function setSaturated is used inside **Parser::ParseDeclarationSpecifiers** when meet a kw__Sat.\n",
    "\n",
    "Saturated is a global variable inside this file that indicates if a declaration is a Sat or not\n",
    "```C++\n",
    "void setSaturated(SourceLocation l) { Saturated = true; SaturatedLoc = l; }\n",
    "bool isSaturated() const { return Saturated; }\n",
    "```"
   ]
  },
  {
   "cell_type": "markdown",
   "metadata": {},
   "source": [
    "## /lib/Parse/ParseDecl.cpp"
   ]
  },
  {
   "cell_type": "markdown",
   "metadata": {},
   "source": [
    "in the function **Parser::ParseDeclarationSpecifiers**  ( row 2618 ) added the cases in order to handle the new type. For example in the case of the kw__Sat we are going to mark as Saturated the DS, using the function previously defined setSaturated().\n",
    "```C++\n",
    "ParseGNUAttributes(DS.getAttributes(), nullptr, LateAttrs);\n",
    "continue;\n",
    "  \n",
    "+ //<Synopsys> FixedPoint\n",
    "+     case tok::kw__Sat:\n",
    "+       if (DS.isSaturated()) Diag(Tok, diag::err_sat_specified);\n",
    "+       DS.setSaturated(Tok.getLocation());\n",
    "+       break;\n",
    "+     case tok::kw__Fract:\n",
    "+       isInvalid = DS.SetTypeSpecType(DeclSpec::TST_fract, Loc, PrevSpec,\n",
    "+                                                  DiagID, Policy);\n",
    "+       break;\n",
    "+     case tok::kw__Accum:\n",
    "+       isInvalid = DS.SetTypeSpecType(DeclSpec::TST_accum, Loc, PrevSpec,\n",
    "+                                                              DiagID, Policy);\n",
    "+       break;\n",
    "+     case tok::kw___int96:\n",
    "+       isInvalid = DS.SetTypeSpecType(DeclSpec::TST_int96, Loc, PrevSpec,\n",
    "+                                                                DiagID, Policy);\n",
    "+       break;\n",
    "+ //</Synopsys> FixedPoint\n",
    "+ \n",
    "// Microsoft declspec support.\n",
    "case tok::kw___declspec:\n",
    "ParseMicrosoftDeclSpecs(DS.getAttributes());\n",
    "```"
   ]
  },
  {
   "cell_type": "markdown",
   "metadata": {},
   "source": [
    "Added in the function **Parser::isKnownToBeTypeSpecifier** the cases in order to understand if we have a known type specifier.\n",
    "```C++\n",
    "    case tok::kw__Decimal64:\n",
    "    case tok::kw__Decimal128:\n",
    "    case tok::kw___vector:\n",
    "+ //<Synopsys> FixedPoint\n",
    "+   case tok::kw__Sat:\n",
    "+   case tok::kw__Fract:\n",
    "+   case tok::kw__Accum:\n",
    "+   case tok::kw___int96:\n",
    "+ //</Synopsys> FixedPoint\n",
    "```"
   ]
  },
  {
   "cell_type": "markdown",
   "metadata": {},
   "source": [
    "## /lib/Sema/SemaType.cpp"
   ]
  },
  {
   "cell_type": "markdown",
   "metadata": {},
   "source": [
    "Here too, added the cases for handling the new TST and fill correctly the Declaration Specifier ( DS ).\n",
    "\n",
    "A [Declaration Specifier](http://clang.llvm.org/doxygen/DeclSpec_8h_source.html) encompasses storage-class-specifiers, type-specifiers, type-qualifiers, and function-specifiers. It basically describes the content of a declaration."
   ]
  },
  {
   "cell_type": "markdown",
   "metadata": {},
   "source": [
    "## /include/clang/AST/ASTContext.h"
   ]
  },
  {
   "cell_type": "markdown",
   "metadata": {},
   "source": [
    "added the new CanQualType in order to handle the new fixed point type and the respective getter.\n",
    "\n",
    "A CanQualType represents a canonical, potentially-qualified type. The CanQual template is a lightweight smart pointer that provides access to the canonical representation of a type, where all typedefs and other syntactic sugar has been eliminated. A CanQualType may also have various qualifiers (const, volatile, restrict) attached to it."
   ]
  },
  {
   "cell_type": "markdown",
   "metadata": {},
   "source": [
    "## /include/clang/AST/Expr.cpp"
   ]
  },
  {
   "cell_type": "markdown",
   "metadata": {},
   "source": [
    "Implementation of the function **commuteFixedPoint()**,\n",
    "Basically if the type of the operand involved in the expression is Fract or Accum, if we match one of the operation in the switch then we are going to swap the SubExprs[0] and SubExprs[1].\n",
    "( What is SubExprs? For what reasons the swap? )"
   ]
  },
  {
   "cell_type": "markdown",
   "metadata": {},
   "source": [
    "## /lib/Sema/SemaExpr.cpp"
   ]
  },
  {
   "cell_type": "markdown",
   "metadata": {},
   "source": [
    "This file implements semantic analysis for expressions.\n",
    "\n",
    "Added inside the function **handleFloatConversion()**\n",
    "```C++\n",
    "! //<Synopsys> FixedPoint\n",
    "!   if (LHSType->isFractOrAccumType() && RHSType->isIntegerType()) {\n",
    "!     QualType T = S.Context.getMaximalAccumType(LHSType);\n",
    "!     RHS = S.ImpCastExprToType(RHS.get(), T, CK_FloatingCast);\n",
    "!     RHSType = T;\n",
    "!   }\n",
    "!   else if (RHSType->isFractOrAccumType() && LHSType->isIntegerType()) {\n",
    "!     QualType T = S.Context.getMaximalAccumType(RHSType);\n",
    "!     LHS = S.ImpCastExprToType(LHS.get(), T, CK_FloatingCast);\n",
    "!     LHSType = T;\n",
    "!   }\n",
    "! //</Synopsys> FixedPoint\n",
    "! \n",
    "!   bool LHSFloat = LHSType->isRealOrFixed();\n",
    "!   bool RHSFloat = RHSType->isRealOrFixed();\n",
    "  \n",
    "    // If we have two real floating types, convert the smaller operand\n",
    "    // to the bigger result.\n",
    "    if (LHSFloat && RHSFloat) {\n",
    "      int order = S.Context.getFloatingTypeOrder(LHSType, RHSType);\n",
    "+     if (order == 0) // Seen when error nodes in tree  -- SYNOPSYS\n",
    "+       return LHSType;\n",
    "      if (order > 0) {\n",
    "        RHS = S.ImpCastExprToType(RHS.get(), LHSType, CK_FloatingCast);\n",
    "        return LHSType;\n",
    "```"
   ]
  },
  {
   "cell_type": "markdown",
   "metadata": {},
   "source": [
    "HandleFloatConversion basically introduces the Expression in order to perform the casts\n",
    "```C++\n",
    "+ bool Type::isRealOrFixed() const {\n",
    "+   return isRealFloatingType() || isFractOrAccumType();\n",
    "+ }\n",
    "```"
   ]
  }
 ],
 "metadata": {
  "kernelspec": {
   "display_name": "Python 3",
   "language": "python",
   "name": "python3"
  },
  "language_info": {
   "codemirror_mode": {
    "name": "ipython",
    "version": 3
   },
   "file_extension": ".py",
   "mimetype": "text/x-python",
   "name": "python",
   "nbconvert_exporter": "python",
   "pygments_lexer": "ipython3",
   "version": "3.5.1"
  },
  "latex_envs": {
   "bibliofile": "biblio.bib",
   "cite_by": "apalike",
   "current_citInitial": 1,
   "eqLabelWithNumbers": true,
   "eqNumInitial": 0
  }
 },
 "nbformat": 4,
 "nbformat_minor": 0
}
