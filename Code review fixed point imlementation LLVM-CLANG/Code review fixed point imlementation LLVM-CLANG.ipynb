{
 "cells": [
  {
   "cell_type": "markdown",
   "metadata": {},
   "source": [
    "<h1 style=\"text-align : center\"> FIXED POINT PATCH CODE REVIEW </h1>"
   ]
  },
  {
   "cell_type": "markdown",
   "metadata": {},
   "source": [
    "# Table of Contents\n",
    "* [Introduction](#Introduction)\n",
    "* [Gossary](#Gossary)\n",
    "* [Review](#Review)\n",
    "\t* [/include/clang/Basic/TokenKinds.def](#/include/clang/Basic/TokenKinds.def)\n",
    "\t* [/include/clang/AST/BuiltinTypes.def](#/include/clang/AST/BuiltinTypes.def)\n",
    "\t* [/include/clang/AST/Type.h](#/include/clang/AST/Type.h)\n",
    "\t* [/include/clang/Basic/Specifiers.h](#/include/clang/Basic/Specifiers.h)\n",
    "\t* [/include/clang/Basic/TargetInfo.h](#/include/clang/Basic/TargetInfo.h)\n",
    "\t* [/include/clang/Sema/DeclSpec.h](#/include/clang/Sema/DeclSpec.h)\n",
    "\t* [/lib/Parse/ParseDecl.cpp](#/lib/Parse/ParseDecl.cpp)\n",
    "\t* [/lib/Sema/SemaType.cpp](#/lib/Sema/SemaType.cpp)\n",
    "\t* [/include/clang/AST/ASTContext.h](#/include/clang/AST/ASTContext.h)\n",
    "\t* [/include/clang/AST/Expr.cpp](#/include/clang/AST/Expr.cpp)\n",
    "\t* [/lib/Sema/SemaExpr.cpp](#/lib/Sema/SemaExpr.cpp)\n",
    "\t\t* [Custom Functions used](#Custom-Functions-used)\n",
    "\t* [/lib/Sema/SemaOverload.cpp](#/lib/Sema/SemaOverload.cpp)\n",
    "\t* [/lib/Sema/SemaType.cpp](#/lib/Sema/SemaType.cpp)\n",
    "\t* [/lib/Serialization/ASTCommon.cpp - ASTReader.cpp](#/lib/Serialization/ASTCommon.cpp---ASTReader.cpp)\n",
    "* [Questions](#Questions)\n"
   ]
  },
  {
   "cell_type": "markdown",
   "metadata": {},
   "source": [
    "# Introduction"
   ]
  },
  {
   "cell_type": "markdown",
   "metadata": {},
   "source": [
    "1. This patch includes the diffs for the lexer, parser, sema, and conversion to bitcode (clang/lib/CodeGen).\n",
    "2. The diffs are against the **LLVM 3.7**.\n",
    "3. The patch **doesn’t support unsigned nor unsaturated _Fract or _Accum types**"
   ]
  },
  {
   "cell_type": "markdown",
   "metadata": {},
   "source": [
    "# Gossary"
   ]
  },
  {
   "cell_type": "markdown",
   "metadata": {},
   "source": [
    "- [**Type**](http://clang.llvm.org/doxygen/classclang_1_1Type.html) : The base class of the type hierarchy.\n",
    "- [**QualType**](http://clang.llvm.org/doxygen/classclang_1_1QualType.html) : Wrapper class that has two pointers as attributes: one points to the Type and the other points to the Qualifier (Both of these classes are defined in Type.h). This greatly reduces the number of nodes we need to allocate for types. For the sake of semplicity we will consider QualType equals to CanQualType"
   ]
  },
  {
   "cell_type": "markdown",
   "metadata": {},
   "source": [
    "<img  src=\"FQWHQFGMBF9OHV9MVBMGARA9R4UYDU95.png\"/>"
   ]
  },
  {
   "cell_type": "markdown",
   "metadata": {},
   "source": [
    "- [**TST**](http://clang.llvm.org/doxygen/namespaceclang.html#a033691a5f00979c1a22d8aa114d07e13) : The Type Specifier Type (TST) is used to just specifies the type using an enum.\n",
    "- [**DeclSpec**](http://clang.llvm.org/doxygen/classclang_1_1DeclSpec.html) : A Declaration Specifier encompasses storage-class-specifiers, type-specifiers, type-qualifiers, and function-specifiers. It basically describes the content of a declaration.\n",
    "- [**Sema**](http://clang.llvm.org/doxygen/classclang_1_1Sema.html): Implements the semantic analysis and AST building for C."
   ]
  },
  {
   "cell_type": "markdown",
   "metadata": {},
   "source": [
    "# Review"
   ]
  },
  {
   "cell_type": "markdown",
   "metadata": {},
   "source": [
    "## /include/clang/Basic/TokenKinds.def"
   ]
  },
  {
   "cell_type": "markdown",
   "metadata": {},
   "source": [
    "In this file we added the definition of the token that the lexer will find inside the source code:\n",
    "```C++\n",
    "KEYWORD(__int96    , KEYALL)\n",
    "KEYWORD(_Sat         , KEYALL)   // As specified by the ISO/IEC TR 18037\n",
    "KEYWORD(_Fract      , KEYALL)   // As specified by the ISO/IEC TR 18037\n",
    "KEYWORD(_Accum   , KEYALL)   // As specified by the ISO/IEC TR 18037\n",
    "```"
   ]
  },
  {
   "cell_type": "markdown",
   "metadata": {},
   "source": [
    "## /include/clang/AST/BuiltinTypes.def"
   ]
  },
  {
   "cell_type": "markdown",
   "metadata": {},
   "source": [
    "In this file is defined the macro that will creates the IDs for the new added types. These IDs are fundamental in order to read and write correctly the AST.\n",
    "```C++\n",
    "+ #ifndef FIXED_TYPE\n",
    "+ #define FIXED_TYPE(Id, SingletonId) BUILTIN_TYPE(Id, SingletonId)\n",
    "+ #endif\n",
    "\n",
    "+ FIXED_TYPE(SatSignedShortFract, FractTy)\n",
    "+ FIXED_TYPE(SatSignedFract, FractTy)\n",
    "+ FIXED_TYPE(SatSignedLongFract, FractTy)\n",
    "+ FIXED_TYPE(SatSignedLongLongFract, FractTy)\n",
    "+ \n",
    "+ FIXED_TYPE(SatSignedShortAccum, AccumTy)\n",
    "+ FIXED_TYPE(SatSignedAccum, AccumTy)\n",
    "+ FIXED_TYPE(SatSignedLongAccum, AccumTy)\n",
    "+ FIXED_TYPE(SatSignedLongLongAccum, AccumTy)\n",
    "```"
   ]
  },
  {
   "cell_type": "markdown",
   "metadata": {},
   "source": [
    "## /include/clang/AST/Type.h"
   ]
  },
  {
   "cell_type": "markdown",
   "metadata": {},
   "source": [
    "This file is used to represents types for .languages in the C family. Here are specified all the features of the new types and are defined all the methods in order to access to them.\n",
    "```C++\n",
    "+   struct FixedPointTypeTraits : public BuiltinTypeBitfields {\n",
    "+     unsigned char GuardBits;\n",
    "+     unsigned char Width;\n",
    "+   };\n",
    "\n",
    "+   bool isSaturated() const;\n",
    "+   bool hasSameFixedPointRepresentation(const Type*) const;\n",
    "+   bool isFractType() const;\n",
    "+   bool isAccumType() const;\n",
    "+   bool isFractOrAccumType() const;\n",
    "+   bool isRealOrFixed() const;\n",
    "+   bool isSignedFixedPoint() const;\n",
    "+   bool isUnsignedFixedPoint() const;\n",
    "+   unsigned getFixedPointGuardBits() const;\n",
    "+   unsigned getFixedPointWidth() const;\n",
    "```"
   ]
  },
  {
   "cell_type": "markdown",
   "metadata": {},
   "source": [
    "## /include/clang/Basic/Specifiers.h"
   ]
  },
  {
   "cell_type": "markdown",
   "metadata": {},
   "source": [
    "In this file defines various enumerations that describe declaration and type specifiers. It has been add in these enumeration the cases for the new types.\n",
    "```C++\n",
    "+     TST_fract,\n",
    "+     TST_accum,\n",
    "+     TST_int96,\n",
    "```"
   ]
  },
  {
   "cell_type": "markdown",
   "metadata": {},
   "source": [
    "## /include/clang/Basic/TargetInfo.h"
   ]
  },
  {
   "cell_type": "markdown",
   "metadata": {},
   "source": [
    "this file exposes all the features of the target architecture for which the code will be generated, and here are defined the method that return the characteristics of the new types according to the architecture informations.\n",
    "```C++\n",
    "+   unsigned getShortFractWidth() const { return ShortFractWidth; }\n",
    "+   unsigned getShortFractAlign() const { return ShortFractAlign; }\n",
    "+   unsigned getFractWidth() const { return FractWidth; }\n",
    "+   unsigned getFractAlign() const { return FractAlign; }\n",
    "+   unsigned getLongFractWidth() const { return LongFractWidth; }\n",
    "+   unsigned getLongFractAlign() const { return LongFractAlign; }\n",
    "+   unsigned getLongLongFractWidth() const { return LongLongFractWidth; }\n",
    "+   unsigned getLongLongFractAlign() const { return LongLongFractAlign; }\n",
    "+   unsigned getShortAccumWidth() const { return ShortAccumWidth; }\n",
    "+   unsigned getShortAccumAlign() const { return ShortAccumAlign; }\n",
    "+   unsigned getAccumWidth() const { return AccumWidth; }\n",
    "+   unsigned getAccumAlign() const { return AccumAlign; }\n",
    "+   unsigned getLongAccumWidth() const { return LongAccumWidth; }\n",
    "+   unsigned getLongAccumAlign() const { return LongAccumAlign; }\n",
    "+   unsigned getLongLongAccumWidth() const { return LongLongAccumWidth; }\n",
    "+   unsigned getLongLongAccumAlign() const { return LongLongAccumAlign; }\n",
    "+   virtual unsigned getNumGuardBits() const { return 8; }\n",
    "+   virtual unsigned getShortAccumGuardBits() const { return 8; }\n",
    "+   virtual unsigned getAccumGuardBits() const { return 8; }\n",
    "+   virtual unsigned getLongAccumGuardBits() const { return 8; }\n",
    "+   virtual unsigned getLongLongAccumGuardBits() const { return 8; }\n",
    "```"
   ]
  },
  {
   "cell_type": "markdown",
   "metadata": {},
   "source": [
    "## /include/clang/Sema/DeclSpec.h"
   ]
  },
  {
   "cell_type": "markdown",
   "metadata": {},
   "source": [
    "Added the new Type Specifier Type for the new type. \n",
    "```C++\n",
    "static const TST TST_fract = clang::TST_fract;\n",
    "static const TST TST_accum = clang::TST_accum;\n",
    "static const TST TST_int96 = clang::TST_int96;\n",
    "```"
   ]
  },
  {
   "cell_type": "markdown",
   "metadata": {},
   "source": [
    "Addded the function **setSaturated** in order to memorize this information while parsing the declaration\n",
    "The function setSaturated is used inside **Parser::ParseDeclarationSpecifiers** when meet a kw__Sat.\n",
    "\n",
    "Saturated is a global variable inside this file that indicates if a declaration is a Sat or not\n",
    "```C++\n",
    "void setSaturated(SourceLocation l) { Saturated = true; SaturatedLoc = l; }\n",
    "bool isSaturated() const { return Saturated; }\n",
    "```"
   ]
  },
  {
   "cell_type": "markdown",
   "metadata": {},
   "source": [
    "## /lib/Parse/ParseDecl.cpp"
   ]
  },
  {
   "cell_type": "markdown",
   "metadata": {},
   "source": [
    "in the function **Parser::ParseDeclarationSpecifiers**  ( row 2618 ) added the cases in order to handle the new type. For example in the case of the kw__Sat we are going to mark as Saturated the DS, using the function previously defined setSaturated().\n",
    "```C++\n",
    "+     case tok::kw__Sat:\n",
    "+       if (DS.isSaturated()) Diag(Tok, diag::err_sat_specified);\n",
    "+       DS.setSaturated(Tok.getLocation());\n",
    "+       break;\n",
    "+     case tok::kw__Fract:\n",
    "+       isInvalid = DS.SetTypeSpecType(DeclSpec::TST_fract, Loc, PrevSpec,\n",
    "+                                                  DiagID, Policy);\n",
    "+       break;\n",
    "+     case tok::kw__Accum:\n",
    "+       isInvalid = DS.SetTypeSpecType(DeclSpec::TST_accum, Loc, PrevSpec,\n",
    "+                                                              DiagID, Policy);\n",
    "+       break;\n",
    "+     case tok::kw___int96:\n",
    "+       isInvalid = DS.SetTypeSpecType(DeclSpec::TST_int96, Loc, PrevSpec,\n",
    "+                                                                DiagID, Policy);\n",
    "+       break;\n",
    "+ \n",
    "```"
   ]
  },
  {
   "cell_type": "markdown",
   "metadata": {},
   "source": [
    "Added in the function **Parser::isKnownToBeTypeSpecifier** the cases in order to understand if we have a known type specifier.\n",
    "```C++\n",
    "+   case tok::kw__Sat:\n",
    "+   case tok::kw__Fract:\n",
    "+   case tok::kw__Accum:\n",
    "+   case tok::kw___int96:\n",
    "```"
   ]
  },
  {
   "cell_type": "markdown",
   "metadata": {},
   "source": [
    "## /lib/Sema/SemaType.cpp"
   ]
  },
  {
   "cell_type": "markdown",
   "metadata": {},
   "source": [
    "Here too, added the cases for handling the new TST and fill correctly the Declaration Specifier ( DS )."
   ]
  },
  {
   "cell_type": "markdown",
   "metadata": {},
   "source": [
    "## /include/clang/AST/ASTContext.h"
   ]
  },
  {
   "cell_type": "markdown",
   "metadata": {},
   "source": [
    "Added the new CanQualType (see QualType) in order to handle the new fixed point type and the respective getter.\n",
    "```C++\n",
    "+   CanQualType SatSignedShortFractTy;\n",
    "+   CanQualType SatSignedFractTy;\n",
    "+   CanQualType SatSignedLongFractTy;\n",
    "+   CanQualType SatSignedLongLongFractTy;\n",
    "+   CanQualType SatSignedShortAccumTy;\n",
    "+   CanQualType SatSignedAccumTy;\n",
    "+   CanQualType SatSignedLongAccumTy;\n",
    "+   CanQualType SatSignedLongLongAccumTy;\n",
    "+   CanQualType Int96Ty, UnsignedInt96Ty;\n",
    "+ \n",
    "```"
   ]
  },
  {
   "cell_type": "markdown",
   "metadata": {},
   "source": [
    "```C++\n",
    "+   QualType getInt96Ty() const { return Int96Ty; }\n",
    "+   QualType getUnsignedInt96Ty() const { return UnsignedInt96Ty; }\n",
    "+   QualType getSatSignedShortFractTy() const { return SatSignedShortFractTy; }\n",
    "+   QualType getSatSignedFractTy() const { return SatSignedFractTy; }\n",
    "+   QualType getSatSignedLongFractTy() const { return SatSignedLongFractTy; }\n",
    "+   QualType getSatSignedLongLongFractTy() const { return SatSignedLongLongFractTy; }\n",
    "+   QualType getSatSignedShortAccumTy() const { return SatSignedShortAccumTy; }\n",
    "+   QualType getSatSignedAccumTy() const { return SatSignedAccumTy; }\n",
    "+   QualType getSatSignedLongAccumTy() const { return SatSignedLongAccumTy; }\n",
    "+   QualType getSatSignedLongLongAccumTy() const { return SatSignedLongLongAccumTy; }\n",
    "+ \n",
    "+   QualType getSignedFractType(unsigned SizeInBits);\n",
    "+   QualType getFixedPointType(const llvm::fltSemantics&) const;\n",
    "+   QualType getMaximalAccumType(QualType) const;\n",
    "+   QualType getAccumTypeForFractType(QualType) const;\n",
    "```"
   ]
  },
  {
   "cell_type": "markdown",
   "metadata": {},
   "source": [
    "As we can see here the getters return the CanQualType defined before as a QualType."
   ]
  },
  {
   "cell_type": "markdown",
   "metadata": {},
   "source": [
    "## /include/clang/AST/Expr.cpp"
   ]
  },
  {
   "cell_type": "markdown",
   "metadata": {},
   "source": [
    "Implementation of the function **commuteFixedPoint()**,\n",
    "Basically if the type of the operand involved in the expression is Fract or Accum, if we match one of the operation in the switch (only the commutative operations) then we are going to swap the SubExprs[0] and SubExprs[1] (SubExprs is an array of Stmt). This swap can be useful in order to simplify some cases when we have to deal with cast ecc.. because we know for sure that if a fixed point type is involved in the expression this will be for sure the left operand (maybe?). \n",
    "\n",
    "```C++\n",
    "+ void BinaryOperator::commuteFixedPoint() {\n",
    "+   if (getType()->isFractOrAccumType() && getLHS()->getType()->isIntegerType()) {\n",
    "+     switch (getOpcode()) {\n",
    "+     case BO_Mul:\n",
    "+     case BO_Add:\n",
    "+     case BO_EQ:\n",
    "+     case BO_NE:\n",
    "+     case BO_And:\n",
    "+     case BO_Xor:\n",
    "+     case BO_Or:\n",
    "+       std::swap(SubExprs[0], SubExprs[1]);\n",
    "+       break;\n",
    "+     default:\n",
    "+       break;\n",
    "+     }\n",
    "+   }\n",
    "+ }\n",
    "```"
   ]
  },
  {
   "cell_type": "markdown",
   "metadata": {},
   "source": [
    "In this class we update also the getter and setter of the semantics in order to include the new types.\n",
    "```C++\n",
    "// getSemantics()\n",
    "+   case SignedShortFract:\n",
    "+     return llvm::APFloat::SignedShortFract;\n",
    "+   case SignedFract:\n",
    "+     return llvm::APFloat::SignedFract;\n",
    "+   case SignedLongFract:\n",
    "+     return llvm::APFloat::SignedLongFract;\n",
    "+   case SignedLongLongFract:\n",
    "+     return llvm::APFloat::SignedLongLongFract;\n",
    "+   case SignedShortAccum:\n",
    "+     return llvm::APFloat::SignedShortAccum;\n",
    "+   case SignedAccum:\n",
    "+     return llvm::APFloat::SignedAccum;\n",
    "+   case SignedLongAccum:\n",
    "+     return llvm::APFloat::SignedLongAccum;\n",
    "+   case SignedLongLongAccum:\n",
    "+     return llvm::APFloat::SignedLongLongAccum;\n",
    "```"
   ]
  },
  {
   "cell_type": "markdown",
   "metadata": {},
   "source": [
    "```C++\n",
    "// setSemantics()\n",
    "+   else if (&Sem == &llvm::APFloat::SignedShortFract)\n",
    "+     FloatingLiteralBits.Semantics = SignedShortFract;\n",
    "+   else if (&Sem == &llvm::APFloat::SignedFract)\n",
    "+     FloatingLiteralBits.Semantics = SignedFract;\n",
    "+   else if (&Sem == &llvm::APFloat::SignedLongFract)\n",
    "+     FloatingLiteralBits.Semantics = SignedLongFract;\n",
    "+   else if (&Sem == &llvm::APFloat::SignedLongLongFract)\n",
    "+     FloatingLiteralBits.Semantics = SignedLongLongFract;\n",
    "+   else if (&Sem == &llvm::APFloat::SignedShortAccum)\n",
    "+     FloatingLiteralBits.Semantics = SignedShortAccum;\n",
    "+   else if (&Sem == &llvm::APFloat::SignedAccum)\n",
    "+     FloatingLiteralBits.Semantics = SignedAccum;\n",
    "+   else if (&Sem == &llvm::APFloat::SignedLongAccum)\n",
    "+     FloatingLiteralBits.Semantics = SignedLongAccum;\n",
    "+   else if (&Sem == &llvm::APFloat::SignedLongLongAccum)\n",
    "+     FloatingLiteralBits.Semantics = SignedLongLongAccum;\n",
    "```"
   ]
  },
  {
   "cell_type": "markdown",
   "metadata": {},
   "source": [
    "## /lib/Sema/SemaExpr.cpp"
   ]
  },
  {
   "cell_type": "markdown",
   "metadata": {},
   "source": [
    "This file implements semantic analysis for expressions. In particular this file implements all the conversions needed in order to perform the operations between fixed point and integer / float type.\n",
    "\n",
    "Added inside the function **handleFloatConversion()**\n",
    "\n",
    "Basically if one of the operands is a fixed point type and the other one is an integer type the function gets the Qualtype of the fixed poit operands and cast the integer type to it.\n",
    "```C++\n",
    "! //<Synopsys> FixedPoint\n",
    "!   if (LHSType->isFractOrAccumType() && RHSType->isIntegerType()) {\n",
    "!     QualType T = S.Context.getMaximalAccumType(LHSType);\n",
    "!     RHS = S.ImpCastExprToType(RHS.get(), T, CK_FloatingCast);\n",
    "!     RHSType = T;\n",
    "!   }\n",
    "!   else if (RHSType->isFractOrAccumType() && LHSType->isIntegerType()) {\n",
    "!     QualType T = S.Context.getMaximalAccumType(RHSType);\n",
    "!     LHS = S.ImpCastExprToType(LHS.get(), T, CK_FloatingCast);\n",
    "!     LHSType = T;\n",
    "!   }\n",
    "! //</Synopsys> FixedPoint\n",
    "! \n",
    "!   bool LHSFloat = LHSType->isRealOrFixed();\n",
    "!   bool RHSFloat = RHSType->isRealOrFixed();\n",
    "```"
   ]
  },
  {
   "cell_type": "markdown",
   "metadata": {},
   "source": [
    "Inside The function **UsualArithmeticConversion** is added the code in order to handle the Arithmetic conversions also for the new added type.\n",
    "\n",
    "The function 'UsualArithmeticConversion', according to the internal documentation, performs various conversions that are common to binary operators. If both operands aren't arithmetic, this routine returns the first non-arithmetic type found.\n",
    "```C++\n",
    "+ #if 0\n",
    "+   if (LHSType->isFractOrAccumType()) {\n",
    "+     if (RHSType->isIntegerType()) {\n",
    "+       RHS = UsualUnaryConversions(RHS.take());\n",
    "+       return LHSType;\n",
    "+     }\n",
    "+   } else if (RHSType->isFractOrAccumType()) {\n",
    "+     if (LHSType->isIntegerType()) {\n",
    "+       LHS = UsualUnaryConversions(LHS.take());\n",
    "+       return RHSType;\n",
    "+     }\n",
    "+   }\n",
    "+ #endif\n",
    "```"
   ]
  },
  {
   "cell_type": "markdown",
   "metadata": {},
   "source": [
    "The **division operation** isn't supported yet and it is avoided with this snippet of code added inside **CheckMultiplyDivideOperands**. Basically if one of the operand has a fixed point type the function return an error message. This is valid even for the vector of fixed point\n",
    "```C++\n",
    "+   if (IsDiv && (isFixedPointOrVectorFixedPoint(LHS.get()->getType()) || isFixedPointOrVectorFixedPoint(RHS.get()->getType()))) {\n",
    "+     Diag(Loc, diag::err_typecheck_invalid_operands) << LHS.get()->getType() << RHS.get()->getType();\n",
    "+     return QualType();\n",
    "+   }\n",
    "\n",
    "+   if (isVectorFixedPoint(LHS.get()->getType())) {\n",
    "+     const VectorType *LHSVecType = LHS.get()->getType()->getAs<VectorType>();\n",
    "+     if (!eqSizedIntVector(Context, RHS.get()->getType(), LHSVecType->getElementType(), LHSVecType->getNumElements())) {\n",
    "+       Diag(Loc, diag::err_typecheck_invalid_operands) << LHS.get()->getType() << RHS.get()->getType();\n",
    "+       return QualType();\n",
    "+     }\n",
    "+     return LHS.get()->getType();\n",
    "+   }\n",
    "```"
   ]
  },
  {
   "cell_type": "markdown",
   "metadata": {},
   "source": [
    "### Custom Functions used"
   ]
  },
  {
   "cell_type": "markdown",
   "metadata": {},
   "source": [
    "- **isRealOrFixed()**\n",
    "\n",
    "returns true if the the Type is real or fixed\n",
    "\n",
    "```C++\n",
    "+ bool Type::isRealOrFixed() const {\n",
    "+   return isRealFloatingType() || isFractOrAccumType();\n",
    "+ }\n",
    "```"
   ]
  },
  {
   "cell_type": "markdown",
   "metadata": {},
   "source": [
    "- **isFractOrAccumType()**\n",
    "\n",
    "Used in order to obtain a value for the node FixedPointLiteral during the building of the AST.\n",
    "\n",
    "```C++\n",
    "+ bool Type::isFractOrAccumType() const {\n",
    "+   if (const BuiltinType *BT = dyn_cast<BuiltinType>(CanonicalType))\n",
    "+     return BT->getKind() >= BuiltinType::SatSignedShortFract &&\n",
    "+       BT->getKind() <= BuiltinType::SatSignedLongLongAccum;\n",
    "+   return false;\n",
    "+ }\n",
    "```"
   ]
  },
  {
   "cell_type": "markdown",
   "metadata": {},
   "source": [
    "- **NumericLiteralParser::GetFixedPointValue(llvm::APFloat &Result)**\n",
    "\n",
    "\n",
    "It checks if the type identifier is included in the bounds reserved to the fixed poind types (specified in the class \"BuiltinType\")\n",
    "\n",
    "```C++\n",
    "+ llvm::APFloat::opStatus\n",
    "+ NumericLiteralParser::GetFixedPointValue(llvm::APFloat &Result) {\n",
    "+   using llvm::APFloat;\n",
    "+ \n",
    "+   unsigned n = std::min(SuffixBegin - ThisTokBegin, ThisTokEnd - ThisTokBegin);\n",
    "+ \n",
    "+   llvm::SmallString<16> Buffer;\n",
    "+   StringRef Str(ThisTokBegin, n);\n",
    "+   if (Str.find('\\'') != StringRef::npos\n",
    "+           || Str.find('_') != StringRef::npos  // <- SYNOPSYS\n",
    "+           ) {\n",
    "+     Buffer.reserve(n);\n",
    "+     std::remove_copy_if(Str.begin(), Str.end(), std::back_inserter(Buffer),\n",
    "+                         &isDigitSeparator);\n",
    "+     Str = Buffer;\n",
    "+   }\n",
    "+ \n",
    "+   return Result.convertFromString(Str, APFloat::rmNearestTiesToEven);\n",
    "+ }\n",
    "```"
   ]
  },
  {
   "cell_type": "markdown",
   "metadata": {},
   "source": [
    "- **getMaximalAccumType(QualType QT)**\n",
    "\n",
    "return the proper QualType that can store the result\n",
    "\n",
    "```C++\n",
    "+ QualType ASTContext::getMaximalAccumType(QualType QT) const {\n",
    "+   assert(QT->isFractOrAccumType());\n",
    "+   assert(QT->isSaturated());\t\t// Don't currently support unsaturated fixed point\n",
    "+   assert(QT->isSignedFixedPoint());\t// Don't currently support unsigned fixed point\n",
    "+   if (const Type* Ty = QT->getUnqualifiedDesugaredType()) {\n",
    "+     if (const BuiltinType *BT = Ty->getAs<BuiltinType>()) {\n",
    "+       switch (BT->getKind()) {\n",
    "+       case BuiltinType::SatSignedShortFract:\n",
    "+       case BuiltinType::SatSignedShortAccum:\treturn SatSignedShortAccumTy;\n",
    "+       case BuiltinType::SatSignedFract:\n",
    "+       case BuiltinType::SatSignedAccum:\t\treturn SatSignedAccumTy;\n",
    "+       case BuiltinType::SatSignedLongFract:\n",
    "+       case BuiltinType::SatSignedLongAccum:\treturn SatSignedLongAccumTy;\n",
    "+       case BuiltinType::SatSignedLongLongFract:\n",
    "+       case BuiltinType::SatSignedLongLongAccum:\treturn SatSignedLongLongAccumTy;\n",
    "+       default: break;\n",
    "+       }\n",
    "+     }\n",
    "+   }\n",
    "+   return SatSignedLongLongAccumTy;\n",
    "+ }\n",
    "```"
   ]
  },
  {
   "cell_type": "markdown",
   "metadata": {},
   "source": [
    "- **BuildFixedPointLiteral(Sema &S, NumericLiteralParser &Literal,QualType Ty, SourceLocation Loc)**\n",
    "\n",
    "This snippet is used in order to add the FixedPointLiteral node as leaves of the AST. ( this is the exactly same thing as , for example, the IntegerLiteralNode, see schema ) \n",
    "\n",
    "\n",
    "```C++\n",
    "\n",
    "+ static Expr *BuildFixedPointLiteral(Sema &S, NumericLiteralParser &Literal,\n",
    "+ \t\t\t\t    QualType Ty, SourceLocation Loc) {\n",
    "+ \n",
    "+   using llvm::APFloat;\n",
    "+ \n",
    "+   llvm::FixedPointFormat Format(Ty->isSignedFixedPoint(), Ty->getFixedPointGuardBits(), Ty->getFixedPointWidth());\n",
    "+   const llvm::fltSemantics &Sem = S.Context.getFloatTypeSemantics(Ty);\n",
    "+   APFloat Val(Sem);\n",
    "+ \n",
    "+   APFloat::opStatus result = Literal.GetFixedPointValue(Val);\n",
    "+ \n",
    "+   // Overflow is always an error, but underflow is only an error if\n",
    "+   // we underflowed to zero (APFloat reports denormals as underflow).\n",
    "+   if ((result & APFloat::opOverflow) ||\n",
    "+       ((result & APFloat::opUnderflow) && Val.isZero())) {\n",
    "+     unsigned diagnostic;\n",
    "+     SmallString<20> buffer;\n",
    "+     if (result & APFloat::opOverflow) {\n",
    "+       diagnostic = diag::warn_float_overflow;\n",
    "+       llvm::APFloat::getFixedPointMax(Format).toString(buffer);\n",
    "+     } else {\n",
    "+       diagnostic = diag::warn_float_underflow;\n",
    "+       llvm::APFloat::getFixedPointMin(Format).toString(buffer);\n",
    "+     }\n",
    "+ \n",
    "+     S.Diag(Loc, diagnostic)\n",
    "+       << Ty\n",
    "+       << StringRef(buffer.data(), buffer.size());\n",
    "+   }\n",
    "+ \n",
    "+   bool isExact = (result == APFloat::opOK);\n",
    "+   return FloatingLiteral::Create(S.Context, Val, isExact, Ty, Loc);\n",
    "+ }\n",
    "```"
   ]
  },
  {
   "cell_type": "markdown",
   "metadata": {},
   "source": [
    "- **isFixedPointOrVectorFixedPoint(QualType Ty)**\n",
    "\n",
    "Checks if the Type is a Fixed one. If the element is a vector, get its type and call this function recursively on the retrieved type.\n",
    "\n",
    "```C++\n",
    "+ static bool isFixedPointOrVectorFixedPoint(QualType Ty) {\n",
    "+   if (Ty->isFractOrAccumType()) return true;\n",
    "+   if (Ty->isVectorType())\n",
    "+     return isFixedPointOrVectorFixedPoint(Ty->getAs<VectorType>()->getElementType());\n",
    "+   return false;\n",
    "+ }\n",
    "```"
   ]
  },
  {
   "cell_type": "markdown",
   "metadata": {},
   "source": [
    "- ** isVectorFixedPoint(QualType Ty)**\n",
    "\n",
    "The same as the function above, but it checks only if its a vector and not only a fixed point value\n",
    "\n",
    "```C++\n",
    "+ static bool isVectorFixedPoint(QualType Ty) {\n",
    "+   if (Ty->isVectorType())\n",
    "+     return isFixedPointOrVectorFixedPoint(Ty->getAs<VectorType>()->getElementType());\n",
    "+   return false;\n",
    "+ }\n",
    "```"
   ]
  },
  {
   "cell_type": "markdown",
   "metadata": {},
   "source": [
    "## /lib/Sema/SemaOverload.cpp"
   ]
  },
  {
   "cell_type": "markdown",
   "metadata": {},
   "source": [
    "Added the handling of tags in order to deal with the cast to and from fixed point type. \n",
    "\n",
    "For example :\n",
    "\n",
    "```C++\n",
    "case ICK_Floating_Integral:\n",
    "   FloatingIntegralConversion:\n",
    "!  if (FromType->isRealFloatingType() && ToType->isIntegralType(Ctx)) {\n",
    "    return NK_Type_Narrowing;\n",
    "```"
   ]
  },
  {
   "cell_type": "markdown",
   "metadata": {},
   "source": [
    "The fixed point type is identified by isRealFloatingType() function."
   ]
  },
  {
   "cell_type": "markdown",
   "metadata": {},
   "source": [
    "## /lib/Sema/SemaType.cpp"
   ]
  },
  {
   "cell_type": "markdown",
   "metadata": {},
   "source": [
    "The function **ConvertDeclSpecToType** returns a QualType given a declaration specifier. It has been added this code in order to handling all the cases for the new added types included the error messages (like 'unsigned fixed point is not supported')\n",
    "```C++\n",
    "+   case DeclSpec::TST_fract:\n",
    "+     if (!Context.getTargetInfo().hasFixedPoint()) {\n",
    "+       S.Diag(DS.getTypeSpecTypeLoc(), diag::err_fixed_point_unsupported);\n",
    "+       Result = Context.IntTy;\n",
    "+       declarator.setInvalidType(true);\n",
    "+       break;\n",
    "+     }\n",
    "+     if (DS.getTypeSpecSign() == DeclSpec::TSS_unsigned) {\n",
    "+       S.Diag(DS.getTypeSpecTypeLoc(), diag::err_unsigned_fixed_point_unsupported);\n",
    "+       Result = Context.IntTy;\n",
    "+       declarator.setInvalidType(true);\n",
    "+       break;\n",
    "+     }\n",
    "+     if (!DS.isSaturated()) {\n",
    "+       S.Diag(DS.getTypeSpecTypeLoc(), diag::err_unsat_fixed_point_unsupported);\n",
    "+       Result = Context.IntTy;\n",
    "+       declarator.setInvalidType(true);\n",
    "+       break;\n",
    "+     }\n",
    "+     switch (DS.getTypeSpecWidth()) {\n",
    "+     case DeclSpec::TSW_unspecified:\n",
    "+       Result = Context.SatSignedFractTy;\n",
    "+       break;\n",
    "+     case DeclSpec::TSW_short:\n",
    "+       Result = Context.SatSignedShortFractTy;\n",
    "+       break;\n",
    "+     case DeclSpec::TSW_long:\n",
    "+       Result = Context.SatSignedLongFractTy;\n",
    "+       break;\n",
    "+     case DeclSpec::TSW_longlong:\n",
    "+       Result = Context.SatSignedLongLongFractTy;\n",
    "+       break;\n",
    "+     }\n",
    "+     break;\n",
    "+   case DeclSpec::TST_accum:\n",
    "+     if (!Context.getTargetInfo().hasFixedPoint()) {\n",
    "+       S.Diag(DS.getTypeSpecTypeLoc(), diag::err_fixed_point_unsupported);\n",
    "+       Result = Context.IntTy;\n",
    "+       declarator.setInvalidType(true);\n",
    "+       break;\n",
    "+     }\n",
    "+     if (DS.getTypeSpecSign() == DeclSpec::TSS_unsigned) {\n",
    "+       S.Diag(DS.getTypeSpecTypeLoc(), diag::err_unsigned_fixed_point_unsupported);\n",
    "+       Result = Context.IntTy;\n",
    "+       declarator.setInvalidType(true);\n",
    "+       break;\n",
    "+     }\n",
    "+     if (!DS.isSaturated()) {\n",
    "+       S.Diag(DS.getTypeSpecTypeLoc(), diag::err_unsat_fixed_point_unsupported);\n",
    "+       Result = Context.IntTy;\n",
    "+       declarator.setInvalidType(true);\n",
    "+       break;\n",
    "+     }\n",
    "+     switch (DS.getTypeSpecWidth()) {\n",
    "+     case DeclSpec::TSW_unspecified:\n",
    "+       Result = Context.SatSignedAccumTy;\n",
    "+       break;\n",
    "+     case DeclSpec::TSW_short:\n",
    "+       Result = Context.SatSignedShortAccumTy;\n",
    "+       break;\n",
    "+     case DeclSpec::TSW_long:\n",
    "+       Result = Context.SatSignedLongAccumTy;\n",
    "+       break;\n",
    "+     case DeclSpec::TSW_longlong:\n",
    "+       Result = Context.SatSignedLongLongAccumTy;\n",
    "+       break;\n",
    "+     }\n",
    "+     break;\n",
    "+   case DeclSpec::TST_int96: // __int96 is used just to represent a 72-bit accumulator as an integer object\n",
    "+     if (!Context.getTargetInfo().hasInt96Type())\n",
    "+       S.Diag(DS.getTypeSpecTypeLoc(), diag::err_int96_unsupported);\n",
    "+     if (DS.getTypeSpecSign() == DeclSpec::TSS_unsigned)\n",
    "+       Result = Context.UnsignedInt96Ty;\n",
    "+     else\n",
    "+       Result = Context.Int96Ty;\n",
    "+     break;\n",
    "```"
   ]
  },
  {
   "cell_type": "markdown",
   "metadata": {},
   "source": [
    "## /lib/Serialization/ASTCommon.cpp - ASTReader.cpp"
   ]
  },
  {
   "cell_type": "markdown",
   "metadata": {},
   "source": [
    "ASTCommon.cpp file defines common functions that both ASTReader and ASTWriter use, while ASTReader.cpp reads AST files.\n",
    "In these file this code in order to retrieve the proper ID for the new types has been added.\n",
    "\n",
    "- **ASTCommon.cpp**\n",
    "\n",
    "```C++\n",
    "+   case BuiltinType::UInt96:\t\t\tID = PREDEF_TYPE_UInt96_ID;\t\t\tbreak;\n",
    "+   case BuiltinType::Int96:\t\t\tID = PREDEF_TYPE_Int96_ID;\t\t\tbreak;\n",
    "+   case BuiltinType::SatSignedShortFract:\tID = PREDEF_TYPE_SatSignedShortFract_ID;\tbreak;\n",
    "+   case BuiltinType::SatSignedFract:\t\tID = PREDEF_TYPE_SatSignedFract_ID;\t\tbreak;\n",
    "+   case BuiltinType::SatSignedLongFract:\t\tID = PREDEF_TYPE_SatSignedLongFract_ID;\t\tbreak;\n",
    "+   case BuiltinType::SatSignedLongLongFract:\tID = PREDEF_TYPE_SatSignedLongLongFract_ID;\tbreak;\n",
    "+   case BuiltinType::SatSignedShortAccum:\tID = PREDEF_TYPE_SatSignedShortAccum_ID;\tbreak;\n",
    "+   case BuiltinType::SatSignedAccum:\t\tID = PREDEF_TYPE_SatSignedAccum_ID;\t\tbreak;\n",
    "+   case BuiltinType::SatSignedLongAccum:\t\tID = PREDEF_TYPE_SatSignedLongAccum_ID;\t\tbreak;\n",
    "+   case BuiltinType::SatSignedLongLongAccum:\tID = PREDEF_TYPE_SatSignedLongLongAccum_ID;\tbreak;\n",
    "```"
   ]
  },
  {
   "cell_type": "markdown",
   "metadata": {},
   "source": [
    "- **ASTReader.cpp**\n",
    "\n",
    "```C++\n",
    "+   case PREDEF_TYPE_UInt96_ID:\t\t\tT = Context.getUnsignedInt96Ty(); break;\n",
    "+   case PREDEF_TYPE_Int96_ID:\t\t\tT = Context.getInt96Ty(); break;\n",
    "+   case PREDEF_TYPE_SatSignedShortFract_ID:\tT = Context.getSatSignedShortFractTy(); break;\n",
    "+   case PREDEF_TYPE_SatSignedFract_ID:\t\tT = Context.getSatSignedFractTy(); break;\n",
    "+   case PREDEF_TYPE_SatSignedLongFract_ID:\tT = Context.getSatSignedLongFractTy(); break;\n",
    "+   case PREDEF_TYPE_SatSignedLongLongFract_ID:\tT = Context.getSatSignedLongLongFractTy(); break;\n",
    "+   case PREDEF_TYPE_SatSignedShortAccum_ID:\tT = Context.getSatSignedShortAccumTy(); break;\n",
    "+   case PREDEF_TYPE_SatSignedAccum_ID:\t\tT = Context.getSatSignedAccumTy(); break;\n",
    "+   case PREDEF_TYPE_SatSignedLongAccum_ID:\tT = Context.getSatSignedLongAccumTy(); break;\n",
    "+   case PREDEF_TYPE_SatSignedLongLongAccum_ID:\tT = Context.getSatSignedLongLongAccumTy(); break;\n",
    "```"
   ]
  },
  {
   "cell_type": "markdown",
   "metadata": {},
   "source": [
    "# Questions"
   ]
  },
  {
   "cell_type": "markdown",
   "metadata": {},
   "source": [
    "- In the file Expr.cpp what does it mean \" Allow an intrinsic function call to be used for a fixed point static initializer\"? what is the point of this code?\n",
    "\n",
    "```C++\n",
    "+   case CallExprClass:{\n",
    "+     const CallExpr* call = cast<CallExpr>(this);\n",
    "+     if (unsigned id = call->getBuiltinCallee()) {\n",
    "+       if (call->getNumArgs() == 1) {\n",
    "+ \tswitch (id) {\n",
    "+ \tcase clang::ARC::BI__int_to_q7:\n",
    "+ \tcase clang::ARC::BI__int_to_q15:\n",
    "+ \tcase clang::ARC::BI__int_to_q31:\n",
    "+ \tcase clang::ARC::BI__int_to_a24:\n",
    "+ \tcase clang::ARC::BI__int_to_a40:\n",
    "+ \tcase clang::ARC::BI__int_to_a72:\n",
    "+ \tcase clang::ARC::BI__q7_to_int:\n",
    "+ \tcase clang::ARC::BI__q15_to_int:\n",
    "+ \tcase clang::ARC::BI__q31_to_int:\n",
    "+ \tcase clang::ARC::BI__a24_to_int:\n",
    "+ \tcase clang::ARC::BI__a40_to_int:\n",
    "+ \tcase clang::ARC::BI__a72_to_int:\n",
    "+ \t  return call->getArg(0)->isConstantInitializer(Ctx, false, Culprit);\n",
    "+ \tdefault: break;\n",
    "+ \t}\n",
    "+       }\n",
    "+     }\n",
    "+   } break;\n",
    "```\n"
   ]
  }
 ],
 "metadata": {
  "kernelspec": {
   "display_name": "Python 3",
   "language": "python",
   "name": "python3"
  },
  "language_info": {
   "codemirror_mode": {
    "name": "ipython",
    "version": 3
   },
   "file_extension": ".py",
   "mimetype": "text/x-python",
   "name": "python",
   "nbconvert_exporter": "python",
   "pygments_lexer": "ipython3",
   "version": "3.5.1"
  },
  "latex_envs": {
   "bibliofile": "biblio.bib",
   "cite_by": "apalike",
   "current_citInitial": 1,
   "eqLabelWithNumbers": true,
   "eqNumInitial": 0
  }
 },
 "nbformat": 4,
 "nbformat_minor": 0
}
