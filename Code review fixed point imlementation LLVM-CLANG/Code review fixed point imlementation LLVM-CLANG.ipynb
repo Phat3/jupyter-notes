{
 "cells": [
  {
   "cell_type": "markdown",
   "metadata": {},
   "source": [
    "<h1 style=\"text-align : center\"> FIXED POINT PATCH CODE REVIEW </h1>"
   ]
  },
  {
   "cell_type": "markdown",
   "metadata": {},
   "source": [
    "# Table of Contents\n",
    "* [Introduction](#Introduction)\n",
    "* [Gossary](#Gossary)\n",
    "* [Review](#Review)\n",
    "\t* [/include/clang/Basic/TokenKinds.def](#/include/clang/Basic/TokenKinds.def)\n",
    "\t* [/include/clang/Sema/DeclSpec.h](#/include/clang/Sema/DeclSpec.h)\n",
    "\t* [/lib/Parse/ParseDecl.cpp](#/lib/Parse/ParseDecl.cpp)\n",
    "\t* [/lib/Sema/SemaType.cpp](#/lib/Sema/SemaType.cpp)\n",
    "\t* [/include/clang/AST/ASTContext.h](#/include/clang/AST/ASTContext.h)\n",
    "\t* [/include/clang/AST/Expr.cpp](#/include/clang/AST/Expr.cpp)\n",
    "\t* [/lib/Sema/SemaExpr.cpp](#/lib/Sema/SemaExpr.cpp)\n"
   ]
  },
  {
   "cell_type": "markdown",
   "metadata": {},
   "source": [
    "# Introduction"
   ]
  },
  {
   "cell_type": "markdown",
   "metadata": {},
   "source": [
    "1. This patch includes the diffs for the lexer, parser, sema, and conversion to bitcode (clang/lib/CodeGen).\n",
    "2. The diffs are against the **LLVM 3.7**.\n",
    "3. The patch **doesn’t support unsigned nor unsaturated _Fract or _Accum types**"
   ]
  },
  {
   "cell_type": "markdown",
   "metadata": {},
   "source": [
    "# Gossary"
   ]
  },
  {
   "cell_type": "markdown",
   "metadata": {},
   "source": [
    "- [**Type**](http://clang.llvm.org/doxygen/classclang_1_1Type.html) : The base class of the type hierarchy.\n",
    "- [**QualType**](http://clang.llvm.org/doxygen/classclang_1_1QualType.html) : Wrapper class that has two pointers as attributes: one points to the Type and the other points to the Qualifier (Both of these classes are defined in Type.h). This greatly reduces the number of nodes we need to allocate for types. For the sake of semplicity we will consider QualType equals to CanQualType"
   ]
  },
  {
   "cell_type": "markdown",
   "metadata": {},
   "source": [
    "<img  src=\"FQWHQFGMBF9OHV9MVBMGARA9R4UYDU95.png\"/>"
   ]
  },
  {
   "cell_type": "markdown",
   "metadata": {},
   "source": [
    "- [**TST**](http://clang.llvm.org/doxygen/namespaceclang.html#a033691a5f00979c1a22d8aa114d07e13) : The Type Specifier Type (TST) is used to just specifies the type using an enum.\n",
    "- [**DeclSpec**](http://clang.llvm.org/doxygen/classclang_1_1DeclSpec.html) : A Declaration Specifier encompasses storage-class-specifiers, type-specifiers, type-qualifiers, and function-specifiers. It basically describes the content of a declaration.\n",
    "- [**Sema**](http://clang.llvm.org/doxygen/classclang_1_1Sema.html): Implements the semantic analysis and AST building for C."
   ]
  },
  {
   "cell_type": "markdown",
   "metadata": {},
   "source": [
    "# Review"
   ]
  },
  {
   "cell_type": "markdown",
   "metadata": {},
   "source": [
    "## /include/clang/Basic/TokenKinds.def"
   ]
  },
  {
   "cell_type": "markdown",
   "metadata": {},
   "source": [
    "In this file we added the definition of the token that the lexer will find inside the source code:\n",
    "```C++\n",
    "KEYWORD(__int96    , KEYALL)\n",
    "KEYWORD(_Sat         , KEYALL)   // As specified by the ISO/IEC TR 18037\n",
    "KEYWORD(_Fract      , KEYALL)   // As specified by the ISO/IEC TR 18037\n",
    "KEYWORD(_Accum   , KEYALL)   // As specified by the ISO/IEC TR 18037\n",
    "```"
   ]
  },
  {
   "cell_type": "markdown",
   "metadata": {},
   "source": [
    "## /include/clang/Sema/DeclSpec.h"
   ]
  },
  {
   "cell_type": "markdown",
   "metadata": {},
   "source": [
    "Added the new Type Specifier Type for the new type. \n",
    "```C++\n",
    "static const TST TST_fract = clang::TST_fract;\n",
    "static const TST TST_accum = clang::TST_accum;\n",
    "static const TST TST_int96 = clang::TST_int96;\n",
    "```"
   ]
  },
  {
   "cell_type": "markdown",
   "metadata": {},
   "source": [
    "Addded the function **setSaturated** in order to memorize this information while parsing the declaration\n",
    "The function setSaturated is used inside **Parser::ParseDeclarationSpecifiers** when meet a kw__Sat.\n",
    "\n",
    "Saturated is a global variable inside this file that indicates if a declaration is a Sat or not\n",
    "```C++\n",
    "void setSaturated(SourceLocation l) { Saturated = true; SaturatedLoc = l; }\n",
    "bool isSaturated() const { return Saturated; }\n",
    "```"
   ]
  },
  {
   "cell_type": "markdown",
   "metadata": {},
   "source": [
    "## /lib/Parse/ParseDecl.cpp"
   ]
  },
  {
   "cell_type": "markdown",
   "metadata": {},
   "source": [
    "in the function **Parser::ParseDeclarationSpecifiers**  ( row 2618 ) added the cases in order to handle the new type. For example in the case of the kw__Sat we are going to mark as Saturated the DS, using the function previously defined setSaturated().\n",
    "```C++\n",
    "ParseGNUAttributes(DS.getAttributes(), nullptr, LateAttrs);\n",
    "continue;\n",
    "  \n",
    "+ //<Synopsys> FixedPoint\n",
    "+     case tok::kw__Sat:\n",
    "+       if (DS.isSaturated()) Diag(Tok, diag::err_sat_specified);\n",
    "+       DS.setSaturated(Tok.getLocation());\n",
    "+       break;\n",
    "+     case tok::kw__Fract:\n",
    "+       isInvalid = DS.SetTypeSpecType(DeclSpec::TST_fract, Loc, PrevSpec,\n",
    "+                                                  DiagID, Policy);\n",
    "+       break;\n",
    "+     case tok::kw__Accum:\n",
    "+       isInvalid = DS.SetTypeSpecType(DeclSpec::TST_accum, Loc, PrevSpec,\n",
    "+                                                              DiagID, Policy);\n",
    "+       break;\n",
    "+     case tok::kw___int96:\n",
    "+       isInvalid = DS.SetTypeSpecType(DeclSpec::TST_int96, Loc, PrevSpec,\n",
    "+                                                                DiagID, Policy);\n",
    "+       break;\n",
    "+ //</Synopsys> FixedPoint\n",
    "+ \n",
    "// Microsoft declspec support.\n",
    "case tok::kw___declspec:\n",
    "ParseMicrosoftDeclSpecs(DS.getAttributes());\n",
    "```"
   ]
  },
  {
   "cell_type": "markdown",
   "metadata": {},
   "source": [
    "Added in the function **Parser::isKnownToBeTypeSpecifier** the cases in order to understand if we have a known type specifier.\n",
    "```C++\n",
    "    case tok::kw__Decimal64:\n",
    "    case tok::kw__Decimal128:\n",
    "    case tok::kw___vector:\n",
    "+ //<Synopsys> FixedPoint\n",
    "+   case tok::kw__Sat:\n",
    "+   case tok::kw__Fract:\n",
    "+   case tok::kw__Accum:\n",
    "+   case tok::kw___int96:\n",
    "+ //</Synopsys> FixedPoint\n",
    "```"
   ]
  },
  {
   "cell_type": "markdown",
   "metadata": {},
   "source": [
    "## /lib/Sema/SemaType.cpp"
   ]
  },
  {
   "cell_type": "markdown",
   "metadata": {},
   "source": [
    "Here too, added the cases for handling the new TST and fill correctly the Declaration Specifier ( DS )."
   ]
  },
  {
   "cell_type": "markdown",
   "metadata": {},
   "source": [
    "## /include/clang/AST/ASTContext.h"
   ]
  },
  {
   "cell_type": "markdown",
   "metadata": {},
   "source": [
    "added the new CanQualType (see QualType) in order to handle the new fixed point type and the respective getter.\n",
    "```C++\n",
    "+ //<Synopsys> FixedPoint\n",
    "+   CanQualType SatSignedShortFractTy;\n",
    "+   CanQualType SatSignedFractTy;\n",
    "+   CanQualType SatSignedLongFractTy;\n",
    "+   CanQualType SatSignedLongLongFractTy;\n",
    "+   CanQualType SatSignedShortAccumTy;\n",
    "+   CanQualType SatSignedAccumTy;\n",
    "+   CanQualType SatSignedLongAccumTy;\n",
    "+   CanQualType SatSignedLongLongAccumTy;\n",
    "+   CanQualType Int96Ty, UnsignedInt96Ty;\n",
    "+ //</Synopsys> FixedPoint\n",
    "+ \n",
    "```\n",
    "```C++\n",
    "+   QualType getInt96Ty() const { return Int96Ty; }\n",
    "+   QualType getUnsignedInt96Ty() const { return UnsignedInt96Ty; }\n",
    "+   QualType getSatSignedShortFractTy() const { return SatSignedShortFractTy; }\n",
    "+   QualType getSatSignedFractTy() const { return SatSignedFractTy; }\n",
    "+   QualType getSatSignedLongFractTy() const { return SatSignedLongFractTy; }\n",
    "+   QualType getSatSignedLongLongFractTy() const { return SatSignedLongLongFractTy; }\n",
    "+   QualType getSatSignedShortAccumTy() const { return SatSignedShortAccumTy; }\n",
    "+   QualType getSatSignedAccumTy() const { return SatSignedAccumTy; }\n",
    "+   QualType getSatSignedLongAccumTy() const { return SatSignedLongAccumTy; }\n",
    "+   QualType getSatSignedLongLongAccumTy() const { return SatSignedLongLongAccumTy; }\n",
    "+ \n",
    "+   QualType getSignedFractType(unsigned SizeInBits);\n",
    "+   QualType getFixedPointType(const llvm::fltSemantics&) const;\n",
    "+   QualType getMaximalAccumType(QualType) const;\n",
    "+   QualType getAccumTypeForFractType(QualType) const;\n",
    "```\n",
    "As we can see here the getters return the CanQualType defined before as a QualType."
   ]
  },
  {
   "cell_type": "markdown",
   "metadata": {},
   "source": [
    "## /include/clang/AST/Expr.cpp"
   ]
  },
  {
   "cell_type": "markdown",
   "metadata": {},
   "source": [
    "Implementation of the function **commuteFixedPoint()**,\n",
    "Basically if the type of the operand involved in the expression is Fract or Accum, if we match one of the operation in the switch (only the commutative operations) then we are going to swap the SubExprs[0] and SubExprs[1] (SubExprs is an array of Stmt). This swap can be useful in order to simplify some cases when we have to deal with cast ecc.. because we know for sure that if a fixed point type is involved in the expression this will be for sure the left operand (maybe?). \n",
    "\n",
    "```C++\n",
    "+ void BinaryOperator::commuteFixedPoint() {\n",
    "+   if (getType()->isFractOrAccumType() && getLHS()->getType()->isIntegerType()) {\n",
    "+     switch (getOpcode()) {\n",
    "+     case BO_Mul:\n",
    "+     case BO_Add:\n",
    "+     case BO_EQ:\n",
    "+     case BO_NE:\n",
    "+     case BO_And:\n",
    "+     case BO_Xor:\n",
    "+     case BO_Or:\n",
    "+       std::swap(SubExprs[0], SubExprs[1]);\n",
    "+       break;\n",
    "+     default:\n",
    "+       break;\n",
    "+     }\n",
    "+   }\n",
    "+ }\n",
    "```\n",
    "In this class we update also the getter and setter of the semantics in order to include the new types.\n",
    "```C++\n",
    "// getSemantics()\n",
    "+   case SignedShortFract:\n",
    "+     return llvm::APFloat::SignedShortFract;\n",
    "+   case SignedFract:\n",
    "+     return llvm::APFloat::SignedFract;\n",
    "+   case SignedLongFract:\n",
    "+     return llvm::APFloat::SignedLongFract;\n",
    "+   case SignedLongLongFract:\n",
    "+     return llvm::APFloat::SignedLongLongFract;\n",
    "+   case SignedShortAccum:\n",
    "+     return llvm::APFloat::SignedShortAccum;\n",
    "+   case SignedAccum:\n",
    "+     return llvm::APFloat::SignedAccum;\n",
    "+   case SignedLongAccum:\n",
    "+     return llvm::APFloat::SignedLongAccum;\n",
    "+   case SignedLongLongAccum:\n",
    "+     return llvm::APFloat::SignedLongLongAccum;\n",
    "```\n",
    "```C++\n",
    "// setSemantics()\n",
    "+   else if (&Sem == &llvm::APFloat::SignedShortFract)\n",
    "+     FloatingLiteralBits.Semantics = SignedShortFract;\n",
    "+   else if (&Sem == &llvm::APFloat::SignedFract)\n",
    "+     FloatingLiteralBits.Semantics = SignedFract;\n",
    "+   else if (&Sem == &llvm::APFloat::SignedLongFract)\n",
    "+     FloatingLiteralBits.Semantics = SignedLongFract;\n",
    "+   else if (&Sem == &llvm::APFloat::SignedLongLongFract)\n",
    "+     FloatingLiteralBits.Semantics = SignedLongLongFract;\n",
    "+   else if (&Sem == &llvm::APFloat::SignedShortAccum)\n",
    "+     FloatingLiteralBits.Semantics = SignedShortAccum;\n",
    "+   else if (&Sem == &llvm::APFloat::SignedAccum)\n",
    "+     FloatingLiteralBits.Semantics = SignedAccum;\n",
    "+   else if (&Sem == &llvm::APFloat::SignedLongAccum)\n",
    "+     FloatingLiteralBits.Semantics = SignedLongAccum;\n",
    "+   else if (&Sem == &llvm::APFloat::SignedLongLongAccum)\n",
    "+     FloatingLiteralBits.Semantics = SignedLongLongAccum;\n",
    "```"
   ]
  },
  {
   "cell_type": "markdown",
   "metadata": {},
   "source": [
    "## /lib/Sema/SemaExpr.cpp"
   ]
  },
  {
   "cell_type": "markdown",
   "metadata": {},
   "source": [
    "This file implements semantic analysis for expressions.\n",
    "\n",
    "\n",
    "\n",
    "Added inside the function **handleFloatConversion()**\n",
    "\n",
    "Basically it checks the type of the two operands and insert inside the builded expression's tree, the operation in order to perform the case to the more precise type.\n",
    "\n",
    "```C++\n",
    "! //<Synopsys> FixedPoint\n",
    "!   if (LHSType->isFractOrAccumType() && RHSType->isIntegerType()) {\n",
    "!     QualType T = S.Context.getMaximalAccumType(LHSType);\n",
    "!     RHS = S.ImpCastExprToType(RHS.get(), T, CK_FloatingCast);\n",
    "!     RHSType = T;\n",
    "!   }\n",
    "!   else if (RHSType->isFractOrAccumType() && LHSType->isIntegerType()) {\n",
    "!     QualType T = S.Context.getMaximalAccumType(RHSType);\n",
    "!     LHS = S.ImpCastExprToType(LHS.get(), T, CK_FloatingCast);\n",
    "!     LHSType = T;\n",
    "!   }\n",
    "! //</Synopsys> FixedPoint\n",
    "! \n",
    "!   bool LHSFloat = LHSType->isRealOrFixed();\n",
    "!   bool RHSFloat = RHSType->isRealOrFixed();\n",
    "  \n",
    "    // If we have two real floating types, convert the smaller operand\n",
    "    // to the bigger result.\n",
    "    if (LHSFloat && RHSFloat) {\n",
    "      int order = S.Context.getFloatingTypeOrder(LHSType, RHSType);\n",
    "+     if (order == 0) // Seen when error nodes in tree  -- SYNOPSYS\n",
    "+       return LHSType;\n",
    "      if (order > 0) {\n",
    "        RHS = S.ImpCastExprToType(RHS.get(), LHSType, CK_FloatingCast);\n",
    "        return LHSType;\n",
    "```"
   ]
  },
  {
   "cell_type": "markdown",
   "metadata": {},
   "source": [
    "HandleFloatConversion basically introduces the Expression in order to perform the casts\n",
    "```C++\n",
    "+ bool Type::isRealOrFixed() const {\n",
    "+   return isRealFloatingType() || isFractOrAccumType();\n",
    "+ }\n",
    "```"
   ]
  },
  {
   "cell_type": "markdown",
   "metadata": {},
   "source": [
    "- **/lib/AST/Type.cpp**\n",
    "    - **isFractOrAccumType()** : It checks if the type identifier is included in the bounds reserved to the fixed poind types (specified in the class \"BuiltinType\")\n",
    "    - **getMaximalAccumType(QualType qt)** :"
   ]
  },
  {
   "cell_type": "markdown",
   "metadata": {},
   "source": [
    "# Questions\n",
    "- In the file Expr.cpp what does it mean \" Allow an intrinsic function call to be used for a fixed point static initializer\"? what is the point of this code?\n",
    "\n",
    "```C++\n",
    "+   case CallExprClass:{\n",
    "+     const CallExpr* call = cast<CallExpr>(this);\n",
    "+     if (unsigned id = call->getBuiltinCallee()) {\n",
    "+       if (call->getNumArgs() == 1) {\n",
    "+ \tswitch (id) {\n",
    "+ \tcase clang::ARC::BI__int_to_q7:\n",
    "+ \tcase clang::ARC::BI__int_to_q15:\n",
    "+ \tcase clang::ARC::BI__int_to_q31:\n",
    "+ \tcase clang::ARC::BI__int_to_a24:\n",
    "+ \tcase clang::ARC::BI__int_to_a40:\n",
    "+ \tcase clang::ARC::BI__int_to_a72:\n",
    "+ \tcase clang::ARC::BI__q7_to_int:\n",
    "+ \tcase clang::ARC::BI__q15_to_int:\n",
    "+ \tcase clang::ARC::BI__q31_to_int:\n",
    "+ \tcase clang::ARC::BI__a24_to_int:\n",
    "+ \tcase clang::ARC::BI__a40_to_int:\n",
    "+ \tcase clang::ARC::BI__a72_to_int:\n",
    "+ \t  return call->getArg(0)->isConstantInitializer(Ctx, false, Culprit);\n",
    "+ \tdefault: break;\n",
    "+ \t}\n",
    "+       }\n",
    "+     }\n",
    "+   } break;\n",
    "```"
   ]
  }
 ],
 "metadata": {
  "kernelspec": {
   "display_name": "Python 3",
   "language": "python",
   "name": "python3"
  },
  "language_info": {
   "codemirror_mode": {
    "name": "ipython",
    "version": 3
   },
   "file_extension": ".py",
   "mimetype": "text/x-python",
   "name": "python",
   "nbconvert_exporter": "python",
   "pygments_lexer": "ipython3",
   "version": "3.5.1"
  },
  "latex_envs": {
   "bibliofile": "biblio.bib",
   "cite_by": "apalike",
   "current_citInitial": 1,
   "eqLabelWithNumbers": true,
   "eqNumInitial": 0
  }
 },
 "nbformat": 4,
 "nbformat_minor": 0
}
