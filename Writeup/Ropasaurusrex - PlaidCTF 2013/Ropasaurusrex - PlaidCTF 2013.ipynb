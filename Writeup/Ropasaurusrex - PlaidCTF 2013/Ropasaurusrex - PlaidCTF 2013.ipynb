{
 "cells": [
  {
   "cell_type": "markdown",
   "metadata": {},
   "source": [
    "<h1 style=\"text-align : center; color:red\">Ropasaurusrex - PlaidCTF 2013</h1>"
   ]
  },
  {
   "cell_type": "markdown",
   "metadata": {},
   "source": [
    "# Identify the main() function\n",
    "We need to find the entry point of the program reading the header of the ELF file with **readelf**"
   ]
  },
  {
   "cell_type": "markdown",
   "metadata": {},
   "source": [
    "<img  src=\"GCDITIMSGK7C8B7UR2MWW68QK8FB9LB3.png\"/>\n",
    "\n",
    "In this case the entry point is at **0x8048340**. This address usually points to the location of the first chunk of code which will be executed at run time (**_start function**) and which will handle the main function parameters (or command line arguments) before calling the main function.\n",
    "\n",
    "We need to find the real entry point of main(). The file is stripped so we can use an heuristic to identify the entry point of the program because usually this address in a stripped file is identified by this pattern present in the **_start** function:\n",
    "```\n",
    "PUSH main_entry_point\n",
    "CALL __libc_start_main\n",
    "```\n",
    "Let's see this with IDA inspecting the **_start** function:\n"
   ]
  },
  {
   "cell_type": "markdown",
   "metadata": {},
   "source": [
    "<img  src=\"TTKS0HID27KYKIJD9KUJSVO6Q4HT8B6M.png\"/>"
   ]
  },
  {
   "cell_type": "markdown",
   "metadata": {
    "collapsed": true
   },
   "source": [
    "So we can conclude that the main entry point is at **0x0804841d**"
   ]
  },
  {
   "cell_type": "markdown",
   "metadata": {},
   "source": [
    "# Find the vulnerable function\n",
    "We can start by inspecting the main() function. \n",
    "\n",
    "Its references are depicted in this figure:\n"
   ]
  },
  {
   "cell_type": "markdown",
   "metadata": {},
   "source": [
    "<img  src=\"RRU9JEIYTY2A4T2XPD8M3693552NY81Y.png\"/>"
   ]
  },
  {
   "cell_type": "markdown",
   "metadata": {},
   "source": [
    "There is only one function (probably the vulnerable one) so let's inspect it. \n"
   ]
  },
  {
   "cell_type": "markdown",
   "metadata": {},
   "source": [
    "<img  src=\"U4IB3F03AIVSAU64Y34VD9HUBCJ4QN35.png\"/>"
   ]
  },
  {
   "cell_type": "markdown",
   "metadata": {},
   "source": [
    "This function only reads from stdin **256 bytes (100h)** and write this bytes into **buf**, but how long is buf?? we can see that the space reserved for buf is **ebp + buf --> ebp - 88h** so only 136 bytes!! (**BUFFER OVERFLOW DETECTED**).\n"
   ]
  },
  {
   "cell_type": "markdown",
   "metadata": {},
   "source": [
    "# Setup the environment\n",
    "We need to setup a proper exploiting and testing environment on our machine.\n",
    "- Enable core dumping after the crash of a program \n",
    "```bash\n",
    "ulimit -c unlimited\n",
    "```\n",
    "\n",
    "\n",
    "- Launch the executable as a service on a port, and relaunch it endlessly when crashes\n",
    "```bash\n",
    "while true; do nc -vv -l -p $2 -e $1; done\n",
    "```\n",
    "\n",
    "\n",
    "- write a simple python script to communicate with the service\n",
    "```python\n",
    "import socket\n",
    "s = socket.socket(socket.AF_INET, socket.SOCK_STREAM)\n",
    "s.connect((\"127.0.0.1\", 4444))\n",
    "buffer = \"Hello!\"\n",
    "s.send(buffer)\n",
    "res = s.recv(1024)\n",
    "print res\n",
    "```"
   ]
  },
  {
   "cell_type": "markdown",
   "metadata": {},
   "source": [
    "# Crash the program\n",
    "We need to find at which byte we can overwrite the return address. In order to do this we will use the utilities **pattern_reate.rb** and **pattern_offset.rb** of the metasploit-framework. \n",
    "\n",
    "Before "
   ]
  }
 ],
 "metadata": {
  "kernelspec": {
   "display_name": "Python 3",
   "language": "python",
   "name": "python3"
  },
  "language_info": {
   "codemirror_mode": {
    "name": "ipython",
    "version": 3
   },
   "file_extension": ".py",
   "mimetype": "text/x-python",
   "name": "python",
   "nbconvert_exporter": "python",
   "pygments_lexer": "ipython3",
   "version": "3.5.1"
  },
  "toc": {
   "toc_cell": false,
   "toc_number_sections": false,
   "toc_section_display": "none",
   "toc_threshold": 6,
   "toc_window_display": true
  }
 },
 "nbformat": 4,
 "nbformat_minor": 0
}
